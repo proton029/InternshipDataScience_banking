{
 "cells": [
  {
   "cell_type": "code",
   "execution_count": 1,
   "id": "afbd514e",
   "metadata": {},
   "outputs": [],
   "source": [
    "import matplotlib.pyplot as plt\n",
    "import pandas as pd\n",
    "import numpy as np"
   ]
  },
  {
   "cell_type": "code",
   "execution_count": 2,
   "id": "c0486832",
   "metadata": {},
   "outputs": [
    {
     "data": {
      "text/html": [
       "<div>\n",
       "<style scoped>\n",
       "    .dataframe tbody tr th:only-of-type {\n",
       "        vertical-align: middle;\n",
       "    }\n",
       "\n",
       "    .dataframe tbody tr th {\n",
       "        vertical-align: top;\n",
       "    }\n",
       "\n",
       "    .dataframe thead th {\n",
       "        text-align: right;\n",
       "    }\n",
       "</style>\n",
       "<table border=\"1\" class=\"dataframe\">\n",
       "  <thead>\n",
       "    <tr style=\"text-align: right;\">\n",
       "      <th></th>\n",
       "      <th>Loan_ID</th>\n",
       "      <th>Gender</th>\n",
       "      <th>Married</th>\n",
       "      <th>Dependents</th>\n",
       "      <th>Education</th>\n",
       "      <th>Self_Employed</th>\n",
       "      <th>ApplicantIncome</th>\n",
       "      <th>CoapplicantIncome</th>\n",
       "      <th>LoanAmount</th>\n",
       "      <th>Loan_Amount_Term</th>\n",
       "      <th>Credit_History</th>\n",
       "      <th>Property_Area</th>\n",
       "      <th>Loan_Status</th>\n",
       "    </tr>\n",
       "  </thead>\n",
       "  <tbody>\n",
       "    <tr>\n",
       "      <th>0</th>\n",
       "      <td>294853</td>\n",
       "      <td>Male</td>\n",
       "      <td>No</td>\n",
       "      <td>0</td>\n",
       "      <td>Graduate</td>\n",
       "      <td>No</td>\n",
       "      <td>1316025</td>\n",
       "      <td>0.0</td>\n",
       "      <td>250000</td>\n",
       "      <td>360.0</td>\n",
       "      <td>1.0</td>\n",
       "      <td>Urban</td>\n",
       "      <td>Y</td>\n",
       "    </tr>\n",
       "    <tr>\n",
       "      <th>1</th>\n",
       "      <td>162883</td>\n",
       "      <td>Male</td>\n",
       "      <td>Yes</td>\n",
       "      <td>1</td>\n",
       "      <td>Graduate</td>\n",
       "      <td>No</td>\n",
       "      <td>1031175</td>\n",
       "      <td>339300.0</td>\n",
       "      <td>256000</td>\n",
       "      <td>360.0</td>\n",
       "      <td>1.0</td>\n",
       "      <td>Rural</td>\n",
       "      <td>N</td>\n",
       "    </tr>\n",
       "    <tr>\n",
       "      <th>2</th>\n",
       "      <td>620668</td>\n",
       "      <td>Male</td>\n",
       "      <td>Yes</td>\n",
       "      <td>0</td>\n",
       "      <td>Graduate</td>\n",
       "      <td>Yes</td>\n",
       "      <td>675000</td>\n",
       "      <td>0.0</td>\n",
       "      <td>132000</td>\n",
       "      <td>360.0</td>\n",
       "      <td>1.0</td>\n",
       "      <td>Urban</td>\n",
       "      <td>Y</td>\n",
       "    </tr>\n",
       "    <tr>\n",
       "      <th>3</th>\n",
       "      <td>295747</td>\n",
       "      <td>Male</td>\n",
       "      <td>Yes</td>\n",
       "      <td>0</td>\n",
       "      <td>Not Graduate</td>\n",
       "      <td>No</td>\n",
       "      <td>581175</td>\n",
       "      <td>530550.0</td>\n",
       "      <td>240000</td>\n",
       "      <td>360.0</td>\n",
       "      <td>1.0</td>\n",
       "      <td>Urban</td>\n",
       "      <td>Y</td>\n",
       "    </tr>\n",
       "    <tr>\n",
       "      <th>4</th>\n",
       "      <td>133390</td>\n",
       "      <td>Male</td>\n",
       "      <td>No</td>\n",
       "      <td>0</td>\n",
       "      <td>Graduate</td>\n",
       "      <td>No</td>\n",
       "      <td>1350000</td>\n",
       "      <td>0.0</td>\n",
       "      <td>282000</td>\n",
       "      <td>360.0</td>\n",
       "      <td>1.0</td>\n",
       "      <td>Urban</td>\n",
       "      <td>Y</td>\n",
       "    </tr>\n",
       "  </tbody>\n",
       "</table>\n",
       "</div>"
      ],
      "text/plain": [
       "   Loan_ID Gender Married Dependents     Education Self_Employed  \\\n",
       "0   294853   Male      No          0      Graduate            No   \n",
       "1   162883   Male     Yes          1      Graduate            No   \n",
       "2   620668   Male     Yes          0      Graduate           Yes   \n",
       "3   295747   Male     Yes          0  Not Graduate            No   \n",
       "4   133390   Male      No          0      Graduate            No   \n",
       "\n",
       "   ApplicantIncome  CoapplicantIncome  LoanAmount  Loan_Amount_Term  \\\n",
       "0          1316025                0.0      250000             360.0   \n",
       "1          1031175           339300.0      256000             360.0   \n",
       "2           675000                0.0      132000             360.0   \n",
       "3           581175           530550.0      240000             360.0   \n",
       "4          1350000                0.0      282000             360.0   \n",
       "\n",
       "   Credit_History Property_Area Loan_Status  \n",
       "0             1.0         Urban           Y  \n",
       "1             1.0         Rural           N  \n",
       "2             1.0         Urban           Y  \n",
       "3             1.0         Urban           Y  \n",
       "4             1.0         Urban           Y  "
      ]
     },
     "execution_count": 2,
     "metadata": {},
     "output_type": "execute_result"
    }
   ],
   "source": [
    "df = pd.read_excel('Consumer creditworthiness train data.xlsx') #reading the data \n",
    "df.head()"
   ]
  },
  {
   "cell_type": "code",
   "execution_count": 3,
   "id": "25e007a2",
   "metadata": {},
   "outputs": [
    {
     "name": "stdout",
     "output_type": "stream",
     "text": [
      "<class 'pandas.core.frame.DataFrame'>\n",
      "RangeIndex: 521 entries, 0 to 520\n",
      "Data columns (total 13 columns):\n",
      " #   Column             Non-Null Count  Dtype  \n",
      "---  ------             --------------  -----  \n",
      " 0   Loan_ID            521 non-null    int64  \n",
      " 1   Gender             511 non-null    object \n",
      " 2   Married            518 non-null    object \n",
      " 3   Dependents         508 non-null    object \n",
      " 4   Education          521 non-null    object \n",
      " 5   Self_Employed      494 non-null    object \n",
      " 6   ApplicantIncome    521 non-null    int64  \n",
      " 7   CoapplicantIncome  521 non-null    float64\n",
      " 8   LoanAmount         521 non-null    int64  \n",
      " 9   Loan_Amount_Term   507 non-null    float64\n",
      " 10  Credit_History     478 non-null    float64\n",
      " 11  Property_Area      521 non-null    object \n",
      " 12  Loan_Status        521 non-null    object \n",
      "dtypes: float64(3), int64(3), object(7)\n",
      "memory usage: 53.0+ KB\n"
     ]
    }
   ],
   "source": [
    "df.info()"
   ]
  },
  {
   "cell_type": "markdown",
   "id": "a4333a93",
   "metadata": {},
   "source": [
    "## lets check for null values if any"
   ]
  },
  {
   "cell_type": "code",
   "execution_count": 4,
   "id": "9230855a",
   "metadata": {},
   "outputs": [
    {
     "data": {
      "text/plain": [
       "Loan_ID               0\n",
       "Gender               10\n",
       "Married               3\n",
       "Dependents           13\n",
       "Education             0\n",
       "Self_Employed        27\n",
       "ApplicantIncome       0\n",
       "CoapplicantIncome     0\n",
       "LoanAmount            0\n",
       "Loan_Amount_Term     14\n",
       "Credit_History       43\n",
       "Property_Area         0\n",
       "Loan_Status           0\n",
       "dtype: int64"
      ]
     },
     "execution_count": 4,
     "metadata": {},
     "output_type": "execute_result"
    }
   ],
   "source": [
    "df.isnull().sum()"
   ]
  },
  {
   "cell_type": "markdown",
   "id": "13aef0e2",
   "metadata": {},
   "source": [
    "-  The above shows that some of the features does misses values\n",
    "- It would be usefull to see these missing numbers in ration/% form to understand better how much impact does these missing values affect the data set"
   ]
  },
  {
   "cell_type": "code",
   "execution_count": 5,
   "id": "74ddda19",
   "metadata": {},
   "outputs": [],
   "source": [
    "def percent_missing(df):\n",
    "    percent_misg = 100*df.isnull().sum()/len(df)\n",
    "    percent_misg = percent_misg[percent_misg>0].sort_values()\n",
    "    \n",
    "    return percent_misg\n",
    "\n",
    "#just converting into percent missing"
   ]
  },
  {
   "cell_type": "code",
   "execution_count": 6,
   "id": "d3973d7c",
   "metadata": {},
   "outputs": [
    {
     "data": {
      "text/plain": [
       "Married             0.575816\n",
       "Gender              1.919386\n",
       "Dependents          2.495202\n",
       "Loan_Amount_Term    2.687140\n",
       "Self_Employed       5.182342\n",
       "Credit_History      8.253359\n",
       "dtype: float64"
      ]
     },
     "execution_count": 6,
     "metadata": {},
     "output_type": "execute_result"
    }
   ],
   "source": [
    "percent_misg = percent_missing(df)\n",
    "percent_misg"
   ]
  },
  {
   "cell_type": "markdown",
   "id": "4bbaa610",
   "metadata": {},
   "source": [
    "- **Seems like credit history and self employed among those with a considerable missing values**"
   ]
  },
  {
   "cell_type": "markdown",
   "id": "56d17351",
   "metadata": {},
   "source": [
    "### Lets plot the % missing"
   ]
  },
  {
   "cell_type": "code",
   "execution_count": 7,
   "id": "dbc69400",
   "metadata": {},
   "outputs": [],
   "source": [
    "import seaborn as sns\n",
    "import matplotlib.pyplot as plt"
   ]
  },
  {
   "cell_type": "code",
   "execution_count": 8,
   "id": "ddfe0797",
   "metadata": {},
   "outputs": [
    {
     "data": {
      "image/png": "[encoded data removed]",
      "text/plain": [
       "<Figure size 1000x800 with 1 Axes>"
      ]
     },
     "metadata": {},
     "output_type": "display_data"
    }
   ],
   "source": [
    "plt.figure(figsize=(10,8),dpi=100)\n",
    "sns.barplot(x=percent_misg.index, y=percent_misg)\n",
    "plt.xticks(rotation=90);"
   ]
  },
  {
   "cell_type": "markdown",
   "id": "284cba83",
   "metadata": {},
   "source": [
    "- **From above observations we suggest**\n",
    "    - The observations which which have a missing % less than 1% can be removed.\n",
    "    - Married have <1% missing and remvoving it will have negligible effect on the data"
   ]
  },
  {
   "cell_type": "code",
   "execution_count": 9,
   "id": "2d935dc6",
   "metadata": {},
   "outputs": [
    {
     "data": {
      "text/html": [
       "<div>\n",
       "<style scoped>\n",
       "    .dataframe tbody tr th:only-of-type {\n",
       "        vertical-align: middle;\n",
       "    }\n",
       "\n",
       "    .dataframe tbody tr th {\n",
       "        vertical-align: top;\n",
       "    }\n",
       "\n",
       "    .dataframe thead th {\n",
       "        text-align: right;\n",
       "    }\n",
       "</style>\n",
       "<table border=\"1\" class=\"dataframe\">\n",
       "  <thead>\n",
       "    <tr style=\"text-align: right;\">\n",
       "      <th></th>\n",
       "      <th>Loan_ID</th>\n",
       "      <th>Gender</th>\n",
       "      <th>Married</th>\n",
       "      <th>Dependents</th>\n",
       "      <th>Education</th>\n",
       "      <th>Self_Employed</th>\n",
       "      <th>ApplicantIncome</th>\n",
       "      <th>CoapplicantIncome</th>\n",
       "      <th>LoanAmount</th>\n",
       "      <th>Loan_Amount_Term</th>\n",
       "      <th>Credit_History</th>\n",
       "      <th>Property_Area</th>\n",
       "      <th>Loan_Status</th>\n",
       "    </tr>\n",
       "  </thead>\n",
       "  <tbody>\n",
       "    <tr>\n",
       "      <th>104</th>\n",
       "      <td>114100</td>\n",
       "      <td>Male</td>\n",
       "      <td>NaN</td>\n",
       "      <td>NaN</td>\n",
       "      <td>Graduate</td>\n",
       "      <td>No</td>\n",
       "      <td>858600</td>\n",
       "      <td>169650.0</td>\n",
       "      <td>320000</td>\n",
       "      <td>360.0</td>\n",
       "      <td>1.0</td>\n",
       "      <td>Urban</td>\n",
       "      <td>Y</td>\n",
       "    </tr>\n",
       "    <tr>\n",
       "      <th>228</th>\n",
       "      <td>133107</td>\n",
       "      <td>Male</td>\n",
       "      <td>NaN</td>\n",
       "      <td>NaN</td>\n",
       "      <td>Graduate</td>\n",
       "      <td>No</td>\n",
       "      <td>1070550</td>\n",
       "      <td>0.0</td>\n",
       "      <td>316000</td>\n",
       "      <td>480.0</td>\n",
       "      <td>1.0</td>\n",
       "      <td>Semiurban</td>\n",
       "      <td>Y</td>\n",
       "    </tr>\n",
       "    <tr>\n",
       "      <th>435</th>\n",
       "      <td>579487</td>\n",
       "      <td>Female</td>\n",
       "      <td>NaN</td>\n",
       "      <td>NaN</td>\n",
       "      <td>Graduate</td>\n",
       "      <td>No</td>\n",
       "      <td>2260575</td>\n",
       "      <td>0.0</td>\n",
       "      <td>0</td>\n",
       "      <td>240.0</td>\n",
       "      <td>1.0</td>\n",
       "      <td>Semiurban</td>\n",
       "      <td>Y</td>\n",
       "    </tr>\n",
       "  </tbody>\n",
       "</table>\n",
       "</div>"
      ],
      "text/plain": [
       "     Loan_ID  Gender Married Dependents Education Self_Employed  \\\n",
       "104   114100    Male     NaN        NaN  Graduate            No   \n",
       "228   133107    Male     NaN        NaN  Graduate            No   \n",
       "435   579487  Female     NaN        NaN  Graduate            No   \n",
       "\n",
       "     ApplicantIncome  CoapplicantIncome  LoanAmount  Loan_Amount_Term  \\\n",
       "104           858600           169650.0      320000             360.0   \n",
       "228          1070550                0.0      316000             480.0   \n",
       "435          2260575                0.0           0             240.0   \n",
       "\n",
       "     Credit_History Property_Area Loan_Status  \n",
       "104             1.0         Urban           Y  \n",
       "228             1.0     Semiurban           Y  \n",
       "435             1.0     Semiurban           Y  "
      ]
     },
     "execution_count": 9,
     "metadata": {},
     "output_type": "execute_result"
    }
   ],
   "source": [
    "df.loc[(df['Married'].isnull())]"
   ]
  },
  {
   "cell_type": "markdown",
   "id": "3dded58b",
   "metadata": {},
   "source": [
    "**From the above sample of data with Married is having a missing values the dependents are also missing**\n",
    " - Therefore We cannot fill the married column using any other feature available to us\n",
    " - So it is logical to remove these 3 observations"
   ]
  },
  {
   "cell_type": "code",
   "execution_count": 10,
   "id": "348e6a13",
   "metadata": {},
   "outputs": [],
   "source": [
    "#dropping these rows for Married is null\n",
    "df.dropna(axis=0, subset=['Married'], inplace=True)"
   ]
  },
  {
   "cell_type": "markdown",
   "id": "c330f473",
   "metadata": {},
   "source": [
    "### Since Loan_ID is unique to each loan application and is not a factor that influencing the creditworthiness of the applicant we can remove the entire column. Also we already have index numbers to identify an Observation"
   ]
  },
  {
   "cell_type": "code",
   "execution_count": 11,
   "id": "fb18b1bc",
   "metadata": {},
   "outputs": [],
   "source": [
    "df = df.drop('Loan_ID', axis=1)"
   ]
  },
  {
   "cell_type": "code",
   "execution_count": 12,
   "id": "1bc80bf9",
   "metadata": {},
   "outputs": [
    {
     "data": {
      "text/html": [
       "<div>\n",
       "<style scoped>\n",
       "    .dataframe tbody tr th:only-of-type {\n",
       "        vertical-align: middle;\n",
       "    }\n",
       "\n",
       "    .dataframe tbody tr th {\n",
       "        vertical-align: top;\n",
       "    }\n",
       "\n",
       "    .dataframe thead th {\n",
       "        text-align: right;\n",
       "    }\n",
       "</style>\n",
       "<table border=\"1\" class=\"dataframe\">\n",
       "  <thead>\n",
       "    <tr style=\"text-align: right;\">\n",
       "      <th></th>\n",
       "      <th>Gender</th>\n",
       "      <th>Married</th>\n",
       "      <th>Dependents</th>\n",
       "      <th>Education</th>\n",
       "      <th>Self_Employed</th>\n",
       "      <th>ApplicantIncome</th>\n",
       "      <th>CoapplicantIncome</th>\n",
       "      <th>LoanAmount</th>\n",
       "      <th>Loan_Amount_Term</th>\n",
       "      <th>Credit_History</th>\n",
       "      <th>Property_Area</th>\n",
       "      <th>Loan_Status</th>\n",
       "    </tr>\n",
       "  </thead>\n",
       "  <tbody>\n",
       "    <tr>\n",
       "      <th>0</th>\n",
       "      <td>Male</td>\n",
       "      <td>No</td>\n",
       "      <td>0</td>\n",
       "      <td>Graduate</td>\n",
       "      <td>No</td>\n",
       "      <td>1316025</td>\n",
       "      <td>0.0</td>\n",
       "      <td>250000</td>\n",
       "      <td>360.0</td>\n",
       "      <td>1.0</td>\n",
       "      <td>Urban</td>\n",
       "      <td>Y</td>\n",
       "    </tr>\n",
       "    <tr>\n",
       "      <th>1</th>\n",
       "      <td>Male</td>\n",
       "      <td>Yes</td>\n",
       "      <td>1</td>\n",
       "      <td>Graduate</td>\n",
       "      <td>No</td>\n",
       "      <td>1031175</td>\n",
       "      <td>339300.0</td>\n",
       "      <td>256000</td>\n",
       "      <td>360.0</td>\n",
       "      <td>1.0</td>\n",
       "      <td>Rural</td>\n",
       "      <td>N</td>\n",
       "    </tr>\n",
       "    <tr>\n",
       "      <th>2</th>\n",
       "      <td>Male</td>\n",
       "      <td>Yes</td>\n",
       "      <td>0</td>\n",
       "      <td>Graduate</td>\n",
       "      <td>Yes</td>\n",
       "      <td>675000</td>\n",
       "      <td>0.0</td>\n",
       "      <td>132000</td>\n",
       "      <td>360.0</td>\n",
       "      <td>1.0</td>\n",
       "      <td>Urban</td>\n",
       "      <td>Y</td>\n",
       "    </tr>\n",
       "    <tr>\n",
       "      <th>3</th>\n",
       "      <td>Male</td>\n",
       "      <td>Yes</td>\n",
       "      <td>0</td>\n",
       "      <td>Not Graduate</td>\n",
       "      <td>No</td>\n",
       "      <td>581175</td>\n",
       "      <td>530550.0</td>\n",
       "      <td>240000</td>\n",
       "      <td>360.0</td>\n",
       "      <td>1.0</td>\n",
       "      <td>Urban</td>\n",
       "      <td>Y</td>\n",
       "    </tr>\n",
       "    <tr>\n",
       "      <th>4</th>\n",
       "      <td>Male</td>\n",
       "      <td>No</td>\n",
       "      <td>0</td>\n",
       "      <td>Graduate</td>\n",
       "      <td>No</td>\n",
       "      <td>1350000</td>\n",
       "      <td>0.0</td>\n",
       "      <td>282000</td>\n",
       "      <td>360.0</td>\n",
       "      <td>1.0</td>\n",
       "      <td>Urban</td>\n",
       "      <td>Y</td>\n",
       "    </tr>\n",
       "  </tbody>\n",
       "</table>\n",
       "</div>"
      ],
      "text/plain": [
       "  Gender Married Dependents     Education Self_Employed  ApplicantIncome  \\\n",
       "0   Male      No          0      Graduate            No          1316025   \n",
       "1   Male     Yes          1      Graduate            No          1031175   \n",
       "2   Male     Yes          0      Graduate           Yes           675000   \n",
       "3   Male     Yes          0  Not Graduate            No           581175   \n",
       "4   Male      No          0      Graduate            No          1350000   \n",
       "\n",
       "   CoapplicantIncome  LoanAmount  Loan_Amount_Term  Credit_History  \\\n",
       "0                0.0      250000             360.0             1.0   \n",
       "1           339300.0      256000             360.0             1.0   \n",
       "2                0.0      132000             360.0             1.0   \n",
       "3           530550.0      240000             360.0             1.0   \n",
       "4                0.0      282000             360.0             1.0   \n",
       "\n",
       "  Property_Area Loan_Status  \n",
       "0         Urban           Y  \n",
       "1         Rural           N  \n",
       "2         Urban           Y  \n",
       "3         Urban           Y  \n",
       "4         Urban           Y  "
      ]
     },
     "execution_count": 12,
     "metadata": {},
     "output_type": "execute_result"
    }
   ],
   "source": [
    "df.head()"
   ]
  },
  {
   "cell_type": "code",
   "execution_count": 13,
   "id": "5e7b0b52",
   "metadata": {},
   "outputs": [],
   "source": [
    "# # Lets continue with missing values\n",
    "# plt.figure(figsize=(10,8),dpi=100)\n",
    "# sns.barplot(x=percent_misg.index, y=percent_misg)\n",
    "# plt.xticks(rotation=90);"
   ]
  },
  {
   "cell_type": "code",
   "execution_count": 14,
   "id": "42d2bcbd",
   "metadata": {},
   "outputs": [
    {
     "data": {
      "text/html": [
       "<div>\n",
       "<style scoped>\n",
       "    .dataframe tbody tr th:only-of-type {\n",
       "        vertical-align: middle;\n",
       "    }\n",
       "\n",
       "    .dataframe tbody tr th {\n",
       "        vertical-align: top;\n",
       "    }\n",
       "\n",
       "    .dataframe thead th {\n",
       "        text-align: right;\n",
       "    }\n",
       "</style>\n",
       "<table border=\"1\" class=\"dataframe\">\n",
       "  <thead>\n",
       "    <tr style=\"text-align: right;\">\n",
       "      <th></th>\n",
       "      <th>Gender</th>\n",
       "      <th>Married</th>\n",
       "      <th>Dependents</th>\n",
       "      <th>Education</th>\n",
       "      <th>Self_Employed</th>\n",
       "      <th>ApplicantIncome</th>\n",
       "      <th>CoapplicantIncome</th>\n",
       "      <th>LoanAmount</th>\n",
       "      <th>Loan_Amount_Term</th>\n",
       "      <th>Credit_History</th>\n",
       "      <th>Property_Area</th>\n",
       "      <th>Loan_Status</th>\n",
       "    </tr>\n",
       "  </thead>\n",
       "  <tbody>\n",
       "    <tr>\n",
       "      <th>130</th>\n",
       "      <td>Male</td>\n",
       "      <td>No</td>\n",
       "      <td>0</td>\n",
       "      <td>Graduate</td>\n",
       "      <td>Yes</td>\n",
       "      <td>4537350</td>\n",
       "      <td>0.0</td>\n",
       "      <td>1300000</td>\n",
       "      <td>480.0</td>\n",
       "      <td>NaN</td>\n",
       "      <td>Urban</td>\n",
       "      <td>Y</td>\n",
       "    </tr>\n",
       "  </tbody>\n",
       "</table>\n",
       "</div>"
      ],
      "text/plain": [
       "    Gender Married Dependents Education Self_Employed  ApplicantIncome  \\\n",
       "130   Male      No          0  Graduate           Yes          4537350   \n",
       "\n",
       "     CoapplicantIncome  LoanAmount  Loan_Amount_Term  Credit_History  \\\n",
       "130                0.0     1300000             480.0             NaN   \n",
       "\n",
       "    Property_Area Loan_Status  \n",
       "130         Urban           Y  "
      ]
     },
     "execution_count": 14,
     "metadata": {},
     "output_type": "execute_result"
    }
   ],
   "source": [
    "df.loc[(df['Loan_Amount_Term']>400) & (df['Self_Employed']=='Yes')&(df['Loan_Status']=='Y')]"
   ]
  },
  {
   "cell_type": "markdown",
   "id": "0747b1c1",
   "metadata": {},
   "source": [
    "**There is only one self employed person who  have a tenure > 400**"
   ]
  },
  {
   "cell_type": "code",
   "execution_count": 55,
   "id": "ba9ee28c",
   "metadata": {},
   "outputs": [],
   "source": [
    "# df.loc[ (df['ApplicantIncome']>df['LoanAmount'])& (df['Loan_Status']=='Y')& (df['Credit_History'].isnull())]"
   ]
  },
  {
   "cell_type": "markdown",
   "id": "81f83f80",
   "metadata": {},
   "source": [
    "**It seems from above observation there is no person with 0 credit history having thier Income greater than loan amount with a Y loan status**"
   ]
  },
  {
   "cell_type": "code",
   "execution_count": 16,
   "id": "6a434638",
   "metadata": {},
   "outputs": [],
   "source": [
    "df.loc[ (df['ApplicantIncome']>df['LoanAmount'])& (df['Loan_Status']=='Y')& (df['Credit_History'].isnull()),'Credit_History']=1"
   ]
  },
  {
   "cell_type": "markdown",
   "id": "b8c1642d",
   "metadata": {},
   "source": [
    "We are filling those missing data in credit history with 1"
   ]
  },
  {
   "cell_type": "code",
   "execution_count": 17,
   "id": "e146c6a3",
   "metadata": {},
   "outputs": [],
   "source": [
    "percent_misg = percent_missing(df)"
   ]
  },
  {
   "cell_type": "code",
   "execution_count": 18,
   "id": "af54c8da",
   "metadata": {},
   "outputs": [],
   "source": [
    "# plt.figure(figsize=(10,8),dpi=100)\n",
    "# sns.barplot(x=percent_misg.index, y=percent_misg)\n",
    "# plt.xticks(rotation=90);"
   ]
  },
  {
   "cell_type": "code",
   "execution_count": 19,
   "id": "9585c7b4",
   "metadata": {},
   "outputs": [
    {
     "data": {
      "text/html": [
       "<div>\n",
       "<style scoped>\n",
       "    .dataframe tbody tr th:only-of-type {\n",
       "        vertical-align: middle;\n",
       "    }\n",
       "\n",
       "    .dataframe tbody tr th {\n",
       "        vertical-align: top;\n",
       "    }\n",
       "\n",
       "    .dataframe thead th {\n",
       "        text-align: right;\n",
       "    }\n",
       "</style>\n",
       "<table border=\"1\" class=\"dataframe\">\n",
       "  <thead>\n",
       "    <tr style=\"text-align: right;\">\n",
       "      <th></th>\n",
       "      <th>Gender</th>\n",
       "      <th>Married</th>\n",
       "      <th>Dependents</th>\n",
       "      <th>Education</th>\n",
       "      <th>Self_Employed</th>\n",
       "      <th>ApplicantIncome</th>\n",
       "      <th>CoapplicantIncome</th>\n",
       "      <th>LoanAmount</th>\n",
       "      <th>Loan_Amount_Term</th>\n",
       "      <th>Credit_History</th>\n",
       "      <th>Property_Area</th>\n",
       "      <th>Loan_Status</th>\n",
       "    </tr>\n",
       "  </thead>\n",
       "  <tbody>\n",
       "    <tr>\n",
       "      <th>122</th>\n",
       "      <td>Female</td>\n",
       "      <td>No</td>\n",
       "      <td>0</td>\n",
       "      <td>Graduate</td>\n",
       "      <td>No</td>\n",
       "      <td>480825</td>\n",
       "      <td>2020500.0</td>\n",
       "      <td>274000</td>\n",
       "      <td>360.0</td>\n",
       "      <td>0.0</td>\n",
       "      <td>Semiurban</td>\n",
       "      <td>Y</td>\n",
       "    </tr>\n",
       "    <tr>\n",
       "      <th>155</th>\n",
       "      <td>Male</td>\n",
       "      <td>Yes</td>\n",
       "      <td>3+</td>\n",
       "      <td>Graduate</td>\n",
       "      <td>No</td>\n",
       "      <td>8999775</td>\n",
       "      <td>0.0</td>\n",
       "      <td>1200000</td>\n",
       "      <td>180.0</td>\n",
       "      <td>0.0</td>\n",
       "      <td>Semiurban</td>\n",
       "      <td>Y</td>\n",
       "    </tr>\n",
       "    <tr>\n",
       "      <th>201</th>\n",
       "      <td>Male</td>\n",
       "      <td>No</td>\n",
       "      <td>2</td>\n",
       "      <td>Graduate</td>\n",
       "      <td>No</td>\n",
       "      <td>1107675</td>\n",
       "      <td>0.0</td>\n",
       "      <td>332000</td>\n",
       "      <td>360.0</td>\n",
       "      <td>0.0</td>\n",
       "      <td>Semiurban</td>\n",
       "      <td>Y</td>\n",
       "    </tr>\n",
       "    <tr>\n",
       "      <th>267</th>\n",
       "      <td>Male</td>\n",
       "      <td>Yes</td>\n",
       "      <td>3+</td>\n",
       "      <td>Graduate</td>\n",
       "      <td>No</td>\n",
       "      <td>974925</td>\n",
       "      <td>407475.0</td>\n",
       "      <td>320000</td>\n",
       "      <td>360.0</td>\n",
       "      <td>0.0</td>\n",
       "      <td>Urban</td>\n",
       "      <td>Y</td>\n",
       "    </tr>\n",
       "    <tr>\n",
       "      <th>326</th>\n",
       "      <td>Male</td>\n",
       "      <td>No</td>\n",
       "      <td>0</td>\n",
       "      <td>Graduate</td>\n",
       "      <td>No</td>\n",
       "      <td>1106325</td>\n",
       "      <td>0.0</td>\n",
       "      <td>260000</td>\n",
       "      <td>360.0</td>\n",
       "      <td>0.0</td>\n",
       "      <td>Rural</td>\n",
       "      <td>Y</td>\n",
       "    </tr>\n",
       "    <tr>\n",
       "      <th>453</th>\n",
       "      <td>Male</td>\n",
       "      <td>Yes</td>\n",
       "      <td>0</td>\n",
       "      <td>Graduate</td>\n",
       "      <td>No</td>\n",
       "      <td>558675</td>\n",
       "      <td>554850.0</td>\n",
       "      <td>180000</td>\n",
       "      <td>180.0</td>\n",
       "      <td>0.0</td>\n",
       "      <td>Rural</td>\n",
       "      <td>Y</td>\n",
       "    </tr>\n",
       "  </tbody>\n",
       "</table>\n",
       "</div>"
      ],
      "text/plain": [
       "     Gender Married Dependents Education Self_Employed  ApplicantIncome  \\\n",
       "122  Female      No          0  Graduate            No           480825   \n",
       "155    Male     Yes         3+  Graduate            No          8999775   \n",
       "201    Male      No          2  Graduate            No          1107675   \n",
       "267    Male     Yes         3+  Graduate            No           974925   \n",
       "326    Male      No          0  Graduate            No          1106325   \n",
       "453    Male     Yes          0  Graduate            No           558675   \n",
       "\n",
       "     CoapplicantIncome  LoanAmount  Loan_Amount_Term  Credit_History  \\\n",
       "122          2020500.0      274000             360.0             0.0   \n",
       "155                0.0     1200000             180.0             0.0   \n",
       "201                0.0      332000             360.0             0.0   \n",
       "267           407475.0      320000             360.0             0.0   \n",
       "326                0.0      260000             360.0             0.0   \n",
       "453           554850.0      180000             180.0             0.0   \n",
       "\n",
       "    Property_Area Loan_Status  \n",
       "122     Semiurban           Y  \n",
       "155     Semiurban           Y  \n",
       "201     Semiurban           Y  \n",
       "267         Urban           Y  \n",
       "326         Rural           Y  \n",
       "453         Rural           Y  "
      ]
     },
     "execution_count": 19,
     "metadata": {},
     "output_type": "execute_result"
    }
   ],
   "source": [
    "df.loc[(df['Loan_Status']=='Y')&(df['Credit_History']==0)]"
   ]
  },
  {
   "cell_type": "markdown",
   "id": "e3bd8630",
   "metadata": {},
   "source": [
    "Seems like there are lot many entries of accepted loans with a postive credit history than with 0 credit history. From this insight we can fill the missing values of credit historys"
   ]
  },
  {
   "cell_type": "code",
   "execution_count": 20,
   "id": "970d8ae1",
   "metadata": {},
   "outputs": [],
   "source": [
    "df.loc[(df['Loan_Status']=='N')&(df['Credit_History'].isnull()),'Credit_History']=0"
   ]
  },
  {
   "cell_type": "code",
   "execution_count": 21,
   "id": "e682448b",
   "metadata": {},
   "outputs": [],
   "source": [
    "# percent_misg = percent_missing(df)\n",
    "# plt.figure(figsize=(10,8),dpi=100)\n",
    "# sns.barplot(x=percent_misg.index, y=percent_misg)\n",
    "# plt.xticks(rotation=90);"
   ]
  },
  {
   "cell_type": "markdown",
   "id": "ca3c17ff",
   "metadata": {},
   "source": [
    "Credit history has been removed"
   ]
  },
  {
   "cell_type": "code",
   "execution_count": 22,
   "id": "b08cbc66",
   "metadata": {},
   "outputs": [
    {
     "data": {
      "text/html": [
       "<div>\n",
       "<style scoped>\n",
       "    .dataframe tbody tr th:only-of-type {\n",
       "        vertical-align: middle;\n",
       "    }\n",
       "\n",
       "    .dataframe tbody tr th {\n",
       "        vertical-align: top;\n",
       "    }\n",
       "\n",
       "    .dataframe thead th {\n",
       "        text-align: right;\n",
       "    }\n",
       "</style>\n",
       "<table border=\"1\" class=\"dataframe\">\n",
       "  <thead>\n",
       "    <tr style=\"text-align: right;\">\n",
       "      <th></th>\n",
       "      <th>Gender</th>\n",
       "      <th>Married</th>\n",
       "      <th>Dependents</th>\n",
       "      <th>Education</th>\n",
       "      <th>Self_Employed</th>\n",
       "      <th>ApplicantIncome</th>\n",
       "      <th>CoapplicantIncome</th>\n",
       "      <th>LoanAmount</th>\n",
       "      <th>Loan_Amount_Term</th>\n",
       "      <th>Credit_History</th>\n",
       "      <th>Property_Area</th>\n",
       "      <th>Loan_Status</th>\n",
       "    </tr>\n",
       "  </thead>\n",
       "  <tbody>\n",
       "  </tbody>\n",
       "</table>\n",
       "</div>"
      ],
      "text/plain": [
       "Empty DataFrame\n",
       "Columns: [Gender, Married, Dependents, Education, Self_Employed, ApplicantIncome, CoapplicantIncome, LoanAmount, Loan_Amount_Term, Credit_History, Property_Area, Loan_Status]\n",
       "Index: []"
      ]
     },
     "execution_count": 22,
     "metadata": {},
     "output_type": "execute_result"
    }
   ],
   "source": [
    "df.loc[(df['Gender'].isnull())&(df['Dependents'].isnull())&(df['Loan_Amount_Term'].isnull())&(df['Self_Employed'].isnull())]"
   ]
  },
  {
   "cell_type": "code",
   "execution_count": 23,
   "id": "6344f728",
   "metadata": {},
   "outputs": [
    {
     "data": {
      "text/plain": [
       "(518, 12)"
      ]
     },
     "execution_count": 23,
     "metadata": {},
     "output_type": "execute_result"
    }
   ],
   "source": [
    "df.shape"
   ]
  },
  {
   "cell_type": "code",
   "execution_count": 24,
   "id": "03fb00ff",
   "metadata": {},
   "outputs": [
    {
     "data": {
      "text/html": [
       "<div>\n",
       "<style scoped>\n",
       "    .dataframe tbody tr th:only-of-type {\n",
       "        vertical-align: middle;\n",
       "    }\n",
       "\n",
       "    .dataframe tbody tr th {\n",
       "        vertical-align: top;\n",
       "    }\n",
       "\n",
       "    .dataframe thead th {\n",
       "        text-align: right;\n",
       "    }\n",
       "</style>\n",
       "<table border=\"1\" class=\"dataframe\">\n",
       "  <thead>\n",
       "    <tr style=\"text-align: right;\">\n",
       "      <th></th>\n",
       "      <th>Gender</th>\n",
       "      <th>Married</th>\n",
       "      <th>Dependents</th>\n",
       "      <th>Education</th>\n",
       "      <th>Self_Employed</th>\n",
       "      <th>ApplicantIncome</th>\n",
       "      <th>CoapplicantIncome</th>\n",
       "      <th>LoanAmount</th>\n",
       "      <th>Loan_Amount_Term</th>\n",
       "      <th>Credit_History</th>\n",
       "      <th>Property_Area</th>\n",
       "      <th>Loan_Status</th>\n",
       "    </tr>\n",
       "  </thead>\n",
       "  <tbody>\n",
       "    <tr>\n",
       "      <th>130</th>\n",
       "      <td>Male</td>\n",
       "      <td>No</td>\n",
       "      <td>0</td>\n",
       "      <td>Graduate</td>\n",
       "      <td>Yes</td>\n",
       "      <td>4537350</td>\n",
       "      <td>0.0</td>\n",
       "      <td>1300000</td>\n",
       "      <td>480.0</td>\n",
       "      <td>1.0</td>\n",
       "      <td>Urban</td>\n",
       "      <td>Y</td>\n",
       "    </tr>\n",
       "  </tbody>\n",
       "</table>\n",
       "</div>"
      ],
      "text/plain": [
       "    Gender Married Dependents Education Self_Employed  ApplicantIncome  \\\n",
       "130   Male      No          0  Graduate           Yes          4537350   \n",
       "\n",
       "     CoapplicantIncome  LoanAmount  Loan_Amount_Term  Credit_History  \\\n",
       "130                0.0     1300000             480.0             1.0   \n",
       "\n",
       "    Property_Area Loan_Status  \n",
       "130         Urban           Y  "
      ]
     },
     "execution_count": 24,
     "metadata": {},
     "output_type": "execute_result"
    }
   ],
   "source": [
    "df.loc[(df['Self_Employed']=='Yes')&(df['Loan_Amount_Term']>400)]"
   ]
  },
  {
   "cell_type": "code",
   "execution_count": 25,
   "id": "38cf3230",
   "metadata": {},
   "outputs": [
    {
     "data": {
      "text/html": [
       "<div>\n",
       "<style scoped>\n",
       "    .dataframe tbody tr th:only-of-type {\n",
       "        vertical-align: middle;\n",
       "    }\n",
       "\n",
       "    .dataframe tbody tr th {\n",
       "        vertical-align: top;\n",
       "    }\n",
       "\n",
       "    .dataframe thead th {\n",
       "        text-align: right;\n",
       "    }\n",
       "</style>\n",
       "<table border=\"1\" class=\"dataframe\">\n",
       "  <thead>\n",
       "    <tr style=\"text-align: right;\">\n",
       "      <th></th>\n",
       "      <th>Gender</th>\n",
       "      <th>Married</th>\n",
       "      <th>Dependents</th>\n",
       "      <th>Education</th>\n",
       "      <th>Self_Employed</th>\n",
       "      <th>ApplicantIncome</th>\n",
       "      <th>CoapplicantIncome</th>\n",
       "      <th>LoanAmount</th>\n",
       "      <th>Loan_Amount_Term</th>\n",
       "      <th>Credit_History</th>\n",
       "      <th>Property_Area</th>\n",
       "      <th>Loan_Status</th>\n",
       "    </tr>\n",
       "  </thead>\n",
       "  <tbody>\n",
       "    <tr>\n",
       "      <th>44</th>\n",
       "      <td>Male</td>\n",
       "      <td>Yes</td>\n",
       "      <td>0</td>\n",
       "      <td>Not Graduate</td>\n",
       "      <td>Yes</td>\n",
       "      <td>1056375</td>\n",
       "      <td>0.0</td>\n",
       "      <td>192000</td>\n",
       "      <td>NaN</td>\n",
       "      <td>1.0</td>\n",
       "      <td>Urban</td>\n",
       "      <td>Y</td>\n",
       "    </tr>\n",
       "    <tr>\n",
       "      <th>335</th>\n",
       "      <td>Male</td>\n",
       "      <td>Yes</td>\n",
       "      <td>NaN</td>\n",
       "      <td>Graduate</td>\n",
       "      <td>Yes</td>\n",
       "      <td>1238175</td>\n",
       "      <td>1010250.0</td>\n",
       "      <td>140000</td>\n",
       "      <td>NaN</td>\n",
       "      <td>1.0</td>\n",
       "      <td>Semiurban</td>\n",
       "      <td>Y</td>\n",
       "    </tr>\n",
       "  </tbody>\n",
       "</table>\n",
       "</div>"
      ],
      "text/plain": [
       "    Gender Married Dependents     Education Self_Employed  ApplicantIncome  \\\n",
       "44    Male     Yes          0  Not Graduate           Yes          1056375   \n",
       "335   Male     Yes        NaN      Graduate           Yes          1238175   \n",
       "\n",
       "     CoapplicantIncome  LoanAmount  Loan_Amount_Term  Credit_History  \\\n",
       "44                 0.0      192000               NaN             1.0   \n",
       "335          1010250.0      140000               NaN             1.0   \n",
       "\n",
       "    Property_Area Loan_Status  \n",
       "44          Urban           Y  \n",
       "335     Semiurban           Y  "
      ]
     },
     "execution_count": 25,
     "metadata": {},
     "output_type": "execute_result"
    }
   ],
   "source": [
    "df.loc[(df['Self_Employed']=='Yes')&(df['Loan_Amount_Term'].isnull())]"
   ]
  },
  {
   "cell_type": "markdown",
   "id": "8b744789",
   "metadata": {},
   "source": [
    "Since there is only person with a self employed status with loan term > 400 we can fill the missing values of loan amount term of self employed customers with the mean value of Loan term < 400"
   ]
  },
  {
   "cell_type": "code",
   "execution_count": 26,
   "id": "bb0cede5",
   "metadata": {},
   "outputs": [
    {
     "data": {
      "text/plain": [
       "339.5437881873727"
      ]
     },
     "execution_count": 26,
     "metadata": {},
     "output_type": "execute_result"
    }
   ],
   "source": [
    "selected_rows = df[df['Loan_Amount_Term'] < 400]\n",
    "\n",
    "# Calculate the average of the Loan_amount column for the selected rows ignoring missing values\n",
    "loan_term_avg = selected_rows['Loan_Amount_Term'].mean(skipna=True)\n",
    "loan_term_avg"
   ]
  },
  {
   "cell_type": "code",
   "execution_count": 27,
   "id": "550a031e",
   "metadata": {},
   "outputs": [],
   "source": [
    "df.loc[(df['Self_Employed']=='Yes')&(df['Loan_Amount_Term'].isnull()),'Loan_Amount_Term']=340"
   ]
  },
  {
   "cell_type": "code",
   "execution_count": 28,
   "id": "1b6a9bfc",
   "metadata": {},
   "outputs": [],
   "source": [
    "df.dropna(axis=0, subset=['Dependents'], inplace=True)"
   ]
  },
  {
   "cell_type": "markdown",
   "id": "027d2e37",
   "metadata": {},
   "source": [
    "Since we cant correctly fill the missing values of dependents we can remove then as it is only <2%"
   ]
  },
  {
   "cell_type": "code",
   "execution_count": 29,
   "id": "70bfee24",
   "metadata": {},
   "outputs": [],
   "source": [
    "#similarly can remove missing Gender rows\n",
    "df.dropna(axis=0, subset=['Gender'], inplace=True)"
   ]
  },
  {
   "cell_type": "code",
   "execution_count": 30,
   "id": "d3918b4d",
   "metadata": {},
   "outputs": [],
   "source": [
    "# percent_misg = percent_missing(df)\n",
    "# plt.figure(figsize=(10,8))\n",
    "# sns.barplot(x=percent_misg.index, y=percent_misg)\n",
    "# plt.xticks(rotation=90);"
   ]
  },
  {
   "cell_type": "code",
   "execution_count": 31,
   "id": "9c12bee3",
   "metadata": {},
   "outputs": [
    {
     "data": {
      "text/plain": [
       "(15, 12)"
      ]
     },
     "execution_count": 31,
     "metadata": {},
     "output_type": "execute_result"
    }
   ],
   "source": [
    "df.loc[(df['Self_Employed'].isnull())&(df['CoapplicantIncome']>0)].shape"
   ]
  },
  {
   "cell_type": "markdown",
   "id": "dd0908b3",
   "metadata": {},
   "source": [
    "- the number of peope who are self employed and have a co applicant are much less than the number of people who are not self employed and have a co applicant"
   ]
  },
  {
   "cell_type": "code",
   "execution_count": 32,
   "id": "bf0ed43b",
   "metadata": {},
   "outputs": [],
   "source": [
    "df.loc[(df['Self_Employed'].isnull())&(df['CoapplicantIncome']>0),'Self_Employed']='No'"
   ]
  },
  {
   "cell_type": "code",
   "execution_count": 33,
   "id": "af26116c",
   "metadata": {},
   "outputs": [
    {
     "data": {
      "text/html": [
       "<div>\n",
       "<style scoped>\n",
       "    .dataframe tbody tr th:only-of-type {\n",
       "        vertical-align: middle;\n",
       "    }\n",
       "\n",
       "    .dataframe tbody tr th {\n",
       "        vertical-align: top;\n",
       "    }\n",
       "\n",
       "    .dataframe thead th {\n",
       "        text-align: right;\n",
       "    }\n",
       "</style>\n",
       "<table border=\"1\" class=\"dataframe\">\n",
       "  <thead>\n",
       "    <tr style=\"text-align: right;\">\n",
       "      <th></th>\n",
       "      <th>Gender</th>\n",
       "      <th>Married</th>\n",
       "      <th>Dependents</th>\n",
       "      <th>Education</th>\n",
       "      <th>Self_Employed</th>\n",
       "      <th>ApplicantIncome</th>\n",
       "      <th>CoapplicantIncome</th>\n",
       "      <th>LoanAmount</th>\n",
       "      <th>Loan_Amount_Term</th>\n",
       "      <th>Credit_History</th>\n",
       "      <th>Property_Area</th>\n",
       "      <th>Loan_Status</th>\n",
       "    </tr>\n",
       "  </thead>\n",
       "  <tbody>\n",
       "    <tr>\n",
       "      <th>0</th>\n",
       "      <td>Male</td>\n",
       "      <td>No</td>\n",
       "      <td>0</td>\n",
       "      <td>Graduate</td>\n",
       "      <td>No</td>\n",
       "      <td>1316025</td>\n",
       "      <td>0.0</td>\n",
       "      <td>250000</td>\n",
       "      <td>360.0</td>\n",
       "      <td>1.0</td>\n",
       "      <td>Urban</td>\n",
       "      <td>Y</td>\n",
       "    </tr>\n",
       "    <tr>\n",
       "      <th>1</th>\n",
       "      <td>Male</td>\n",
       "      <td>Yes</td>\n",
       "      <td>1</td>\n",
       "      <td>Graduate</td>\n",
       "      <td>No</td>\n",
       "      <td>1031175</td>\n",
       "      <td>339300.0</td>\n",
       "      <td>256000</td>\n",
       "      <td>360.0</td>\n",
       "      <td>1.0</td>\n",
       "      <td>Rural</td>\n",
       "      <td>N</td>\n",
       "    </tr>\n",
       "    <tr>\n",
       "      <th>2</th>\n",
       "      <td>Male</td>\n",
       "      <td>Yes</td>\n",
       "      <td>0</td>\n",
       "      <td>Graduate</td>\n",
       "      <td>Yes</td>\n",
       "      <td>675000</td>\n",
       "      <td>0.0</td>\n",
       "      <td>132000</td>\n",
       "      <td>360.0</td>\n",
       "      <td>1.0</td>\n",
       "      <td>Urban</td>\n",
       "      <td>Y</td>\n",
       "    </tr>\n",
       "    <tr>\n",
       "      <th>3</th>\n",
       "      <td>Male</td>\n",
       "      <td>Yes</td>\n",
       "      <td>0</td>\n",
       "      <td>Not Graduate</td>\n",
       "      <td>No</td>\n",
       "      <td>581175</td>\n",
       "      <td>530550.0</td>\n",
       "      <td>240000</td>\n",
       "      <td>360.0</td>\n",
       "      <td>1.0</td>\n",
       "      <td>Urban</td>\n",
       "      <td>Y</td>\n",
       "    </tr>\n",
       "    <tr>\n",
       "      <th>4</th>\n",
       "      <td>Male</td>\n",
       "      <td>No</td>\n",
       "      <td>0</td>\n",
       "      <td>Graduate</td>\n",
       "      <td>No</td>\n",
       "      <td>1350000</td>\n",
       "      <td>0.0</td>\n",
       "      <td>282000</td>\n",
       "      <td>360.0</td>\n",
       "      <td>1.0</td>\n",
       "      <td>Urban</td>\n",
       "      <td>Y</td>\n",
       "    </tr>\n",
       "  </tbody>\n",
       "</table>\n",
       "</div>"
      ],
      "text/plain": [
       "  Gender Married Dependents     Education Self_Employed  ApplicantIncome  \\\n",
       "0   Male      No          0      Graduate            No          1316025   \n",
       "1   Male     Yes          1      Graduate            No          1031175   \n",
       "2   Male     Yes          0      Graduate           Yes           675000   \n",
       "3   Male     Yes          0  Not Graduate            No           581175   \n",
       "4   Male      No          0      Graduate            No          1350000   \n",
       "\n",
       "   CoapplicantIncome  LoanAmount  Loan_Amount_Term  Credit_History  \\\n",
       "0                0.0      250000             360.0             1.0   \n",
       "1           339300.0      256000             360.0             1.0   \n",
       "2                0.0      132000             360.0             1.0   \n",
       "3           530550.0      240000             360.0             1.0   \n",
       "4                0.0      282000             360.0             1.0   \n",
       "\n",
       "  Property_Area Loan_Status  \n",
       "0         Urban           Y  \n",
       "1         Rural           N  \n",
       "2         Urban           Y  \n",
       "3         Urban           Y  \n",
       "4         Urban           Y  "
      ]
     },
     "execution_count": 33,
     "metadata": {},
     "output_type": "execute_result"
    }
   ],
   "source": [
    "df.head()"
   ]
  },
  {
   "cell_type": "code",
   "execution_count": 34,
   "id": "40f66b09",
   "metadata": {},
   "outputs": [],
   "source": [
    "df.dropna(axis=0, subset=['Loan_Amount_Term','Self_Employed'], inplace=True)"
   ]
  },
  {
   "cell_type": "code",
   "execution_count": 35,
   "id": "c281dc52",
   "metadata": {},
   "outputs": [
    {
     "data": {
      "text/plain": [
       "(474, 12)"
      ]
     },
     "execution_count": 35,
     "metadata": {},
     "output_type": "execute_result"
    }
   ],
   "source": [
    "df.shape"
   ]
  },
  {
   "cell_type": "code",
   "execution_count": 36,
   "id": "10beff2e",
   "metadata": {},
   "outputs": [],
   "source": [
    "#Applying OHE with drop first not enable and will remove redundant manually\n",
    "# df = pd.get_dummies(df, drop_first=False)"
   ]
  },
  {
   "cell_type": "code",
   "execution_count": 37,
   "id": "20e9773b",
   "metadata": {},
   "outputs": [],
   "source": [
    "# df= df.drop('Gender_Female',axis=1)\n",
    "# df = df.drop('Married_No',axis=1)\n",
    "# df = df.drop('Education_Not Graduate',axis=1)\n",
    "# df = df.drop('Self_Employed_No',axis = 1)\n",
    "# df = df.drop('Loan_Status_N',axis = 1)"
   ]
  },
  {
   "cell_type": "code",
   "execution_count": 38,
   "id": "951c1387",
   "metadata": {},
   "outputs": [
    {
     "data": {
      "text/plain": [
       "Gender               0\n",
       "Married              0\n",
       "Dependents           0\n",
       "Education            0\n",
       "Self_Employed        0\n",
       "ApplicantIncome      0\n",
       "CoapplicantIncome    0\n",
       "LoanAmount           0\n",
       "Loan_Amount_Term     0\n",
       "Credit_History       0\n",
       "Property_Area        0\n",
       "Loan_Status          0\n",
       "dtype: int64"
      ]
     },
     "execution_count": 38,
     "metadata": {},
     "output_type": "execute_result"
    }
   ],
   "source": [
    "df.isnull().sum() #verifying no null values"
   ]
  },
  {
   "cell_type": "markdown",
   "id": "07eb78b0",
   "metadata": {},
   "source": [
    "## Hypothesis testing for categorical features"
   ]
  },
  {
   "cell_type": "markdown",
   "id": "5383688b",
   "metadata": {},
   "source": [
    "1. Null Hypothesis, N0: Features are insignificant to loan status. Na : has significant effect"
   ]
  },
  {
   "cell_type": "markdown",
   "id": "092cd913",
   "metadata": {},
   "source": [
    "Conducting Chi2 test for independence"
   ]
  },
  {
   "cell_type": "code",
   "execution_count": 39,
   "id": "5a53e154",
   "metadata": {},
   "outputs": [],
   "source": [
    "from scipy.stats import chi2_contingency"
   ]
  },
  {
   "cell_type": "code",
   "execution_count": 40,
   "id": "f3b9829f",
   "metadata": {},
   "outputs": [
    {
     "name": "stdout",
     "output_type": "stream",
     "text": [
      "p-value: 0.6501405284407019\n"
     ]
    }
   ],
   "source": [
    "# Create a contingency table\n",
    "cont_table = pd.crosstab(df['Gender'], df['Loan_Status'])\n",
    "\n",
    "# Conduct the chi-square test\n",
    "chi2, pval, dof, exp_freq = chi2_contingency(cont_table)\n",
    "\n",
    "# Print the p-value\n",
    "print('p-value:', pval)"
   ]
  },
  {
   "cell_type": "markdown",
   "id": "d3c18863",
   "metadata": {},
   "source": [
    "**There fore we fail to reject the Null hypothesis(considering a significance level of 0.05). Gender do not affect the Loan Status**"
   ]
  },
  {
   "cell_type": "code",
   "execution_count": 41,
   "id": "b8e635f9",
   "metadata": {},
   "outputs": [
    {
     "name": "stdout",
     "output_type": "stream",
     "text": [
      "Gender vs LoanStatus is not significant (p-value: 0.6501405284407019)\n",
      "Education vs LoanStatus is significant (p-value: 0.0964040078580344)\n",
      "Self_Employed vs LoanStatus is not significant (p-value: 0.8439514357511773)\n",
      "Property_Area vs LoanStatus is significant (p-value: 0.0009191785863088136)\n",
      "Married vs LoanStatus is significant (p-value: 0.04117253465094671)\n"
     ]
    }
   ],
   "source": [
    "\n",
    "# Loop through each categorical feature and perform a chi-square test with the target variable\n",
    "cat_cols = ['Gender', 'Education', 'Self_Employed', 'Property_Area','Married']\n",
    "# Set the significance level\n",
    "alpha = 0.1\n",
    "pvalue_C=[]\n",
    "\n",
    "# Loop through each categorical feature and perform a chi-square test with the target variable\n",
    "for col in cat_cols:\n",
    "    cont_table = pd.crosstab(df[col], df['Loan_Status'])\n",
    "    chi2, pval, dof, exp_freq = chi2_contingency(cont_table)\n",
    "    pvalue_C.append(pval)\n",
    "    if pval < alpha:\n",
    "        print(f\"{col} vs LoanStatus is significant (p-value: {pval})\")\n",
    "    else:\n",
    "        print(f\"{col} vs LoanStatus is not significant (p-value: {pval})\")"
   ]
  },
  {
   "cell_type": "markdown",
   "id": "018ada92",
   "metadata": {},
   "source": [
    "### Notes for above test\n",
    "\n",
    "- Initally chose a significance level of 0.05 which gave 0.09 for education, since it was a close value we chose 0.1"
   ]
  },
  {
   "cell_type": "markdown",
   "id": "54934a9b",
   "metadata": {},
   "source": [
    "## ANOVA test for Numerical features"
   ]
  },
  {
   "cell_type": "code",
   "execution_count": 42,
   "id": "a6f18118",
   "metadata": {},
   "outputs": [],
   "source": [
    "from scipy.stats import f_oneway"
   ]
  },
  {
   "cell_type": "code",
   "execution_count": 43,
   "id": "2b60d1dd",
   "metadata": {},
   "outputs": [
    {
     "name": "stdout",
     "output_type": "stream",
     "text": [
      "<class 'pandas.core.frame.DataFrame'>\n",
      "Int64Index: 474 entries, 0 to 520\n",
      "Data columns (total 12 columns):\n",
      " #   Column             Non-Null Count  Dtype  \n",
      "---  ------             --------------  -----  \n",
      " 0   Gender             474 non-null    object \n",
      " 1   Married            474 non-null    object \n",
      " 2   Dependents         474 non-null    object \n",
      " 3   Education          474 non-null    object \n",
      " 4   Self_Employed      474 non-null    object \n",
      " 5   ApplicantIncome    474 non-null    int64  \n",
      " 6   CoapplicantIncome  474 non-null    float64\n",
      " 7   LoanAmount         474 non-null    int64  \n",
      " 8   Loan_Amount_Term   474 non-null    float64\n",
      " 9   Credit_History     474 non-null    float64\n",
      " 10  Property_Area      474 non-null    object \n",
      " 11  Loan_Status        474 non-null    object \n",
      "dtypes: float64(3), int64(2), object(7)\n",
      "memory usage: 48.1+ KB\n"
     ]
    }
   ],
   "source": [
    "df.info()"
   ]
  },
  {
   "cell_type": "code",
   "execution_count": 44,
   "id": "98271173",
   "metadata": {},
   "outputs": [],
   "source": [
    "df.loc[(df['Dependents']=='3+'),'Dependents']=3"
   ]
  },
  {
   "cell_type": "code",
   "execution_count": 45,
   "id": "2ca9010b",
   "metadata": {},
   "outputs": [],
   "source": [
    "#converting the dependent column to int64\n",
    "df['Dependents'] = df['Dependents'].astype('int64')"
   ]
  },
  {
   "cell_type": "code",
   "execution_count": 46,
   "id": "db1fcc5f",
   "metadata": {},
   "outputs": [
    {
     "name": "stdout",
     "output_type": "stream",
     "text": [
      "Dependents vs LoanStatus is not significant (p-value = 0.610)\n",
      "LoanAmount vs LoanStatus is significant (p-value = 0.073)\n",
      "Loan_Amount_Term vs LoanStatus is not significant (p-value = 0.541)\n",
      "ApplicantIncome vs LoanStatus is not significant (p-value = 0.122)\n",
      "CoapplicantIncome vs LoanStatus is not significant (p-value = 0.712)\n",
      "Credit_History vs LoanStatus is significant (p-value = 0.000)\n"
     ]
    }
   ],
   "source": [
    "num_cols = ['Dependents', 'LoanAmount', 'Loan_Amount_Term','ApplicantIncome','CoapplicantIncome','Credit_History']\n",
    "alpha = 0.1\n",
    "pvalues = []\n",
    "# Perform ANOVA for each numerical feature with the target variable\n",
    "for col in num_cols:\n",
    "    # Split the data into multiple groups based on the target variable\n",
    "    groups = []\n",
    "    for group_name in df['Loan_Status'].unique():\n",
    "        group = df[df['Loan_Status'] == group_name][col]\n",
    "        groups.append(group)\n",
    "    \n",
    "    # Perform ANOVA\n",
    "    fstat, pval = f_oneway(*groups)\n",
    "    pvalues.append(pval)\n",
    "    # Print the result\n",
    "    if pval < alpha:\n",
    "        print(f\"{col} vs LoanStatus is significant (p-value = {pval:.3f})\")\n",
    "    else:\n",
    "        print(f\"{col} vs LoanStatus is not significant (p-value = {pval:.3f})\")\n"
   ]
  },
  {
   "cell_type": "code",
   "execution_count": 50,
   "id": "857da297",
   "metadata": {},
   "outputs": [],
   "source": [
    "# fig, ax = plt.subplots(figsize=(14,6))\n",
    "# ax.bar(num_cols, pvalues)\n",
    "# ax.set_ylabel('p-value')\n",
    "# ax.set_ylim([0, 1])\n",
    "# ax.axhline(y=alpha, color='r', linestyle='--')\n",
    "# ax.set_title('ANOVA p-values for numerical features vs LoanStatus')\n",
    "# plt.show()"
   ]
  },
  {
   "cell_type": "code",
   "execution_count": 49,
   "id": "0264a7fd",
   "metadata": {},
   "outputs": [],
   "source": [
    "# fig, ax = plt.subplots(figsize=(14,6))\n",
    "# ax.bar(cat_cols, pvalue_C)\n",
    "# ax.set_ylabel('p-value ')\n",
    "# ax.set_ylim([0, 1])\n",
    "# ax.axhline(y=alpha, color='r', linestyle='--')\n",
    "# ax.set_title('Chi2 p-values for Categorical vs LoanStatus')\n",
    "# plt.show()"
   ]
  },
  {
   "cell_type": "markdown",
   "id": "f95928fd",
   "metadata": {},
   "source": [
    "## Visualizations of categotrical features with Loan status\n"
   ]
  },
  {
   "cell_type": "code",
   "execution_count": 59,
   "id": "419673e0",
   "metadata": {},
   "outputs": [
    {
     "data": {
      "image/png": "[encoded data removed]",
      "text/plain": [
       "<Figure size 640x480 with 1 Axes>"
      ]
     },
     "metadata": {},
     "output_type": "display_data"
    }
   ],
   "source": [
    "sns.countplot(x='Gender', hue='Loan_Status', data=df);\n",
    "plt.title('Count Plot of Loan Status by Gender');"
   ]
  },
  {
   "cell_type": "code",
   "execution_count": 60,
   "id": "2605396b",
   "metadata": {},
   "outputs": [
    {
     "data": {
      "image/png": "[encoded data removed]",
      "text/plain": [
       "<Figure size 640x480 with 1 Axes>"
      ]
     },
     "metadata": {},
     "output_type": "display_data"
    }
   ],
   "source": [
    "sns.countplot(x='Married', hue='Loan_Status', data=df);\n",
    "plt.title('Count Plot of Loan Status by Marital status');"
   ]
  },
  {
   "cell_type": "code",
   "execution_count": 61,
   "id": "456c795d",
   "metadata": {},
   "outputs": [
    {
     "data": {
      "image/png": "[encoded data removed]",
      "text/plain": [
       "<Figure size 640x480 with 1 Axes>"
      ]
     },
     "metadata": {},
     "output_type": "display_data"
    }
   ],
   "source": [
    "sns.countplot(x='Education', hue='Loan_Status', data=df);\n",
    "plt.title('Count Plot of Loan Status by Education');"
   ]
  },
  {
   "cell_type": "code",
   "execution_count": 62,
   "id": "d2d1f6dc",
   "metadata": {},
   "outputs": [
    {
     "data": {
      "image/png": "[encoded data removed]",
      "text/plain": [
       "<Figure size 640x480 with 1 Axes>"
      ]
     },
     "metadata": {},
     "output_type": "display_data"
    }
   ],
   "source": [
    "sns.countplot(x='Property_Area', hue='Loan_Status', data=df);\n",
    "plt.title('Count Plot of Loan Status by Property_Area');"
   ]
  },
  {
   "cell_type": "code",
   "execution_count": 63,
   "id": "026c8f1d",
   "metadata": {},
   "outputs": [
    {
     "data": {
      "image/png": "[encoded data removed]",
      "text/plain": [
       "<Figure size 640x480 with 1 Axes>"
      ]
     },
     "metadata": {},
     "output_type": "display_data"
    }
   ],
   "source": [
    "sns.countplot(x='Self_Employed', hue='Loan_Status', data=df);\n",
    "plt.title('Count Plot of Loan Status by Employment type');"
   ]
  },
  {
   "cell_type": "code",
   "execution_count": 68,
   "id": "a30df44c",
   "metadata": {},
   "outputs": [
    {
     "data": {
      "image/png": "[encoded data removed]",
      "text/plain": [
       "<Figure size 640x480 with 1 Axes>"
      ]
     },
     "metadata": {},
     "output_type": "display_data"
    }
   ],
   "source": [
    "sns.countplot(x='Credit_History', hue='Loan_Status', data=df);\n",
    "plt.title('Count Plot of Loan Status by Credit history');"
   ]
  },
  {
   "cell_type": "markdown",
   "id": "bd783a0a",
   "metadata": {},
   "source": [
    "## Numerical features with respect to Loan Status"
   ]
  },
  {
   "cell_type": "code",
   "execution_count": 70,
   "id": "75766265",
   "metadata": {},
   "outputs": [
    {
     "data": {
      "image/png": "[encoded data removed]",
      "text/plain": [
       "<Figure size 640x480 with 1 Axes>"
      ]
     },
     "metadata": {},
     "output_type": "display_data"
    }
   ],
   "source": [
    "sns.boxplot(x='Loan_Status', y='Dependents', data=df)\n",
    "plt.title('Box Plot of Loan Status by Dependents');\n",
    "plt.show()"
   ]
  },
  {
   "cell_type": "code",
   "execution_count": 71,
   "id": "07ab4aa1",
   "metadata": {},
   "outputs": [
    {
     "data": {
      "image/png": "[encoded data removed]",
      "text/plain": [
       "<Figure size 640x480 with 1 Axes>"
      ]
     },
     "metadata": {},
     "output_type": "display_data"
    }
   ],
   "source": [
    "sns.boxplot(x='Loan_Status', y='LoanAmount', data=df)\n",
    "plt.title('Box Plot of Loan Status by LoanAmount');\n",
    "plt.show()"
   ]
  },
  {
   "cell_type": "code",
   "execution_count": 72,
   "id": "7aef41eb",
   "metadata": {},
   "outputs": [
    {
     "data": {
      "image/png": "[encoded data removed]",
      "text/plain": [
       "<Figure size 640x480 with 1 Axes>"
      ]
     },
     "metadata": {},
     "output_type": "display_data"
    }
   ],
   "source": [
    "sns.boxplot(x='Loan_Status', y='Loan_Amount_Term', data=df)\n",
    "plt.title('Box Plot of Loan Status by Loan_Amount_Term');\n",
    "plt.show()"
   ]
  },
  {
   "cell_type": "code",
   "execution_count": 73,
   "id": "ca348368",
   "metadata": {},
   "outputs": [
    {
     "data": {
      "image/png": "[encoded data removed]",
      "text/plain": [
       "<Figure size 640x480 with 1 Axes>"
      ]
     },
     "metadata": {},
     "output_type": "display_data"
    }
   ],
   "source": [
    "sns.boxplot(x='Loan_Status', y='ApplicantIncome', data=df)\n",
    "plt.title('Box Plot of Loan Status by ApplicantIncome');\n",
    "plt.show()"
   ]
  },
  {
   "cell_type": "code",
   "execution_count": 74,
   "id": "ecee988a",
   "metadata": {},
   "outputs": [
    {
     "data": {
      "image/png": "[encoded data removed]",
      "text/plain": [
       "<Figure size 640x480 with 1 Axes>"
      ]
     },
     "metadata": {},
     "output_type": "display_data"
    }
   ],
   "source": [
    "sns.boxplot(x='Loan_Status', y='CoapplicantIncome', data=df)\n",
    "plt.title('Box Plot of Loan Status by CoapplicantIncome');\n",
    "plt.show()"
   ]
  },
  {
   "cell_type": "code",
   "execution_count": null,
   "id": "60dcf47a",
   "metadata": {},
   "outputs": [],
   "source": []
  }
 ],
 "metadata": {
  "kernelspec": {
   "display_name": "Python 3 (ipykernel)",
   "language": "python",
   "name": "python3"
  },
  "language_info": {
   "codemirror_mode": {
    "name": "ipython",
    "version": 3
   },
   "file_extension": ".py",
   "mimetype": "text/x-python",
   "name": "python",
   "nbconvert_exporter": "python",
   "pygments_lexer": "ipython3",
   "version": "3.9.13"
  }
 },
 "nbformat": 4,
 "nbformat_minor": 5
}
