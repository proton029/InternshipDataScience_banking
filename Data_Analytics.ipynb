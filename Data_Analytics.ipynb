{
 "cells": [
  {
   "cell_type": "code",
   "execution_count": 1,
   "id": "afbd514e",
   "metadata": {},
   "outputs": [],
   "source": [
    "import matplotlib.pyplot as plt\n",
    "import pandas as pd\n",
    "import numpy as np"
   ]
  },
  {
   "cell_type": "code",
   "execution_count": 2,
   "id": "c0486832",
   "metadata": {},
   "outputs": [
    {
     "data": {
      "text/html": [
       "<div>\n",
       "<style scoped>\n",
       "    .dataframe tbody tr th:only-of-type {\n",
       "        vertical-align: middle;\n",
       "    }\n",
       "\n",
       "    .dataframe tbody tr th {\n",
       "        vertical-align: top;\n",
       "    }\n",
       "\n",
       "    .dataframe thead th {\n",
       "        text-align: right;\n",
       "    }\n",
       "</style>\n",
       "<table border=\"1\" class=\"dataframe\">\n",
       "  <thead>\n",
       "    <tr style=\"text-align: right;\">\n",
       "      <th></th>\n",
       "      <th>Loan_ID</th>\n",
       "      <th>Gender</th>\n",
       "      <th>Married</th>\n",
       "      <th>Dependents</th>\n",
       "      <th>Education</th>\n",
       "      <th>Self_Employed</th>\n",
       "      <th>ApplicantIncome</th>\n",
       "      <th>CoapplicantIncome</th>\n",
       "      <th>LoanAmount</th>\n",
       "      <th>Loan_Amount_Term</th>\n",
       "      <th>Credit_History</th>\n",
       "      <th>Property_Area</th>\n",
       "      <th>Loan_Status</th>\n",
       "    </tr>\n",
       "  </thead>\n",
       "  <tbody>\n",
       "    <tr>\n",
       "      <th>0</th>\n",
       "      <td>294853</td>\n",
       "      <td>Male</td>\n",
       "      <td>No</td>\n",
       "      <td>0</td>\n",
       "      <td>Graduate</td>\n",
       "      <td>No</td>\n",
       "      <td>1316025</td>\n",
       "      <td>0.0</td>\n",
       "      <td>250000</td>\n",
       "      <td>360.0</td>\n",
       "      <td>1.0</td>\n",
       "      <td>Urban</td>\n",
       "      <td>Y</td>\n",
       "    </tr>\n",
       "    <tr>\n",
       "      <th>1</th>\n",
       "      <td>162883</td>\n",
       "      <td>Male</td>\n",
       "      <td>Yes</td>\n",
       "      <td>1</td>\n",
       "      <td>Graduate</td>\n",
       "      <td>No</td>\n",
       "      <td>1031175</td>\n",
       "      <td>339300.0</td>\n",
       "      <td>256000</td>\n",
       "      <td>360.0</td>\n",
       "      <td>1.0</td>\n",
       "      <td>Rural</td>\n",
       "      <td>N</td>\n",
       "    </tr>\n",
       "    <tr>\n",
       "      <th>2</th>\n",
       "      <td>620668</td>\n",
       "      <td>Male</td>\n",
       "      <td>Yes</td>\n",
       "      <td>0</td>\n",
       "      <td>Graduate</td>\n",
       "      <td>Yes</td>\n",
       "      <td>675000</td>\n",
       "      <td>0.0</td>\n",
       "      <td>132000</td>\n",
       "      <td>360.0</td>\n",
       "      <td>1.0</td>\n",
       "      <td>Urban</td>\n",
       "      <td>Y</td>\n",
       "    </tr>\n",
       "    <tr>\n",
       "      <th>3</th>\n",
       "      <td>295747</td>\n",
       "      <td>Male</td>\n",
       "      <td>Yes</td>\n",
       "      <td>0</td>\n",
       "      <td>Not Graduate</td>\n",
       "      <td>No</td>\n",
       "      <td>581175</td>\n",
       "      <td>530550.0</td>\n",
       "      <td>240000</td>\n",
       "      <td>360.0</td>\n",
       "      <td>1.0</td>\n",
       "      <td>Urban</td>\n",
       "      <td>Y</td>\n",
       "    </tr>\n",
       "    <tr>\n",
       "      <th>4</th>\n",
       "      <td>133390</td>\n",
       "      <td>Male</td>\n",
       "      <td>No</td>\n",
       "      <td>0</td>\n",
       "      <td>Graduate</td>\n",
       "      <td>No</td>\n",
       "      <td>1350000</td>\n",
       "      <td>0.0</td>\n",
       "      <td>282000</td>\n",
       "      <td>360.0</td>\n",
       "      <td>1.0</td>\n",
       "      <td>Urban</td>\n",
       "      <td>Y</td>\n",
       "    </tr>\n",
       "  </tbody>\n",
       "</table>\n",
       "</div>"
      ],
      "text/plain": [
       "   Loan_ID Gender Married Dependents     Education Self_Employed  \\\n",
       "0   294853   Male      No          0      Graduate            No   \n",
       "1   162883   Male     Yes          1      Graduate            No   \n",
       "2   620668   Male     Yes          0      Graduate           Yes   \n",
       "3   295747   Male     Yes          0  Not Graduate            No   \n",
       "4   133390   Male      No          0      Graduate            No   \n",
       "\n",
       "   ApplicantIncome  CoapplicantIncome  LoanAmount  Loan_Amount_Term  \\\n",
       "0          1316025                0.0      250000             360.0   \n",
       "1          1031175           339300.0      256000             360.0   \n",
       "2           675000                0.0      132000             360.0   \n",
       "3           581175           530550.0      240000             360.0   \n",
       "4          1350000                0.0      282000             360.0   \n",
       "\n",
       "   Credit_History Property_Area Loan_Status  \n",
       "0             1.0         Urban           Y  \n",
       "1             1.0         Rural           N  \n",
       "2             1.0         Urban           Y  \n",
       "3             1.0         Urban           Y  \n",
       "4             1.0         Urban           Y  "
      ]
     },
     "execution_count": 2,
     "metadata": {},
     "output_type": "execute_result"
    }
   ],
   "source": [
    "df = pd.read_excel('Consumer creditworthiness train data.xlsx') #reading the data \n",
    "df.head()"
   ]
  },
  {
   "cell_type": "code",
   "execution_count": 3,
   "id": "25e007a2",
   "metadata": {},
   "outputs": [
    {
     "name": "stdout",
     "output_type": "stream",
     "text": [
      "<class 'pandas.core.frame.DataFrame'>\n",
      "RangeIndex: 521 entries, 0 to 520\n",
      "Data columns (total 13 columns):\n",
      " #   Column             Non-Null Count  Dtype  \n",
      "---  ------             --------------  -----  \n",
      " 0   Loan_ID            521 non-null    int64  \n",
      " 1   Gender             511 non-null    object \n",
      " 2   Married            518 non-null    object \n",
      " 3   Dependents         508 non-null    object \n",
      " 4   Education          521 non-null    object \n",
      " 5   Self_Employed      494 non-null    object \n",
      " 6   ApplicantIncome    521 non-null    int64  \n",
      " 7   CoapplicantIncome  521 non-null    float64\n",
      " 8   LoanAmount         521 non-null    int64  \n",
      " 9   Loan_Amount_Term   507 non-null    float64\n",
      " 10  Credit_History     478 non-null    float64\n",
      " 11  Property_Area      521 non-null    object \n",
      " 12  Loan_Status        521 non-null    object \n",
      "dtypes: float64(3), int64(3), object(7)\n",
      "memory usage: 53.0+ KB\n"
     ]
    }
   ],
   "source": [
    "df.info()"
   ]
  },
  {
   "cell_type": "markdown",
   "id": "a4333a93",
   "metadata": {},
   "source": [
    "## lets check for null values if any"
   ]
  },
  {
   "cell_type": "code",
   "execution_count": 4,
   "id": "9230855a",
   "metadata": {},
   "outputs": [
    {
     "data": {
      "text/plain": [
       "Loan_ID               0\n",
       "Gender               10\n",
       "Married               3\n",
       "Dependents           13\n",
       "Education             0\n",
       "Self_Employed        27\n",
       "ApplicantIncome       0\n",
       "CoapplicantIncome     0\n",
       "LoanAmount            0\n",
       "Loan_Amount_Term     14\n",
       "Credit_History       43\n",
       "Property_Area         0\n",
       "Loan_Status           0\n",
       "dtype: int64"
      ]
     },
     "execution_count": 4,
     "metadata": {},
     "output_type": "execute_result"
    }
   ],
   "source": [
    "df.isnull().sum()"
   ]
  },
  {
   "cell_type": "markdown",
   "id": "13aef0e2",
   "metadata": {},
   "source": [
    "-  The above shows that some of the features does misses values\n",
    "- It would be usefull to see these missing numbers in ration/% form to understand better how much impact does these missing values affect the data set"
   ]
  },
  {
   "cell_type": "code",
   "execution_count": 5,
   "id": "74ddda19",
   "metadata": {},
   "outputs": [],
   "source": [
    "def percent_missing(df):\n",
    "    percent_misg = 100*df.isnull().sum()/len(df)\n",
    "    percent_misg = percent_misg[percent_misg>0].sort_values()\n",
    "    \n",
    "    return percent_misg\n",
    "\n",
    "#just converting into percent missing"
   ]
  },
  {
   "cell_type": "code",
   "execution_count": 6,
   "id": "d3973d7c",
   "metadata": {},
   "outputs": [
    {
     "data": {
      "text/plain": [
       "Married             0.575816\n",
       "Gender              1.919386\n",
       "Dependents          2.495202\n",
       "Loan_Amount_Term    2.687140\n",
       "Self_Employed       5.182342\n",
       "Credit_History      8.253359\n",
       "dtype: float64"
      ]
     },
     "execution_count": 6,
     "metadata": {},
     "output_type": "execute_result"
    }
   ],
   "source": [
    "percent_misg = percent_missing(df)\n",
    "percent_misg"
   ]
  },
  {
   "cell_type": "markdown",
   "id": "4bbaa610",
   "metadata": {},
   "source": [
    "- **Seems like credit history and self employed among those with a considerable missing values**"
   ]
  },
  {
   "cell_type": "markdown",
   "id": "56d17351",
   "metadata": {},
   "source": [
    "### Lets plot the % missing"
   ]
  },
  {
   "cell_type": "code",
   "execution_count": 7,
   "id": "dbc69400",
   "metadata": {},
   "outputs": [],
   "source": [
    "import seaborn as sns\n",
    "import matplotlib.pyplot as plt"
   ]
  },
  {
   "cell_type": "code",
   "execution_count": 8,
   "id": "ddfe0797",
   "metadata": {},
   "outputs": [
    {
     "data": {
      "image/png": "[encoded data removed]",
      "text/plain": [
       "<Figure size 1000x800 with 1 Axes>"
      ]
     },
     "metadata": {
      "needs_background": "light"
     },
     "output_type": "display_data"
    }
   ],
   "source": [
    "plt.figure(figsize=(10,8),dpi=100)\n",
    "sns.barplot(x=percent_misg.index, y=percent_misg)\n",
    "plt.xticks(rotation=90);"
   ]
  },
  {
   "cell_type": "markdown",
   "id": "284cba83",
   "metadata": {},
   "source": [
    "- **From above observations we suggest**\n",
    "    - The observations which which have a missing % less than 1% can be removed.\n",
    "    - Married have <1% missing and remvoving it will have negligible effect on the data"
   ]
  },
  {
   "cell_type": "code",
   "execution_count": 9,
   "id": "2d935dc6",
   "metadata": {},
   "outputs": [
    {
     "data": {
      "text/html": [
       "<div>\n",
       "<style scoped>\n",
       "    .dataframe tbody tr th:only-of-type {\n",
       "        vertical-align: middle;\n",
       "    }\n",
       "\n",
       "    .dataframe tbody tr th {\n",
       "        vertical-align: top;\n",
       "    }\n",
       "\n",
       "    .dataframe thead th {\n",
       "        text-align: right;\n",
       "    }\n",
       "</style>\n",
       "<table border=\"1\" class=\"dataframe\">\n",
       "  <thead>\n",
       "    <tr style=\"text-align: right;\">\n",
       "      <th></th>\n",
       "      <th>Loan_ID</th>\n",
       "      <th>Gender</th>\n",
       "      <th>Married</th>\n",
       "      <th>Dependents</th>\n",
       "      <th>Education</th>\n",
       "      <th>Self_Employed</th>\n",
       "      <th>ApplicantIncome</th>\n",
       "      <th>CoapplicantIncome</th>\n",
       "      <th>LoanAmount</th>\n",
       "      <th>Loan_Amount_Term</th>\n",
       "      <th>Credit_History</th>\n",
       "      <th>Property_Area</th>\n",
       "      <th>Loan_Status</th>\n",
       "    </tr>\n",
       "  </thead>\n",
       "  <tbody>\n",
       "    <tr>\n",
       "      <th>104</th>\n",
       "      <td>114100</td>\n",
       "      <td>Male</td>\n",
       "      <td>NaN</td>\n",
       "      <td>NaN</td>\n",
       "      <td>Graduate</td>\n",
       "      <td>No</td>\n",
       "      <td>858600</td>\n",
       "      <td>169650.0</td>\n",
       "      <td>320000</td>\n",
       "      <td>360.0</td>\n",
       "      <td>1.0</td>\n",
       "      <td>Urban</td>\n",
       "      <td>Y</td>\n",
       "    </tr>\n",
       "    <tr>\n",
       "      <th>228</th>\n",
       "      <td>133107</td>\n",
       "      <td>Male</td>\n",
       "      <td>NaN</td>\n",
       "      <td>NaN</td>\n",
       "      <td>Graduate</td>\n",
       "      <td>No</td>\n",
       "      <td>1070550</td>\n",
       "      <td>0.0</td>\n",
       "      <td>316000</td>\n",
       "      <td>480.0</td>\n",
       "      <td>1.0</td>\n",
       "      <td>Semiurban</td>\n",
       "      <td>Y</td>\n",
       "    </tr>\n",
       "    <tr>\n",
       "      <th>435</th>\n",
       "      <td>579487</td>\n",
       "      <td>Female</td>\n",
       "      <td>NaN</td>\n",
       "      <td>NaN</td>\n",
       "      <td>Graduate</td>\n",
       "      <td>No</td>\n",
       "      <td>2260575</td>\n",
       "      <td>0.0</td>\n",
       "      <td>0</td>\n",
       "      <td>240.0</td>\n",
       "      <td>1.0</td>\n",
       "      <td>Semiurban</td>\n",
       "      <td>Y</td>\n",
       "    </tr>\n",
       "  </tbody>\n",
       "</table>\n",
       "</div>"
      ],
      "text/plain": [
       "     Loan_ID  Gender Married Dependents Education Self_Employed  \\\n",
       "104   114100    Male     NaN        NaN  Graduate            No   \n",
       "228   133107    Male     NaN        NaN  Graduate            No   \n",
       "435   579487  Female     NaN        NaN  Graduate            No   \n",
       "\n",
       "     ApplicantIncome  CoapplicantIncome  LoanAmount  Loan_Amount_Term  \\\n",
       "104           858600           169650.0      320000             360.0   \n",
       "228          1070550                0.0      316000             480.0   \n",
       "435          2260575                0.0           0             240.0   \n",
       "\n",
       "     Credit_History Property_Area Loan_Status  \n",
       "104             1.0         Urban           Y  \n",
       "228             1.0     Semiurban           Y  \n",
       "435             1.0     Semiurban           Y  "
      ]
     },
     "execution_count": 9,
     "metadata": {},
     "output_type": "execute_result"
    }
   ],
   "source": [
    "df.loc[(df['Married'].isnull())]"
   ]
  },
  {
   "cell_type": "markdown",
   "id": "3dded58b",
   "metadata": {},
   "source": [
    "**From the above sample of data with Married is having a missing values the dependents are also missing**\n",
    " - Therefore We cannot fill the married column using any other feature available to us\n",
    " - So it is logical to remove these 3 observations"
   ]
  },
  {
   "cell_type": "code",
   "execution_count": 10,
   "id": "348e6a13",
   "metadata": {},
   "outputs": [],
   "source": [
    "#dropping these rows for Married is null\n",
    "df.dropna(axis=0, subset=['Married'], inplace=True)"
   ]
  },
  {
   "cell_type": "markdown",
   "id": "c330f473",
   "metadata": {},
   "source": [
    "### Since Loan_ID is unique to each loan application and is not a factor that influencing the creditworthiness of the applicant we can remove the entire column. Also we already have index numbers to identify an Observation"
   ]
  },
  {
   "cell_type": "code",
   "execution_count": 11,
   "id": "fb18b1bc",
   "metadata": {},
   "outputs": [],
   "source": [
    "df = df.drop('Loan_ID', axis=1)"
   ]
  },
  {
   "cell_type": "code",
   "execution_count": 12,
   "id": "1bc80bf9",
   "metadata": {},
   "outputs": [
    {
     "data": {
      "text/html": [
       "<div>\n",
       "<style scoped>\n",
       "    .dataframe tbody tr th:only-of-type {\n",
       "        vertical-align: middle;\n",
       "    }\n",
       "\n",
       "    .dataframe tbody tr th {\n",
       "        vertical-align: top;\n",
       "    }\n",
       "\n",
       "    .dataframe thead th {\n",
       "        text-align: right;\n",
       "    }\n",
       "</style>\n",
       "<table border=\"1\" class=\"dataframe\">\n",
       "  <thead>\n",
       "    <tr style=\"text-align: right;\">\n",
       "      <th></th>\n",
       "      <th>Gender</th>\n",
       "      <th>Married</th>\n",
       "      <th>Dependents</th>\n",
       "      <th>Education</th>\n",
       "      <th>Self_Employed</th>\n",
       "      <th>ApplicantIncome</th>\n",
       "      <th>CoapplicantIncome</th>\n",
       "      <th>LoanAmount</th>\n",
       "      <th>Loan_Amount_Term</th>\n",
       "      <th>Credit_History</th>\n",
       "      <th>Property_Area</th>\n",
       "      <th>Loan_Status</th>\n",
       "    </tr>\n",
       "  </thead>\n",
       "  <tbody>\n",
       "    <tr>\n",
       "      <th>0</th>\n",
       "      <td>Male</td>\n",
       "      <td>No</td>\n",
       "      <td>0</td>\n",
       "      <td>Graduate</td>\n",
       "      <td>No</td>\n",
       "      <td>1316025</td>\n",
       "      <td>0.0</td>\n",
       "      <td>250000</td>\n",
       "      <td>360.0</td>\n",
       "      <td>1.0</td>\n",
       "      <td>Urban</td>\n",
       "      <td>Y</td>\n",
       "    </tr>\n",
       "    <tr>\n",
       "      <th>1</th>\n",
       "      <td>Male</td>\n",
       "      <td>Yes</td>\n",
       "      <td>1</td>\n",
       "      <td>Graduate</td>\n",
       "      <td>No</td>\n",
       "      <td>1031175</td>\n",
       "      <td>339300.0</td>\n",
       "      <td>256000</td>\n",
       "      <td>360.0</td>\n",
       "      <td>1.0</td>\n",
       "      <td>Rural</td>\n",
       "      <td>N</td>\n",
       "    </tr>\n",
       "    <tr>\n",
       "      <th>2</th>\n",
       "      <td>Male</td>\n",
       "      <td>Yes</td>\n",
       "      <td>0</td>\n",
       "      <td>Graduate</td>\n",
       "      <td>Yes</td>\n",
       "      <td>675000</td>\n",
       "      <td>0.0</td>\n",
       "      <td>132000</td>\n",
       "      <td>360.0</td>\n",
       "      <td>1.0</td>\n",
       "      <td>Urban</td>\n",
       "      <td>Y</td>\n",
       "    </tr>\n",
       "    <tr>\n",
       "      <th>3</th>\n",
       "      <td>Male</td>\n",
       "      <td>Yes</td>\n",
       "      <td>0</td>\n",
       "      <td>Not Graduate</td>\n",
       "      <td>No</td>\n",
       "      <td>581175</td>\n",
       "      <td>530550.0</td>\n",
       "      <td>240000</td>\n",
       "      <td>360.0</td>\n",
       "      <td>1.0</td>\n",
       "      <td>Urban</td>\n",
       "      <td>Y</td>\n",
       "    </tr>\n",
       "    <tr>\n",
       "      <th>4</th>\n",
       "      <td>Male</td>\n",
       "      <td>No</td>\n",
       "      <td>0</td>\n",
       "      <td>Graduate</td>\n",
       "      <td>No</td>\n",
       "      <td>1350000</td>\n",
       "      <td>0.0</td>\n",
       "      <td>282000</td>\n",
       "      <td>360.0</td>\n",
       "      <td>1.0</td>\n",
       "      <td>Urban</td>\n",
       "      <td>Y</td>\n",
       "    </tr>\n",
       "  </tbody>\n",
       "</table>\n",
       "</div>"
      ],
      "text/plain": [
       "  Gender Married Dependents     Education Self_Employed  ApplicantIncome  \\\n",
       "0   Male      No          0      Graduate            No          1316025   \n",
       "1   Male     Yes          1      Graduate            No          1031175   \n",
       "2   Male     Yes          0      Graduate           Yes           675000   \n",
       "3   Male     Yes          0  Not Graduate            No           581175   \n",
       "4   Male      No          0      Graduate            No          1350000   \n",
       "\n",
       "   CoapplicantIncome  LoanAmount  Loan_Amount_Term  Credit_History  \\\n",
       "0                0.0      250000             360.0             1.0   \n",
       "1           339300.0      256000             360.0             1.0   \n",
       "2                0.0      132000             360.0             1.0   \n",
       "3           530550.0      240000             360.0             1.0   \n",
       "4                0.0      282000             360.0             1.0   \n",
       "\n",
       "  Property_Area Loan_Status  \n",
       "0         Urban           Y  \n",
       "1         Rural           N  \n",
       "2         Urban           Y  \n",
       "3         Urban           Y  \n",
       "4         Urban           Y  "
      ]
     },
     "execution_count": 12,
     "metadata": {},
     "output_type": "execute_result"
    }
   ],
   "source": [
    "df.head()"
   ]
  },
  {
   "cell_type": "code",
   "execution_count": 13,
   "id": "5e7b0b52",
   "metadata": {},
   "outputs": [],
   "source": [
    "# # Lets continue with missing values\n",
    "# plt.figure(figsize=(10,8),dpi=100)\n",
    "# sns.barplot(x=percent_misg.index, y=percent_misg)\n",
    "# plt.xticks(rotation=90);"
   ]
  },
  {
   "cell_type": "code",
   "execution_count": 14,
   "id": "42d2bcbd",
   "metadata": {},
   "outputs": [
    {
     "data": {
      "text/html": [
       "<div>\n",
       "<style scoped>\n",
       "    .dataframe tbody tr th:only-of-type {\n",
       "        vertical-align: middle;\n",
       "    }\n",
       "\n",
       "    .dataframe tbody tr th {\n",
       "        vertical-align: top;\n",
       "    }\n",
       "\n",
       "    .dataframe thead th {\n",
       "        text-align: right;\n",
       "    }\n",
       "</style>\n",
       "<table border=\"1\" class=\"dataframe\">\n",
       "  <thead>\n",
       "    <tr style=\"text-align: right;\">\n",
       "      <th></th>\n",
       "      <th>Gender</th>\n",
       "      <th>Married</th>\n",
       "      <th>Dependents</th>\n",
       "      <th>Education</th>\n",
       "      <th>Self_Employed</th>\n",
       "      <th>ApplicantIncome</th>\n",
       "      <th>CoapplicantIncome</th>\n",
       "      <th>LoanAmount</th>\n",
       "      <th>Loan_Amount_Term</th>\n",
       "      <th>Credit_History</th>\n",
       "      <th>Property_Area</th>\n",
       "      <th>Loan_Status</th>\n",
       "    </tr>\n",
       "  </thead>\n",
       "  <tbody>\n",
       "    <tr>\n",
       "      <th>130</th>\n",
       "      <td>Male</td>\n",
       "      <td>No</td>\n",
       "      <td>0</td>\n",
       "      <td>Graduate</td>\n",
       "      <td>Yes</td>\n",
       "      <td>4537350</td>\n",
       "      <td>0.0</td>\n",
       "      <td>1300000</td>\n",
       "      <td>480.0</td>\n",
       "      <td>NaN</td>\n",
       "      <td>Urban</td>\n",
       "      <td>Y</td>\n",
       "    </tr>\n",
       "  </tbody>\n",
       "</table>\n",
       "</div>"
      ],
      "text/plain": [
       "    Gender Married Dependents Education Self_Employed  ApplicantIncome  \\\n",
       "130   Male      No          0  Graduate           Yes          4537350   \n",
       "\n",
       "     CoapplicantIncome  LoanAmount  Loan_Amount_Term  Credit_History  \\\n",
       "130                0.0     1300000             480.0             NaN   \n",
       "\n",
       "    Property_Area Loan_Status  \n",
       "130         Urban           Y  "
      ]
     },
     "execution_count": 14,
     "metadata": {},
     "output_type": "execute_result"
    }
   ],
   "source": [
    "df.loc[(df['Loan_Amount_Term']>400) & (df['Self_Employed']=='Yes')&(df['Loan_Status']=='Y')]"
   ]
  },
  {
   "cell_type": "markdown",
   "id": "0747b1c1",
   "metadata": {},
   "source": [
    "**There is only one self employed person who  have a tenure > 400**"
   ]
  },
  {
   "cell_type": "code",
   "execution_count": 15,
   "id": "ba9ee28c",
   "metadata": {},
   "outputs": [],
   "source": [
    "# df.loc[ (df['ApplicantIncome']>df['LoanAmount'])& (df['Loan_Status']=='Y')& (df['Credit_History'].isnull())]"
   ]
  },
  {
   "cell_type": "markdown",
   "id": "81f83f80",
   "metadata": {},
   "source": [
    "**It seems from above observation there is no person with 0 credit history having thier Income greater than loan amount with a Y loan status**"
   ]
  },
  {
   "cell_type": "code",
   "execution_count": 16,
   "id": "6a434638",
   "metadata": {},
   "outputs": [],
   "source": [
    "df.loc[ (df['ApplicantIncome']>df['LoanAmount'])& (df['Loan_Status']=='Y')& (df['Credit_History'].isnull()),'Credit_History']=1"
   ]
  },
  {
   "cell_type": "markdown",
   "id": "b8c1642d",
   "metadata": {},
   "source": [
    "We are filling those missing data in credit history with 1"
   ]
  },
  {
   "cell_type": "code",
   "execution_count": 17,
   "id": "e146c6a3",
   "metadata": {},
   "outputs": [],
   "source": [
    "percent_misg = percent_missing(df)"
   ]
  },
  {
   "cell_type": "code",
   "execution_count": 18,
   "id": "af54c8da",
   "metadata": {},
   "outputs": [],
   "source": [
    "# plt.figure(figsize=(10,8),dpi=100)\n",
    "# sns.barplot(x=percent_misg.index, y=percent_misg)\n",
    "# plt.xticks(rotation=90);"
   ]
  },
  {
   "cell_type": "code",
   "execution_count": 19,
   "id": "9585c7b4",
   "metadata": {},
   "outputs": [
    {
     "data": {
      "text/html": [
       "<div>\n",
       "<style scoped>\n",
       "    .dataframe tbody tr th:only-of-type {\n",
       "        vertical-align: middle;\n",
       "    }\n",
       "\n",
       "    .dataframe tbody tr th {\n",
       "        vertical-align: top;\n",
       "    }\n",
       "\n",
       "    .dataframe thead th {\n",
       "        text-align: right;\n",
       "    }\n",
       "</style>\n",
       "<table border=\"1\" class=\"dataframe\">\n",
       "  <thead>\n",
       "    <tr style=\"text-align: right;\">\n",
       "      <th></th>\n",
       "      <th>Gender</th>\n",
       "      <th>Married</th>\n",
       "      <th>Dependents</th>\n",
       "      <th>Education</th>\n",
       "      <th>Self_Employed</th>\n",
       "      <th>ApplicantIncome</th>\n",
       "      <th>CoapplicantIncome</th>\n",
       "      <th>LoanAmount</th>\n",
       "      <th>Loan_Amount_Term</th>\n",
       "      <th>Credit_History</th>\n",
       "      <th>Property_Area</th>\n",
       "      <th>Loan_Status</th>\n",
       "    </tr>\n",
       "  </thead>\n",
       "  <tbody>\n",
       "    <tr>\n",
       "      <th>122</th>\n",
       "      <td>Female</td>\n",
       "      <td>No</td>\n",
       "      <td>0</td>\n",
       "      <td>Graduate</td>\n",
       "      <td>No</td>\n",
       "      <td>480825</td>\n",
       "      <td>2020500.0</td>\n",
       "      <td>274000</td>\n",
       "      <td>360.0</td>\n",
       "      <td>0.0</td>\n",
       "      <td>Semiurban</td>\n",
       "      <td>Y</td>\n",
       "    </tr>\n",
       "    <tr>\n",
       "      <th>155</th>\n",
       "      <td>Male</td>\n",
       "      <td>Yes</td>\n",
       "      <td>3+</td>\n",
       "      <td>Graduate</td>\n",
       "      <td>No</td>\n",
       "      <td>8999775</td>\n",
       "      <td>0.0</td>\n",
       "      <td>1200000</td>\n",
       "      <td>180.0</td>\n",
       "      <td>0.0</td>\n",
       "      <td>Semiurban</td>\n",
       "      <td>Y</td>\n",
       "    </tr>\n",
       "    <tr>\n",
       "      <th>201</th>\n",
       "      <td>Male</td>\n",
       "      <td>No</td>\n",
       "      <td>2</td>\n",
       "      <td>Graduate</td>\n",
       "      <td>No</td>\n",
       "      <td>1107675</td>\n",
       "      <td>0.0</td>\n",
       "      <td>332000</td>\n",
       "      <td>360.0</td>\n",
       "      <td>0.0</td>\n",
       "      <td>Semiurban</td>\n",
       "      <td>Y</td>\n",
       "    </tr>\n",
       "    <tr>\n",
       "      <th>267</th>\n",
       "      <td>Male</td>\n",
       "      <td>Yes</td>\n",
       "      <td>3+</td>\n",
       "      <td>Graduate</td>\n",
       "      <td>No</td>\n",
       "      <td>974925</td>\n",
       "      <td>407475.0</td>\n",
       "      <td>320000</td>\n",
       "      <td>360.0</td>\n",
       "      <td>0.0</td>\n",
       "      <td>Urban</td>\n",
       "      <td>Y</td>\n",
       "    </tr>\n",
       "    <tr>\n",
       "      <th>326</th>\n",
       "      <td>Male</td>\n",
       "      <td>No</td>\n",
       "      <td>0</td>\n",
       "      <td>Graduate</td>\n",
       "      <td>No</td>\n",
       "      <td>1106325</td>\n",
       "      <td>0.0</td>\n",
       "      <td>260000</td>\n",
       "      <td>360.0</td>\n",
       "      <td>0.0</td>\n",
       "      <td>Rural</td>\n",
       "      <td>Y</td>\n",
       "    </tr>\n",
       "    <tr>\n",
       "      <th>453</th>\n",
       "      <td>Male</td>\n",
       "      <td>Yes</td>\n",
       "      <td>0</td>\n",
       "      <td>Graduate</td>\n",
       "      <td>No</td>\n",
       "      <td>558675</td>\n",
       "      <td>554850.0</td>\n",
       "      <td>180000</td>\n",
       "      <td>180.0</td>\n",
       "      <td>0.0</td>\n",
       "      <td>Rural</td>\n",
       "      <td>Y</td>\n",
       "    </tr>\n",
       "  </tbody>\n",
       "</table>\n",
       "</div>"
      ],
      "text/plain": [
       "     Gender Married Dependents Education Self_Employed  ApplicantIncome  \\\n",
       "122  Female      No          0  Graduate            No           480825   \n",
       "155    Male     Yes         3+  Graduate            No          8999775   \n",
       "201    Male      No          2  Graduate            No          1107675   \n",
       "267    Male     Yes         3+  Graduate            No           974925   \n",
       "326    Male      No          0  Graduate            No          1106325   \n",
       "453    Male     Yes          0  Graduate            No           558675   \n",
       "\n",
       "     CoapplicantIncome  LoanAmount  Loan_Amount_Term  Credit_History  \\\n",
       "122          2020500.0      274000             360.0             0.0   \n",
       "155                0.0     1200000             180.0             0.0   \n",
       "201                0.0      332000             360.0             0.0   \n",
       "267           407475.0      320000             360.0             0.0   \n",
       "326                0.0      260000             360.0             0.0   \n",
       "453           554850.0      180000             180.0             0.0   \n",
       "\n",
       "    Property_Area Loan_Status  \n",
       "122     Semiurban           Y  \n",
       "155     Semiurban           Y  \n",
       "201     Semiurban           Y  \n",
       "267         Urban           Y  \n",
       "326         Rural           Y  \n",
       "453         Rural           Y  "
      ]
     },
     "execution_count": 19,
     "metadata": {},
     "output_type": "execute_result"
    }
   ],
   "source": [
    "df.loc[(df['Loan_Status']=='Y')&(df['Credit_History']==0)]"
   ]
  },
  {
   "cell_type": "markdown",
   "id": "e3bd8630",
   "metadata": {},
   "source": [
    "Seems like there are lot many entries of accepted loans with a postive credit history than with 0 credit history. From this insight we can fill the missing values of credit historys"
   ]
  },
  {
   "cell_type": "code",
   "execution_count": 20,
   "id": "970d8ae1",
   "metadata": {},
   "outputs": [],
   "source": [
    "df.loc[(df['Loan_Status']=='N')&(df['Credit_History'].isnull()),'Credit_History']=0"
   ]
  },
  {
   "cell_type": "code",
   "execution_count": 21,
   "id": "e682448b",
   "metadata": {},
   "outputs": [],
   "source": [
    "# percent_misg = percent_missing(df)\n",
    "# plt.figure(figsize=(10,8),dpi=100)\n",
    "# sns.barplot(x=percent_misg.index, y=percent_misg)\n",
    "# plt.xticks(rotation=90);"
   ]
  },
  {
   "cell_type": "markdown",
   "id": "ca3c17ff",
   "metadata": {},
   "source": [
    "Credit history has been removed"
   ]
  },
  {
   "cell_type": "code",
   "execution_count": 22,
   "id": "b08cbc66",
   "metadata": {},
   "outputs": [
    {
     "data": {
      "text/html": [
       "<div>\n",
       "<style scoped>\n",
       "    .dataframe tbody tr th:only-of-type {\n",
       "        vertical-align: middle;\n",
       "    }\n",
       "\n",
       "    .dataframe tbody tr th {\n",
       "        vertical-align: top;\n",
       "    }\n",
       "\n",
       "    .dataframe thead th {\n",
       "        text-align: right;\n",
       "    }\n",
       "</style>\n",
       "<table border=\"1\" class=\"dataframe\">\n",
       "  <thead>\n",
       "    <tr style=\"text-align: right;\">\n",
       "      <th></th>\n",
       "      <th>Gender</th>\n",
       "      <th>Married</th>\n",
       "      <th>Dependents</th>\n",
       "      <th>Education</th>\n",
       "      <th>Self_Employed</th>\n",
       "      <th>ApplicantIncome</th>\n",
       "      <th>CoapplicantIncome</th>\n",
       "      <th>LoanAmount</th>\n",
       "      <th>Loan_Amount_Term</th>\n",
       "      <th>Credit_History</th>\n",
       "      <th>Property_Area</th>\n",
       "      <th>Loan_Status</th>\n",
       "    </tr>\n",
       "  </thead>\n",
       "  <tbody>\n",
       "  </tbody>\n",
       "</table>\n",
       "</div>"
      ],
      "text/plain": [
       "Empty DataFrame\n",
       "Columns: [Gender, Married, Dependents, Education, Self_Employed, ApplicantIncome, CoapplicantIncome, LoanAmount, Loan_Amount_Term, Credit_History, Property_Area, Loan_Status]\n",
       "Index: []"
      ]
     },
     "execution_count": 22,
     "metadata": {},
     "output_type": "execute_result"
    }
   ],
   "source": [
    "df.loc[(df['Gender'].isnull())&(df['Dependents'].isnull())&(df['Loan_Amount_Term'].isnull())&(df['Self_Employed'].isnull())]"
   ]
  },
  {
   "cell_type": "code",
   "execution_count": 23,
   "id": "6344f728",
   "metadata": {},
   "outputs": [
    {
     "data": {
      "text/plain": [
       "(518, 12)"
      ]
     },
     "execution_count": 23,
     "metadata": {},
     "output_type": "execute_result"
    }
   ],
   "source": [
    "df.shape"
   ]
  },
  {
   "cell_type": "code",
   "execution_count": 24,
   "id": "03fb00ff",
   "metadata": {},
   "outputs": [
    {
     "data": {
      "text/html": [
       "<div>\n",
       "<style scoped>\n",
       "    .dataframe tbody tr th:only-of-type {\n",
       "        vertical-align: middle;\n",
       "    }\n",
       "\n",
       "    .dataframe tbody tr th {\n",
       "        vertical-align: top;\n",
       "    }\n",
       "\n",
       "    .dataframe thead th {\n",
       "        text-align: right;\n",
       "    }\n",
       "</style>\n",
       "<table border=\"1\" class=\"dataframe\">\n",
       "  <thead>\n",
       "    <tr style=\"text-align: right;\">\n",
       "      <th></th>\n",
       "      <th>Gender</th>\n",
       "      <th>Married</th>\n",
       "      <th>Dependents</th>\n",
       "      <th>Education</th>\n",
       "      <th>Self_Employed</th>\n",
       "      <th>ApplicantIncome</th>\n",
       "      <th>CoapplicantIncome</th>\n",
       "      <th>LoanAmount</th>\n",
       "      <th>Loan_Amount_Term</th>\n",
       "      <th>Credit_History</th>\n",
       "      <th>Property_Area</th>\n",
       "      <th>Loan_Status</th>\n",
       "    </tr>\n",
       "  </thead>\n",
       "  <tbody>\n",
       "    <tr>\n",
       "      <th>130</th>\n",
       "      <td>Male</td>\n",
       "      <td>No</td>\n",
       "      <td>0</td>\n",
       "      <td>Graduate</td>\n",
       "      <td>Yes</td>\n",
       "      <td>4537350</td>\n",
       "      <td>0.0</td>\n",
       "      <td>1300000</td>\n",
       "      <td>480.0</td>\n",
       "      <td>1.0</td>\n",
       "      <td>Urban</td>\n",
       "      <td>Y</td>\n",
       "    </tr>\n",
       "  </tbody>\n",
       "</table>\n",
       "</div>"
      ],
      "text/plain": [
       "    Gender Married Dependents Education Self_Employed  ApplicantIncome  \\\n",
       "130   Male      No          0  Graduate           Yes          4537350   \n",
       "\n",
       "     CoapplicantIncome  LoanAmount  Loan_Amount_Term  Credit_History  \\\n",
       "130                0.0     1300000             480.0             1.0   \n",
       "\n",
       "    Property_Area Loan_Status  \n",
       "130         Urban           Y  "
      ]
     },
     "execution_count": 24,
     "metadata": {},
     "output_type": "execute_result"
    }
   ],
   "source": [
    "df.loc[(df['Self_Employed']=='Yes')&(df['Loan_Amount_Term']>400)]"
   ]
  },
  {
   "cell_type": "code",
   "execution_count": 25,
   "id": "38cf3230",
   "metadata": {},
   "outputs": [
    {
     "data": {
      "text/html": [
       "<div>\n",
       "<style scoped>\n",
       "    .dataframe tbody tr th:only-of-type {\n",
       "        vertical-align: middle;\n",
       "    }\n",
       "\n",
       "    .dataframe tbody tr th {\n",
       "        vertical-align: top;\n",
       "    }\n",
       "\n",
       "    .dataframe thead th {\n",
       "        text-align: right;\n",
       "    }\n",
       "</style>\n",
       "<table border=\"1\" class=\"dataframe\">\n",
       "  <thead>\n",
       "    <tr style=\"text-align: right;\">\n",
       "      <th></th>\n",
       "      <th>Gender</th>\n",
       "      <th>Married</th>\n",
       "      <th>Dependents</th>\n",
       "      <th>Education</th>\n",
       "      <th>Self_Employed</th>\n",
       "      <th>ApplicantIncome</th>\n",
       "      <th>CoapplicantIncome</th>\n",
       "      <th>LoanAmount</th>\n",
       "      <th>Loan_Amount_Term</th>\n",
       "      <th>Credit_History</th>\n",
       "      <th>Property_Area</th>\n",
       "      <th>Loan_Status</th>\n",
       "    </tr>\n",
       "  </thead>\n",
       "  <tbody>\n",
       "    <tr>\n",
       "      <th>44</th>\n",
       "      <td>Male</td>\n",
       "      <td>Yes</td>\n",
       "      <td>0</td>\n",
       "      <td>Not Graduate</td>\n",
       "      <td>Yes</td>\n",
       "      <td>1056375</td>\n",
       "      <td>0.0</td>\n",
       "      <td>192000</td>\n",
       "      <td>NaN</td>\n",
       "      <td>1.0</td>\n",
       "      <td>Urban</td>\n",
       "      <td>Y</td>\n",
       "    </tr>\n",
       "    <tr>\n",
       "      <th>335</th>\n",
       "      <td>Male</td>\n",
       "      <td>Yes</td>\n",
       "      <td>NaN</td>\n",
       "      <td>Graduate</td>\n",
       "      <td>Yes</td>\n",
       "      <td>1238175</td>\n",
       "      <td>1010250.0</td>\n",
       "      <td>140000</td>\n",
       "      <td>NaN</td>\n",
       "      <td>1.0</td>\n",
       "      <td>Semiurban</td>\n",
       "      <td>Y</td>\n",
       "    </tr>\n",
       "  </tbody>\n",
       "</table>\n",
       "</div>"
      ],
      "text/plain": [
       "    Gender Married Dependents     Education Self_Employed  ApplicantIncome  \\\n",
       "44    Male     Yes          0  Not Graduate           Yes          1056375   \n",
       "335   Male     Yes        NaN      Graduate           Yes          1238175   \n",
       "\n",
       "     CoapplicantIncome  LoanAmount  Loan_Amount_Term  Credit_History  \\\n",
       "44                 0.0      192000               NaN             1.0   \n",
       "335          1010250.0      140000               NaN             1.0   \n",
       "\n",
       "    Property_Area Loan_Status  \n",
       "44          Urban           Y  \n",
       "335     Semiurban           Y  "
      ]
     },
     "execution_count": 25,
     "metadata": {},
     "output_type": "execute_result"
    }
   ],
   "source": [
    "df.loc[(df['Self_Employed']=='Yes')&(df['Loan_Amount_Term'].isnull())]"
   ]
  },
  {
   "cell_type": "markdown",
   "id": "8b744789",
   "metadata": {},
   "source": [
    "Since there is only person with a self employed status with loan term > 400 we can fill the missing values of loan amount term of self employed customers with the mean value of Loan term < 400"
   ]
  },
  {
   "cell_type": "code",
   "execution_count": 26,
   "id": "bb0cede5",
   "metadata": {},
   "outputs": [
    {
     "data": {
      "text/plain": [
       "339.5437881873727"
      ]
     },
     "execution_count": 26,
     "metadata": {},
     "output_type": "execute_result"
    }
   ],
   "source": [
    "selected_rows = df[df['Loan_Amount_Term'] < 400]\n",
    "\n",
    "# Calculate the average of the Loan_amount column for the selected rows ignoring missing values\n",
    "loan_term_avg = selected_rows['Loan_Amount_Term'].mean(skipna=True)\n",
    "loan_term_avg"
   ]
  },
  {
   "cell_type": "code",
   "execution_count": 27,
   "id": "550a031e",
   "metadata": {},
   "outputs": [],
   "source": [
    "df.loc[(df['Self_Employed']=='Yes')&(df['Loan_Amount_Term'].isnull()),'Loan_Amount_Term']=340"
   ]
  },
  {
   "cell_type": "code",
   "execution_count": 28,
   "id": "1b6a9bfc",
   "metadata": {},
   "outputs": [],
   "source": [
    "df.dropna(axis=0, subset=['Dependents'], inplace=True)"
   ]
  },
  {
   "cell_type": "markdown",
   "id": "027d2e37",
   "metadata": {},
   "source": [
    "Since we cant correctly fill the missing values of dependents we can remove then as it is only <2%"
   ]
  },
  {
   "cell_type": "code",
   "execution_count": 29,
   "id": "70bfee24",
   "metadata": {},
   "outputs": [],
   "source": [
    "#similarly can remove missing Gender rows\n",
    "df.dropna(axis=0, subset=['Gender'], inplace=True)"
   ]
  },
  {
   "cell_type": "code",
   "execution_count": 30,
   "id": "d3918b4d",
   "metadata": {},
   "outputs": [],
   "source": [
    "# percent_misg = percent_missing(df)\n",
    "# plt.figure(figsize=(10,8))\n",
    "# sns.barplot(x=percent_misg.index, y=percent_misg)\n",
    "# plt.xticks(rotation=90);"
   ]
  },
  {
   "cell_type": "code",
   "execution_count": 31,
   "id": "9c12bee3",
   "metadata": {},
   "outputs": [
    {
     "data": {
      "text/plain": [
       "(15, 12)"
      ]
     },
     "execution_count": 31,
     "metadata": {},
     "output_type": "execute_result"
    }
   ],
   "source": [
    "df.loc[(df['Self_Employed'].isnull())&(df['CoapplicantIncome']>0)].shape"
   ]
  },
  {
   "cell_type": "markdown",
   "id": "dd0908b3",
   "metadata": {},
   "source": [
    "- the number of peope who are self employed and have a co applicant are much less than the number of people who are not self employed and have a co applicant"
   ]
  },
  {
   "cell_type": "code",
   "execution_count": 32,
   "id": "bf0ed43b",
   "metadata": {},
   "outputs": [],
   "source": [
    "df.loc[(df['Self_Employed'].isnull())&(df['CoapplicantIncome']>0),'Self_Employed']='No'"
   ]
  },
  {
   "cell_type": "code",
   "execution_count": 33,
   "id": "af26116c",
   "metadata": {},
   "outputs": [
    {
     "data": {
      "text/html": [
       "<div>\n",
       "<style scoped>\n",
       "    .dataframe tbody tr th:only-of-type {\n",
       "        vertical-align: middle;\n",
       "    }\n",
       "\n",
       "    .dataframe tbody tr th {\n",
       "        vertical-align: top;\n",
       "    }\n",
       "\n",
       "    .dataframe thead th {\n",
       "        text-align: right;\n",
       "    }\n",
       "</style>\n",
       "<table border=\"1\" class=\"dataframe\">\n",
       "  <thead>\n",
       "    <tr style=\"text-align: right;\">\n",
       "      <th></th>\n",
       "      <th>Gender</th>\n",
       "      <th>Married</th>\n",
       "      <th>Dependents</th>\n",
       "      <th>Education</th>\n",
       "      <th>Self_Employed</th>\n",
       "      <th>ApplicantIncome</th>\n",
       "      <th>CoapplicantIncome</th>\n",
       "      <th>LoanAmount</th>\n",
       "      <th>Loan_Amount_Term</th>\n",
       "      <th>Credit_History</th>\n",
       "      <th>Property_Area</th>\n",
       "      <th>Loan_Status</th>\n",
       "    </tr>\n",
       "  </thead>\n",
       "  <tbody>\n",
       "    <tr>\n",
       "      <th>0</th>\n",
       "      <td>Male</td>\n",
       "      <td>No</td>\n",
       "      <td>0</td>\n",
       "      <td>Graduate</td>\n",
       "      <td>No</td>\n",
       "      <td>1316025</td>\n",
       "      <td>0.0</td>\n",
       "      <td>250000</td>\n",
       "      <td>360.0</td>\n",
       "      <td>1.0</td>\n",
       "      <td>Urban</td>\n",
       "      <td>Y</td>\n",
       "    </tr>\n",
       "    <tr>\n",
       "      <th>1</th>\n",
       "      <td>Male</td>\n",
       "      <td>Yes</td>\n",
       "      <td>1</td>\n",
       "      <td>Graduate</td>\n",
       "      <td>No</td>\n",
       "      <td>1031175</td>\n",
       "      <td>339300.0</td>\n",
       "      <td>256000</td>\n",
       "      <td>360.0</td>\n",
       "      <td>1.0</td>\n",
       "      <td>Rural</td>\n",
       "      <td>N</td>\n",
       "    </tr>\n",
       "    <tr>\n",
       "      <th>2</th>\n",
       "      <td>Male</td>\n",
       "      <td>Yes</td>\n",
       "      <td>0</td>\n",
       "      <td>Graduate</td>\n",
       "      <td>Yes</td>\n",
       "      <td>675000</td>\n",
       "      <td>0.0</td>\n",
       "      <td>132000</td>\n",
       "      <td>360.0</td>\n",
       "      <td>1.0</td>\n",
       "      <td>Urban</td>\n",
       "      <td>Y</td>\n",
       "    </tr>\n",
       "    <tr>\n",
       "      <th>3</th>\n",
       "      <td>Male</td>\n",
       "      <td>Yes</td>\n",
       "      <td>0</td>\n",
       "      <td>Not Graduate</td>\n",
       "      <td>No</td>\n",
       "      <td>581175</td>\n",
       "      <td>530550.0</td>\n",
       "      <td>240000</td>\n",
       "      <td>360.0</td>\n",
       "      <td>1.0</td>\n",
       "      <td>Urban</td>\n",
       "      <td>Y</td>\n",
       "    </tr>\n",
       "    <tr>\n",
       "      <th>4</th>\n",
       "      <td>Male</td>\n",
       "      <td>No</td>\n",
       "      <td>0</td>\n",
       "      <td>Graduate</td>\n",
       "      <td>No</td>\n",
       "      <td>1350000</td>\n",
       "      <td>0.0</td>\n",
       "      <td>282000</td>\n",
       "      <td>360.0</td>\n",
       "      <td>1.0</td>\n",
       "      <td>Urban</td>\n",
       "      <td>Y</td>\n",
       "    </tr>\n",
       "  </tbody>\n",
       "</table>\n",
       "</div>"
      ],
      "text/plain": [
       "  Gender Married Dependents     Education Self_Employed  ApplicantIncome  \\\n",
       "0   Male      No          0      Graduate            No          1316025   \n",
       "1   Male     Yes          1      Graduate            No          1031175   \n",
       "2   Male     Yes          0      Graduate           Yes           675000   \n",
       "3   Male     Yes          0  Not Graduate            No           581175   \n",
       "4   Male      No          0      Graduate            No          1350000   \n",
       "\n",
       "   CoapplicantIncome  LoanAmount  Loan_Amount_Term  Credit_History  \\\n",
       "0                0.0      250000             360.0             1.0   \n",
       "1           339300.0      256000             360.0             1.0   \n",
       "2                0.0      132000             360.0             1.0   \n",
       "3           530550.0      240000             360.0             1.0   \n",
       "4                0.0      282000             360.0             1.0   \n",
       "\n",
       "  Property_Area Loan_Status  \n",
       "0         Urban           Y  \n",
       "1         Rural           N  \n",
       "2         Urban           Y  \n",
       "3         Urban           Y  \n",
       "4         Urban           Y  "
      ]
     },
     "execution_count": 33,
     "metadata": {},
     "output_type": "execute_result"
    }
   ],
   "source": [
    "df.head()"
   ]
  },
  {
   "cell_type": "code",
   "execution_count": 34,
   "id": "40f66b09",
   "metadata": {},
   "outputs": [],
   "source": [
    "df.dropna(axis=0, subset=['Loan_Amount_Term','Self_Employed'], inplace=True)"
   ]
  },
  {
   "cell_type": "code",
   "execution_count": 35,
   "id": "c281dc52",
   "metadata": {},
   "outputs": [
    {
     "data": {
      "text/plain": [
       "(474, 12)"
      ]
     },
     "execution_count": 35,
     "metadata": {},
     "output_type": "execute_result"
    }
   ],
   "source": [
    "df.shape"
   ]
  },
  {
   "cell_type": "code",
   "execution_count": 36,
   "id": "10beff2e",
   "metadata": {},
   "outputs": [],
   "source": [
    "#Applying OHE with drop first not enable and will remove redundant manually\n",
    "# df = pd.get_dummies(df, drop_first=False)"
   ]
  },
  {
   "cell_type": "code",
   "execution_count": 37,
   "id": "20e9773b",
   "metadata": {},
   "outputs": [],
   "source": [
    "# df= df.drop('Gender_Female',axis=1)\n",
    "# df = df.drop('Married_No',axis=1)\n",
    "# df = df.drop('Education_Not Graduate',axis=1)\n",
    "# df = df.drop('Self_Employed_No',axis = 1)\n",
    "# df = df.drop('Loan_Status_N',axis = 1)"
   ]
  },
  {
   "cell_type": "code",
   "execution_count": 38,
   "id": "951c1387",
   "metadata": {},
   "outputs": [
    {
     "data": {
      "text/plain": [
       "Gender               0\n",
       "Married              0\n",
       "Dependents           0\n",
       "Education            0\n",
       "Self_Employed        0\n",
       "ApplicantIncome      0\n",
       "CoapplicantIncome    0\n",
       "LoanAmount           0\n",
       "Loan_Amount_Term     0\n",
       "Credit_History       0\n",
       "Property_Area        0\n",
       "Loan_Status          0\n",
       "dtype: int64"
      ]
     },
     "execution_count": 38,
     "metadata": {},
     "output_type": "execute_result"
    }
   ],
   "source": [
    "df.isnull().sum() #verifying no null values"
   ]
  },
  {
   "cell_type": "markdown",
   "id": "07eb78b0",
   "metadata": {},
   "source": [
    "## Hypothesis testing for categorical features"
   ]
  },
  {
   "cell_type": "markdown",
   "id": "5383688b",
   "metadata": {},
   "source": [
    "1. Null Hypothesis, N0: Features are insignificant to loan status. Na : has significant effect"
   ]
  },
  {
   "cell_type": "markdown",
   "id": "092cd913",
   "metadata": {},
   "source": [
    "Conducting Chi2 test for independence"
   ]
  },
  {
   "cell_type": "code",
   "execution_count": 39,
   "id": "5a53e154",
   "metadata": {},
   "outputs": [],
   "source": [
    "from scipy.stats import chi2_contingency"
   ]
  },
  {
   "cell_type": "code",
   "execution_count": 40,
   "id": "f3b9829f",
   "metadata": {},
   "outputs": [
    {
     "name": "stdout",
     "output_type": "stream",
     "text": [
      "p-value: 0.6501405284407019\n"
     ]
    }
   ],
   "source": [
    "# Create a contingency table\n",
    "cont_table = pd.crosstab(df['Gender'], df['Loan_Status'])\n",
    "\n",
    "# Conduct the chi-square test\n",
    "chi2, pval, dof, exp_freq = chi2_contingency(cont_table)\n",
    "\n",
    "# Print the p-value\n",
    "print('p-value:', pval)"
   ]
  },
  {
   "cell_type": "markdown",
   "id": "d3c18863",
   "metadata": {},
   "source": [
    "**There fore we fail to reject the Null hypothesis(considering a significance level of 0.05). Gender do not affect the Loan Status**"
   ]
  },
  {
   "cell_type": "code",
   "execution_count": 41,
   "id": "b8e635f9",
   "metadata": {},
   "outputs": [
    {
     "name": "stdout",
     "output_type": "stream",
     "text": [
      "Gender vs LoanStatus is not significant (p-value: 0.6501405284407019)\n",
      "Education vs LoanStatus is not significant (p-value: 0.0964040078580344)\n",
      "Self_Employed vs LoanStatus is not significant (p-value: 0.8439514357511773)\n",
      "Property_Area vs LoanStatus is significant (p-value: 0.0009191785863088136)\n",
      "Married vs LoanStatus is significant (p-value: 0.04117253465094671)\n"
     ]
    }
   ],
   "source": [
    "\n",
    "# Loop through each categorical feature and perform a chi-square test with the target variable\n",
    "cat_cols = ['Gender', 'Education', 'Self_Employed', 'Property_Area','Married']\n",
    "# Set the significance level\n",
    "alpha = 0.05\n",
    "pvalue_C=[]\n",
    "\n",
    "# Loop through each categorical feature and perform a chi-square test with the target variable\n",
    "for col in cat_cols:\n",
    "    cont_table = pd.crosstab(df[col], df['Loan_Status'])\n",
    "    chi2, pval, dof, exp_freq = chi2_contingency(cont_table)\n",
    "    pvalue_C.append(pval)\n",
    "    if pval < alpha:\n",
    "        print(f\"{col} vs LoanStatus is significant (p-value: {pval})\")\n",
    "    else:\n",
    "        print(f\"{col} vs LoanStatus is not significant (p-value: {pval})\")"
   ]
  },
  {
   "cell_type": "markdown",
   "id": "018ada92",
   "metadata": {},
   "source": []
  },
  {
   "cell_type": "markdown",
   "id": "54934a9b",
   "metadata": {},
   "source": [
    "## ANOVA test for Numerical features"
   ]
  },
  {
   "cell_type": "code",
   "execution_count": 42,
   "id": "a6f18118",
   "metadata": {},
   "outputs": [],
   "source": [
    "from scipy.stats import f_oneway"
   ]
  },
  {
   "cell_type": "code",
   "execution_count": 43,
   "id": "2b60d1dd",
   "metadata": {},
   "outputs": [
    {
     "name": "stdout",
     "output_type": "stream",
     "text": [
      "<class 'pandas.core.frame.DataFrame'>\n",
      "Int64Index: 474 entries, 0 to 520\n",
      "Data columns (total 12 columns):\n",
      " #   Column             Non-Null Count  Dtype  \n",
      "---  ------             --------------  -----  \n",
      " 0   Gender             474 non-null    object \n",
      " 1   Married            474 non-null    object \n",
      " 2   Dependents         474 non-null    object \n",
      " 3   Education          474 non-null    object \n",
      " 4   Self_Employed      474 non-null    object \n",
      " 5   ApplicantIncome    474 non-null    int64  \n",
      " 6   CoapplicantIncome  474 non-null    float64\n",
      " 7   LoanAmount         474 non-null    int64  \n",
      " 8   Loan_Amount_Term   474 non-null    float64\n",
      " 9   Credit_History     474 non-null    float64\n",
      " 10  Property_Area      474 non-null    object \n",
      " 11  Loan_Status        474 non-null    object \n",
      "dtypes: float64(3), int64(2), object(7)\n",
      "memory usage: 48.1+ KB\n"
     ]
    }
   ],
   "source": [
    "df.info()"
   ]
  },
  {
   "cell_type": "code",
   "execution_count": 44,
   "id": "98271173",
   "metadata": {},
   "outputs": [],
   "source": [
    "df.loc[(df['Dependents']=='3+'),'Dependents']=3"
   ]
  },
  {
   "cell_type": "code",
   "execution_count": 45,
   "id": "2ca9010b",
   "metadata": {},
   "outputs": [],
   "source": [
    "#converting the dependent column to int64\n",
    "df['Dependents'] = df['Dependents'].astype('int64')"
   ]
  },
  {
   "cell_type": "code",
   "execution_count": 46,
   "id": "db1fcc5f",
   "metadata": {},
   "outputs": [
    {
     "name": "stdout",
     "output_type": "stream",
     "text": [
      "Dependents vs LoanStatus is not significant (p-value = 0.610)\n",
      "LoanAmount vs LoanStatus is not significant (p-value = 0.073)\n",
      "Loan_Amount_Term vs LoanStatus is not significant (p-value = 0.541)\n",
      "ApplicantIncome vs LoanStatus is not significant (p-value = 0.122)\n",
      "CoapplicantIncome vs LoanStatus is not significant (p-value = 0.712)\n",
      "Credit_History vs LoanStatus is significant (p-value = 0.000)\n"
     ]
    }
   ],
   "source": [
    "num_cols = ['Dependents', 'LoanAmount', 'Loan_Amount_Term','ApplicantIncome','CoapplicantIncome','Credit_History']\n",
    "alpha = 0.05\n",
    "pvalues = []\n",
    "# Perform ANOVA for each numerical feature with the target variable\n",
    "for col in num_cols:\n",
    "    # Split the data into multiple groups based on the target variable\n",
    "    groups = []\n",
    "    for group_name in df['Loan_Status'].unique():\n",
    "        group = df[df['Loan_Status'] == group_name][col]\n",
    "        groups.append(group)\n",
    "    \n",
    "    # Perform ANOVA\n",
    "    fstat, pval = f_oneway(*groups)\n",
    "    pvalues.append(pval)\n",
    "    # Print the result\n",
    "    if pval < alpha:\n",
    "        print(f\"{col} vs LoanStatus is significant (p-value = {pval:.3f})\")\n",
    "    else:\n",
    "        print(f\"{col} vs LoanStatus is not significant (p-value = {pval:.3f})\")\n"
   ]
  },
  {
   "cell_type": "code",
   "execution_count": 47,
   "id": "857da297",
   "metadata": {},
   "outputs": [],
   "source": [
    "# fig, ax = plt.subplots(figsize=(14,6))\n",
    "# ax.bar(num_cols, pvalues)\n",
    "# ax.set_ylabel('p-value')\n",
    "# ax.set_ylim([0, 1])\n",
    "# ax.axhline(y=alpha, color='r', linestyle='--')\n",
    "# ax.set_title('ANOVA p-values for numerical features vs LoanStatus')\n",
    "# plt.show()"
   ]
  },
  {
   "cell_type": "code",
   "execution_count": 48,
   "id": "0264a7fd",
   "metadata": {},
   "outputs": [],
   "source": [
    "# fig, ax = plt.subplots(figsize=(14,6))\n",
    "# ax.bar(cat_cols, pvalue_C)\n",
    "# ax.set_ylabel('p-value ')\n",
    "# ax.set_ylim([0, 1])\n",
    "# ax.axhline(y=alpha, color='r', linestyle='--')\n",
    "# ax.set_title('Chi2 p-values for Categorical vs LoanStatus')\n",
    "# plt.show()"
   ]
  },
  {
   "cell_type": "markdown",
   "id": "f95928fd",
   "metadata": {},
   "source": [
    "## Visualizations of categotrical features with Loan status\n"
   ]
  },
  {
   "cell_type": "code",
   "execution_count": 49,
   "id": "419673e0",
   "metadata": {},
   "outputs": [
    {
     "data": {
      "image/png": "[encoded data removed]",
      "text/plain": [
       "<Figure size 432x288 with 1 Axes>"
      ]
     },
     "metadata": {
      "needs_background": "light"
     },
     "output_type": "display_data"
    }
   ],
   "source": [
    "sns.countplot(x='Gender', hue='Loan_Status', data=df);\n",
    "plt.title('Count Plot of Loan Status by Gender');"
   ]
  },
  {
   "cell_type": "code",
   "execution_count": 50,
   "id": "2605396b",
   "metadata": {},
   "outputs": [
    {
     "data": {
      "image/png": "[encoded data removed]",
      "text/plain": [
       "<Figure size 432x288 with 1 Axes>"
      ]
     },
     "metadata": {
      "needs_background": "light"
     },
     "output_type": "display_data"
    }
   ],
   "source": [
    "sns.countplot(x='Married', hue='Loan_Status', data=df);\n",
    "plt.title('Count Plot of Loan Status by Marital status');"
   ]
  },
  {
   "cell_type": "code",
   "execution_count": 51,
   "id": "456c795d",
   "metadata": {},
   "outputs": [
    {
     "data": {
      "image/png": "[encoded data removed]",
      "text/plain": [
       "<Figure size 432x288 with 1 Axes>"
      ]
     },
     "metadata": {
      "needs_background": "light"
     },
     "output_type": "display_data"
    }
   ],
   "source": [
    "sns.countplot(x='Education', hue='Loan_Status', data=df);\n",
    "plt.title('Count Plot of Loan Status by Education');"
   ]
  },
  {
   "cell_type": "code",
   "execution_count": 52,
   "id": "d2d1f6dc",
   "metadata": {},
   "outputs": [
    {
     "data": {
      "image/png": "[encoded data removed]",
      "text/plain": [
       "<Figure size 432x288 with 1 Axes>"
      ]
     },
     "metadata": {
      "needs_background": "light"
     },
     "output_type": "display_data"
    }
   ],
   "source": [
    "sns.countplot(x='Property_Area', hue='Loan_Status', data=df);\n",
    "plt.title('Count Plot of Loan Status by Property_Area');"
   ]
  },
  {
   "cell_type": "code",
   "execution_count": 53,
   "id": "026c8f1d",
   "metadata": {},
   "outputs": [
    {
     "data": {
      "image/png": "[encoded data removed]",
      "text/plain": [
       "<Figure size 432x288 with 1 Axes>"
      ]
     },
     "metadata": {
      "needs_background": "light"
     },
     "output_type": "display_data"
    }
   ],
   "source": [
    "sns.countplot(x='Self_Employed', hue='Loan_Status', data=df);\n",
    "plt.title('Count Plot of Loan Status by Employment type');"
   ]
  },
  {
   "cell_type": "code",
   "execution_count": 54,
   "id": "a30df44c",
   "metadata": {},
   "outputs": [
    {
     "data": {
      "image/png": "[encoded data removed]",
      "text/plain": [
       "<Figure size 432x288 with 1 Axes>"
      ]
     },
     "metadata": {
      "needs_background": "light"
     },
     "output_type": "display_data"
    }
   ],
   "source": [
    "sns.countplot(x='Credit_History', hue='Loan_Status', data=df);\n",
    "plt.title('Count Plot of Loan Status by Credit history');"
   ]
  },
  {
   "cell_type": "markdown",
   "id": "bd783a0a",
   "metadata": {},
   "source": [
    "## Numerical features with respect to Loan Status"
   ]
  },
  {
   "cell_type": "code",
   "execution_count": 55,
   "id": "75766265",
   "metadata": {},
   "outputs": [
    {
     "data": {
      "image/png": "[encoded data removed]",
      "text/plain": [
       "<Figure size 432x288 with 1 Axes>"
      ]
     },
     "metadata": {
      "needs_background": "light"
     },
     "output_type": "display_data"
    }
   ],
   "source": [
    "sns.boxplot(x='Loan_Status', y='Dependents', data=df)\n",
    "plt.title('Box Plot of Loan Status by Dependents');\n",
    "plt.show()"
   ]
  },
  {
   "cell_type": "code",
   "execution_count": 56,
   "id": "07ab4aa1",
   "metadata": {},
   "outputs": [
    {
     "data": {
      "image/png": "[encoded data removed]",
      "text/plain": [
       "<Figure size 432x288 with 1 Axes>"
      ]
     },
     "metadata": {
      "needs_background": "light"
     },
     "output_type": "display_data"
    }
   ],
   "source": [
    "sns.boxplot(x='Loan_Status', y='LoanAmount', data=df)\n",
    "plt.title('Box Plot of Loan Status by LoanAmount');\n",
    "plt.show()"
   ]
  },
  {
   "cell_type": "code",
   "execution_count": 57,
   "id": "7aef41eb",
   "metadata": {},
   "outputs": [
    {
     "data": {
      "image/png": "[encoded data removed]",
      "text/plain": [
       "<Figure size 432x288 with 1 Axes>"
      ]
     },
     "metadata": {
      "needs_background": "light"
     },
     "output_type": "display_data"
    }
   ],
   "source": [
    "sns.boxplot(x='Loan_Status', y='Loan_Amount_Term', data=df)\n",
    "plt.title('Box Plot of Loan Status by Loan_Amount_Term');\n",
    "plt.show()"
   ]
  },
  {
   "cell_type": "code",
   "execution_count": 58,
   "id": "ca348368",
   "metadata": {},
   "outputs": [
    {
     "data": {
      "image/png": "[encoded data removed]",
      "text/plain": [
       "<Figure size 432x288 with 1 Axes>"
      ]
     },
     "metadata": {
      "needs_background": "light"
     },
     "output_type": "display_data"
    }
   ],
   "source": [
    "sns.boxplot(x='Loan_Status', y='ApplicantIncome', data=df)\n",
    "plt.title('Box Plot of Loan Status by ApplicantIncome');\n",
    "plt.show()"
   ]
  },
  {
   "cell_type": "code",
   "execution_count": 59,
   "id": "ecee988a",
   "metadata": {},
   "outputs": [
    {
     "data": {
      "image/png": "[encoded data removed]",
      "text/plain": [
       "<Figure size 432x288 with 1 Axes>"
      ]
     },
     "metadata": {
      "needs_background": "light"
     },
     "output_type": "display_data"
    }
   ],
   "source": [
    "sns.boxplot(x='Loan_Status', y='CoapplicantIncome', data=df)\n",
    "plt.title('Box Plot of Loan Status by CoapplicantIncome');\n",
    "plt.show()"
   ]
  },
  {
   "cell_type": "code",
   "execution_count": 60,
   "id": "510227a5",
   "metadata": {},
   "outputs": [],
   "source": [
    "def centralTendencies(feature):\n",
    "    mean = df[feature].mean()\n",
    "    median = df[feature].median()\n",
    "    mode = df[feature].mode()\n",
    "\n",
    "    print('Mean:', mean)\n",
    "    print('Median:', median)\n",
    "    print('Mode:', mode)"
   ]
  },
  {
   "cell_type": "code",
   "execution_count": 61,
   "id": "60dcf47a",
   "metadata": {},
   "outputs": [
    {
     "data": {
      "text/plain": [
       "Text(0.5, 1.0, 'Loan Amount Histogram with respect to Loan Status')"
      ]
     },
     "execution_count": 61,
     "metadata": {},
     "output_type": "execute_result"
    },
    {
     "data": {
      "image/png": "[encoded data removed]",
      "text/plain": [
       "<Figure size 432x288 with 1 Axes>"
      ]
     },
     "metadata": {
      "needs_background": "light"
     },
     "output_type": "display_data"
    }
   ],
   "source": [
    "# Create histograms for the continuous features with respect to Loan_Status\n",
    "sns.histplot(data=df, x='LoanAmount', hue='Loan_Status', element='step', kde=True)\n",
    "plt.title('Loan Amount Histogram with respect to Loan Status')\n"
   ]
  },
  {
   "cell_type": "code",
   "execution_count": 62,
   "id": "2489204a",
   "metadata": {},
   "outputs": [
    {
     "name": "stdout",
     "output_type": "stream",
     "text": [
      "Mean: 277447.25738396624\n",
      "Median: 250000.0\n",
      "Mode: 0    240000\n",
      "dtype: int64\n"
     ]
    }
   ],
   "source": [
    "centralTendencies('LoanAmount')"
   ]
  },
  {
   "cell_type": "code",
   "execution_count": 63,
   "id": "042fb7bd",
   "metadata": {},
   "outputs": [
    {
     "data": {
      "image/png": "[encoded data removed]",
      "text/plain": [
       "<Figure size 432x288 with 1 Axes>"
      ]
     },
     "metadata": {
      "needs_background": "light"
     },
     "output_type": "display_data"
    }
   ],
   "source": [
    "sns.histplot(data=df, x='Loan_Amount_Term', hue='Loan_Status', element='step', kde=True)\n",
    "plt.title('Loan Amount Term Histogram with respect to Loan Status');"
   ]
  },
  {
   "cell_type": "code",
   "execution_count": 64,
   "id": "c0f8dea0",
   "metadata": {},
   "outputs": [
    {
     "name": "stdout",
     "output_type": "stream",
     "text": [
      "Mean: 343.831223628692\n",
      "Median: 360.0\n",
      "Mode: 0    360.0\n",
      "dtype: float64\n"
     ]
    }
   ],
   "source": [
    "centralTendencies('Loan_Amount_Term')"
   ]
  },
  {
   "cell_type": "code",
   "execution_count": 65,
   "id": "2385ee84",
   "metadata": {},
   "outputs": [
    {
     "data": {
      "text/plain": [
       "Text(0.5, 1.0, 'Applicant Income Histogram with respect to Loan Status')"
      ]
     },
     "execution_count": 65,
     "metadata": {},
     "output_type": "execute_result"
    },
    {
     "data": {
      "image/png": "[encoded data removed]",
      "text/plain": [
       "<Figure size 600x600 with 1 Axes>"
      ]
     },
     "metadata": {
      "needs_background": "light"
     },
     "output_type": "display_data"
    }
   ],
   "source": [
    "plt.figure(figsize=(6,6),dpi=100)\n",
    "sns.histplot(data=df, x='ApplicantIncome', hue='Loan_Status', element='step', kde=True)\n",
    "plt.title('Applicant Income Histogram with respect to Loan Status')"
   ]
  },
  {
   "cell_type": "code",
   "execution_count": 66,
   "id": "bc1e9173",
   "metadata": {},
   "outputs": [
    {
     "name": "stdout",
     "output_type": "stream",
     "text": [
      "Mean: 1179063.6075949366\n",
      "Median: 856350.0\n",
      "Mode: 0    562500\n",
      "dtype: int64\n"
     ]
    }
   ],
   "source": [
    "centralTendencies('ApplicantIncome')"
   ]
  },
  {
   "cell_type": "code",
   "execution_count": 67,
   "id": "cbd93758",
   "metadata": {},
   "outputs": [
    {
     "data": {
      "text/plain": [
       "Text(0.5, 1.0, 'Coapplicant Income Histogram with respect to Loan Status')"
      ]
     },
     "execution_count": 67,
     "metadata": {},
     "output_type": "execute_result"
    },
    {
     "data": {
      "image/png": "[encoded data removed]",
      "text/plain": [
       "<Figure size 432x288 with 1 Axes>"
      ]
     },
     "metadata": {
      "needs_background": "light"
     },
     "output_type": "display_data"
    }
   ],
   "source": [
    "sns.histplot(data=df, x='CoapplicantIncome', hue='Loan_Status', element='step', kde=True)\n",
    "plt.title('Coapplicant Income Histogram with respect to Loan Status')"
   ]
  },
  {
   "cell_type": "code",
   "execution_count": 68,
   "id": "c667071a",
   "metadata": {},
   "outputs": [
    {
     "name": "stdout",
     "output_type": "stream",
     "text": [
      "Mean: 359920.21518457594\n",
      "Median: 291037.5\n",
      "Mode: 0    0.0\n",
      "dtype: float64\n"
     ]
    }
   ],
   "source": [
    "centralTendencies('CoapplicantIncome')"
   ]
  },
  {
   "cell_type": "code",
   "execution_count": 69,
   "id": "f6dbb892",
   "metadata": {},
   "outputs": [
    {
     "data": {
      "image/png": "[encoded data removed]",
      "text/plain": [
       "<Figure size 432x288 with 1 Axes>"
      ]
     },
     "metadata": {
      "needs_background": "light"
     },
     "output_type": "display_data"
    }
   ],
   "source": [
    "sns.histplot(data=df, x='Dependents', hue='Loan_Status', element='step', kde=True)\n",
    "plt.title('Dependents Histogram with respect to Loan Status');"
   ]
  },
  {
   "cell_type": "code",
   "execution_count": 70,
   "id": "dbf264d7",
   "metadata": {},
   "outputs": [
    {
     "name": "stdout",
     "output_type": "stream",
     "text": [
      "Mean: 0.7510548523206751\n",
      "Median: 0.0\n",
      "Mode: 0    0\n",
      "dtype: int64\n"
     ]
    }
   ],
   "source": [
    "centralTendencies('Dependents')"
   ]
  },
  {
   "cell_type": "markdown",
   "id": "07e82e8c",
   "metadata": {},
   "source": [
    "## Feature Engineering \n",
    "\n",
    "- For the continuous features we couldn't draw any insigts from the charts \n",
    "- Missing values has been treated \n"
   ]
  },
  {
   "cell_type": "code",
   "execution_count": 71,
   "id": "4be0545d",
   "metadata": {},
   "outputs": [],
   "source": [
    "def iqr(feature):\n",
    "    Q1 = df[feature].quantile(0.25)\n",
    "    Q3 = df[feature].quantile(0.75)\n",
    "    IQR = Q3 - Q1\n",
    "    \n",
    "    min_value = df[feature].min()\n",
    "    max_value = df[feature].max()\n",
    "\n",
    "    print('Minimum value:', min_value)\n",
    "    print('Maximum value:', max_value)\n",
    "\n",
    "    print('Q1:', Q1)\n",
    "    print('Q3:', Q3)\n",
    "    print('IQR:', IQR)"
   ]
  },
  {
   "cell_type": "markdown",
   "id": "03219482",
   "metadata": {},
   "source": [
    "### Lets categorize the continous values into ranges using bucketing"
   ]
  },
  {
   "cell_type": "code",
   "execution_count": 72,
   "id": "c555bf89",
   "metadata": {},
   "outputs": [
    {
     "name": "stdout",
     "output_type": "stream",
     "text": [
      "   LoanAmount     LoanAmount_Ranges\n",
      "0      250000  (194500.0, 250000.0]\n",
      "1      256000  (250000.0, 320000.0]\n",
      "2      132000    (-0.001, 194500.0]\n",
      "3      240000  (194500.0, 250000.0]\n",
      "4      282000  (250000.0, 320000.0]\n"
     ]
    }
   ],
   "source": [
    "#Loan Amount\n",
    "# LoanAmount column into 4 equal-sized buckets based on quantiles.\n",
    "df['LoanAmount_Ranges'] = pd.qcut(df['LoanAmount'], q=4)\n",
    "print(df[['LoanAmount', 'LoanAmount_Ranges']].head())"
   ]
  },
  {
   "cell_type": "code",
   "execution_count": 73,
   "id": "5f9a2dac",
   "metadata": {},
   "outputs": [
    {
     "data": {
      "image/png": "[encoded data removed]",
      "text/plain": [
       "<Figure size 1008x576 with 1 Axes>"
      ]
     },
     "metadata": {
      "needs_background": "light"
     },
     "output_type": "display_data"
    }
   ],
   "source": [
    "plt.figure(figsize=(14,8))\n",
    "sns.countplot(x='LoanAmount_Ranges', hue='Loan_Status', data=df);\n",
    "plt.title('Count Plot of Loan Status by Loan Amount Term ranges');"
   ]
  },
  {
   "cell_type": "markdown",
   "id": "d0e95383",
   "metadata": {},
   "source": [
    "Let evaluate using a cisquare test with alpha =0.05"
   ]
  },
  {
   "cell_type": "code",
   "execution_count": 74,
   "id": "b8695fdc",
   "metadata": {},
   "outputs": [
    {
     "name": "stdout",
     "output_type": "stream",
     "text": [
      "Credit_History vs LoanStatus is not significant (p-value: 0.08651243532857254)\n"
     ]
    }
   ],
   "source": [
    "def chi2(feature,alpha):\n",
    "\n",
    "    cont_table = pd.crosstab(df[feature], df['Loan_Status'])\n",
    "    chi2, pval, dof, exp_freq = chi2_contingency(cont_table)\n",
    "    pvalue_C.append(pval)\n",
    "    if pval < alpha:\n",
    "        print(f\"{col} vs LoanStatus is significant (p-value: {pval})\")\n",
    "    else:\n",
    "        print(f\"{col} vs LoanStatus is not significant (p-value: {pval})\")\n",
    "        \n",
    "chi2('LoanAmount_Ranges',0.05)"
   ]
  },
  {
   "cell_type": "markdown",
   "id": "05a74b4b",
   "metadata": {},
   "source": [
    "## Observations\n",
    "\n",
    "- from the barplot we can obeserve that the Loan Amount varies under 2% between the ranges\n",
    "- chi2 test shows the same"
   ]
  },
  {
   "cell_type": "code",
   "execution_count": 75,
   "id": "43d060d8",
   "metadata": {},
   "outputs": [
    {
     "name": "stdout",
     "output_type": "stream",
     "text": [
      "Minimum value: 12.0\n",
      "Maximum value: 480.0\n",
      "Q1: 360.0\n",
      "Q3: 360.0\n",
      "IQR: 0.0\n"
     ]
    }
   ],
   "source": [
    "#Loan Amount Term\n",
    "iqr('Loan_Amount_Term')"
   ]
  },
  {
   "cell_type": "code",
   "execution_count": 76,
   "id": "740405c9",
   "metadata": {},
   "outputs": [],
   "source": [
    "df['Loan_Amount_Term_Range'] = pd.cut(df['Loan_Amount_Term'], bins=[0,360, 480],\n",
    "                                       labels=['Short', 'Long'], duplicates='drop')\n"
   ]
  },
  {
   "cell_type": "code",
   "execution_count": 77,
   "id": "64dd1aad",
   "metadata": {},
   "outputs": [
    {
     "data": {
      "image/png": "[encoded data removed]",
      "text/plain": [
       "<Figure size 1008x576 with 1 Axes>"
      ]
     },
     "metadata": {
      "needs_background": "light"
     },
     "output_type": "display_data"
    }
   ],
   "source": [
    "plt.figure(figsize=(14,8))\n",
    "sns.countplot(x='Loan_Amount_Term_Range', hue='Loan_Status', data=df);\n",
    "plt.title('Count Plot of Loan Status by Loan_Amount_Term_Range');"
   ]
  },
  {
   "cell_type": "code",
   "execution_count": 78,
   "id": "9846760b",
   "metadata": {},
   "outputs": [
    {
     "name": "stdout",
     "output_type": "stream",
     "text": [
      "Credit_History vs LoanStatus is not significant (p-value: 0.06954927355534393)\n"
     ]
    }
   ],
   "source": [
    "chi2('Loan_Amount_Term_Range',0.05)"
   ]
  },
  {
   "cell_type": "markdown",
   "id": "9f3c9413",
   "metadata": {},
   "source": [
    "## Observations\n",
    "\n",
    "- From the bar plot the ratio of change between yes/ no is not > 5%\n",
    "- chi2 test shows the same\n"
   ]
  },
  {
   "cell_type": "code",
   "execution_count": 79,
   "id": "9decd6ac",
   "metadata": {},
   "outputs": [
    {
     "name": "stdout",
     "output_type": "stream",
     "text": [
      "Minimum value: 33750\n",
      "Maximum value: 18225000\n",
      "Q1: 624712.5\n",
      "Q3: 1284018.75\n",
      "IQR: 659306.25\n"
     ]
    }
   ],
   "source": [
    "#ApplicantIncome\n",
    "iqr('ApplicantIncome')"
   ]
  },
  {
   "cell_type": "code",
   "execution_count": 80,
   "id": "3799d83a",
   "metadata": {},
   "outputs": [
    {
     "name": "stdout",
     "output_type": "stream",
     "text": [
      "   ApplicantIncome     ApplicantIncome_Range\n",
      "0          1316025  (1284018.75, 18225000.0]\n",
      "1          1031175    (856350.0, 1284018.75]\n",
      "2           675000      (624712.5, 856350.0]\n",
      "3           581175     (33749.999, 624712.5]\n",
      "4          1350000  (1284018.75, 18225000.0]\n"
     ]
    }
   ],
   "source": [
    "df['ApplicantIncome_Range'] = pd.qcut(df['ApplicantIncome'], q=4)\n",
    "\n",
    "# view the result\n",
    "print(df[['ApplicantIncome', 'ApplicantIncome_Range']].head())"
   ]
  },
  {
   "cell_type": "code",
   "execution_count": 81,
   "id": "8ea3a6b4",
   "metadata": {},
   "outputs": [
    {
     "data": {
      "image/png": "[encoded data removed]",
      "text/plain": [
       "<Figure size 1008x576 with 1 Axes>"
      ]
     },
     "metadata": {
      "needs_background": "light"
     },
     "output_type": "display_data"
    }
   ],
   "source": [
    "plt.figure(figsize=(14,8))\n",
    "sns.countplot(x='ApplicantIncome_Range', hue='Loan_Status', data=df);\n",
    "plt.title('Count Plot of Loan Status by ApplicantIncome_Range');"
   ]
  },
  {
   "cell_type": "code",
   "execution_count": 82,
   "id": "99fbf98a",
   "metadata": {},
   "outputs": [
    {
     "name": "stdout",
     "output_type": "stream",
     "text": [
      "Credit_History vs LoanStatus is not significant (p-value: 0.8478573421992309)\n"
     ]
    }
   ],
   "source": [
    "chi2('ApplicantIncome_Range',0.05)"
   ]
  },
  {
   "cell_type": "markdown",
   "id": "99e17dc6",
   "metadata": {},
   "source": [
    "## Observations\n",
    "\n",
    "- There is not much variations in terms of applicant income as per the bar plot\n",
    "- chi2 test seconds above observation"
   ]
  },
  {
   "cell_type": "code",
   "execution_count": 83,
   "id": "2c328fb4",
   "metadata": {},
   "outputs": [
    {
     "name": "stdout",
     "output_type": "stream",
     "text": [
      "Minimum value: 0.0\n",
      "Maximum value: 4500000.0\n",
      "Q1: 0.0\n",
      "Q3: 524756.25\n",
      "IQR: 524756.25\n"
     ]
    }
   ],
   "source": [
    "iqr('CoapplicantIncome')"
   ]
  },
  {
   "cell_type": "code",
   "execution_count": 84,
   "id": "a1105a80",
   "metadata": {},
   "outputs": [
    {
     "name": "stdout",
     "output_type": "stream",
     "text": [
      "Mean: 359920.21518457594\n",
      "Median: 291037.5\n",
      "Mode: 0    0.0\n",
      "dtype: float64\n"
     ]
    }
   ],
   "source": [
    "centralTendencies('CoapplicantIncome')"
   ]
  },
  {
   "cell_type": "code",
   "execution_count": 85,
   "id": "ae7b283e",
   "metadata": {},
   "outputs": [],
   "source": [
    "df['CoapplicantIncome_Range'] = pd.cut(df['CoapplicantIncome'], bins=[0,350000, 500000,1000000,1500000,2500000,4500000],\n",
    "                                       duplicates='drop')"
   ]
  },
  {
   "cell_type": "code",
   "execution_count": 86,
   "id": "60618268",
   "metadata": {},
   "outputs": [
    {
     "data": {
      "image/png": "[encoded data removed]",
      "text/plain": [
       "<Figure size 1008x576 with 1 Axes>"
      ]
     },
     "metadata": {
      "needs_background": "light"
     },
     "output_type": "display_data"
    }
   ],
   "source": [
    "plt.figure(figsize=(14,8))\n",
    "sns.countplot(x='CoapplicantIncome_Range', hue='Loan_Status', data=df);\n",
    "plt.title('Count Plot of Loan Status by CoapplicantIncome_Range');"
   ]
  },
  {
   "cell_type": "code",
   "execution_count": 87,
   "id": "52e829bb",
   "metadata": {},
   "outputs": [
    {
     "name": "stdout",
     "output_type": "stream",
     "text": [
      "Credit_History vs LoanStatus is not significant (p-value: 0.39869440810881307)\n"
     ]
    }
   ],
   "source": [
    "chi2('CoapplicantIncome_Range',0.05)"
   ]
  },
  {
   "cell_type": "markdown",
   "id": "1e124649",
   "metadata": {},
   "source": [
    "## Observations\n",
    "\n",
    "- for some ranges[0-3500000] of co applicant income the difference seems significant \n",
    "- how ever chi2 test donot seconds the statement"
   ]
  },
  {
   "cell_type": "code",
   "execution_count": 88,
   "id": "31971777",
   "metadata": {},
   "outputs": [
    {
     "name": "stdout",
     "output_type": "stream",
     "text": [
      "Minimum value: 0\n",
      "Maximum value: 3\n",
      "Q1: 0.0\n",
      "Q3: 1.75\n",
      "IQR: 1.75\n"
     ]
    }
   ],
   "source": [
    "#Dependents\n",
    "iqr('Dependents')"
   ]
  },
  {
   "cell_type": "code",
   "execution_count": 89,
   "id": "ccb726ce",
   "metadata": {},
   "outputs": [
    {
     "name": "stdout",
     "output_type": "stream",
     "text": [
      "Mean: 0.7510548523206751\n",
      "Median: 0.0\n",
      "Mode: 0    0\n",
      "dtype: int64\n"
     ]
    }
   ],
   "source": [
    "centralTendencies('Dependents')"
   ]
  },
  {
   "cell_type": "code",
   "execution_count": 90,
   "id": "d160d0c6",
   "metadata": {},
   "outputs": [],
   "source": [
    "df['Dependents_Range'] = pd.cut(df['Dependents'], bins=[0,1,2,3],\n",
    "                                       duplicates='drop')"
   ]
  },
  {
   "cell_type": "code",
   "execution_count": 91,
   "id": "79d0c38f",
   "metadata": {},
   "outputs": [
    {
     "data": {
      "image/png": "[encoded data removed]",
      "text/plain": [
       "<Figure size 1008x576 with 1 Axes>"
      ]
     },
     "metadata": {
      "needs_background": "light"
     },
     "output_type": "display_data"
    }
   ],
   "source": [
    "plt.figure(figsize=(14,8))\n",
    "sns.countplot(x='Dependents_Range', hue='Loan_Status', data=df);\n",
    "plt.title('Count Plot of Loan Status by Dependents_Range');"
   ]
  },
  {
   "cell_type": "code",
   "execution_count": 92,
   "id": "e41f145e",
   "metadata": {},
   "outputs": [
    {
     "name": "stdout",
     "output_type": "stream",
     "text": [
      "Credit_History vs LoanStatus is significant (p-value: 0.01214878196522649)\n"
     ]
    }
   ],
   "source": [
    "chi2('Dependents_Range',0.05)"
   ]
  },
  {
   "cell_type": "markdown",
   "id": "1988f3bc",
   "metadata": {},
   "source": [
    "## Observations \n",
    "\n",
    "- Theres is nearly a 5% difference in loan status for those who have a dependents in between 1 and 2 \n",
    "-  chi2 test seconds this observation "
   ]
  },
  {
   "cell_type": "code",
   "execution_count": 93,
   "id": "76d5ecac",
   "metadata": {},
   "outputs": [
    {
     "data": {
      "image/png": "[encoded data removed]",
      "text/plain": [
       "<Figure size 432x288 with 1 Axes>"
      ]
     },
     "metadata": {
      "needs_background": "light"
     },
     "output_type": "display_data"
    }
   ],
   "source": [
    "#credit history\n",
    "sns.countplot(x='Credit_History', hue='Loan_Status', data=df);\n",
    "plt.title('Count Plot of Loan Status by Credit history');"
   ]
  },
  {
   "cell_type": "markdown",
   "id": "dd3acbbd",
   "metadata": {},
   "source": [
    "## Observations\n",
    "\n",
    "- There is nearly a 5% difference bw Y/N for people with a +ve credit which means this is a significant feature by observing the plot"
   ]
  },
  {
   "cell_type": "markdown",
   "id": "3bc8c365",
   "metadata": {},
   "source": [
    "### Creating a new feature from Applicant income+Co applicant income and checking with Loan Amount"
   ]
  },
  {
   "cell_type": "code",
   "execution_count": 94,
   "id": "7f25ac98",
   "metadata": {},
   "outputs": [],
   "source": [
    "df['LoanAmoutgreaterthanApplicantandCoapplicantIncome'] = np.where(df['ApplicantIncome'] + df['CoapplicantIncome'] >= df['LoanAmount'], 'Yes', 'No')\n"
   ]
  },
  {
   "cell_type": "code",
   "execution_count": 95,
   "id": "267bc1c7",
   "metadata": {},
   "outputs": [
    {
     "data": {
      "image/png": "[encoded data removed]",
      "text/plain": [
       "<Figure size 432x288 with 1 Axes>"
      ]
     },
     "metadata": {
      "needs_background": "light"
     },
     "output_type": "display_data"
    }
   ],
   "source": [
    "sns.countplot(x='LoanAmoutgreaterthanApplicantandCoapplicantIncome', hue='Loan_Status', data=df);\n",
    "plt.title('Count Plot of Loan Status by LoanAmoutgreaterthanApplicantandCoapplicantIncome');"
   ]
  },
  {
   "cell_type": "code",
   "execution_count": 96,
   "id": "dfb5e836",
   "metadata": {},
   "outputs": [
    {
     "name": "stdout",
     "output_type": "stream",
     "text": [
      "Credit_History vs LoanStatus is not significant (p-value: 1.0)\n"
     ]
    }
   ],
   "source": [
    "chi2('LoanAmoutgreaterthanApplicantandCoapplicantIncome',0.05)"
   ]
  },
  {
   "cell_type": "code",
   "execution_count": 97,
   "id": "58bf3331",
   "metadata": {},
   "outputs": [],
   "source": [
    "df = df.drop('LoanAmoutgreaterthanApplicantandCoapplicantIncome',axis=1)"
   ]
  },
  {
   "cell_type": "markdown",
   "id": "1b711275",
   "metadata": {},
   "source": [
    "### Observation\n",
    "\n",
    "- not much variation is being observed\n",
    "- chi2 test seconds it\n",
    "- so dropping the feature"
   ]
  },
  {
   "cell_type": "markdown",
   "id": "efb8bdcb",
   "metadata": {},
   "source": [
    "## Debt to income ratio\n",
    "\n",
    "Creating a new feature by dividing the Loan Amount by the sum of the Applicant Income and Coapplicant Income. This can give an idea of how much debt the borrower is taking on relative to their income."
   ]
  },
  {
   "cell_type": "code",
   "execution_count": 98,
   "id": "80ac7d3d",
   "metadata": {},
   "outputs": [],
   "source": [
    "df['Debt_to_Income_Ratio'] = df['LoanAmount'] / (df['ApplicantIncome'] + df['CoapplicantIncome'])\n"
   ]
  },
  {
   "cell_type": "code",
   "execution_count": 99,
   "id": "07709a84",
   "metadata": {},
   "outputs": [
    {
     "data": {
      "text/plain": [
       "Text(0.5, 1.0, 'Debt_to_Income_Ratio Histogram with respect to Loan Status')"
      ]
     },
     "execution_count": 99,
     "metadata": {},
     "output_type": "execute_result"
    },
    {
     "data": {
      "image/png": "[encoded data removed]",
      "text/plain": [
       "<Figure size 600x600 with 1 Axes>"
      ]
     },
     "metadata": {
      "needs_background": "light"
     },
     "output_type": "display_data"
    }
   ],
   "source": [
    "plt.figure(figsize=(6,6),dpi=100)\n",
    "sns.histplot(data=df, x='Debt_to_Income_Ratio', hue='Loan_Status', element='step', kde=True)\n",
    "plt.title('Debt_to_Income_Ratio Histogram with respect to Loan Status')"
   ]
  },
  {
   "cell_type": "code",
   "execution_count": 100,
   "id": "bf87f397",
   "metadata": {},
   "outputs": [
    {
     "name": "stdout",
     "output_type": "stream",
     "text": [
      "Mean: 0.2035447094434678\n",
      "Median: 0.2105262419304647\n",
      "Mode: 0    0.0\n",
      "dtype: float64\n"
     ]
    }
   ],
   "source": [
    "centralTendencies('Debt_to_Income_Ratio')"
   ]
  },
  {
   "cell_type": "code",
   "execution_count": 101,
   "id": "a1227f7e",
   "metadata": {},
   "outputs": [
    {
     "name": "stdout",
     "output_type": "stream",
     "text": [
      "   Debt_to_Income_Ratio Debt_to_Income_Ratio_Ranges\n",
      "0              0.189966              (0.162, 0.211]\n",
      "1              0.186797              (0.162, 0.211]\n",
      "2              0.195556              (0.162, 0.211]\n",
      "3              0.215881              (0.211, 0.247]\n",
      "4              0.208889              (0.162, 0.211]\n"
     ]
    }
   ],
   "source": [
    "#buketing to get a better view\n",
    "#qunatile buketing\n",
    "df['Debt_to_Income_Ratio_Ranges'] = pd.qcut(df['Debt_to_Income_Ratio'], q=4)\n",
    "\n",
    "print(df[['Debt_to_Income_Ratio', 'Debt_to_Income_Ratio_Ranges']].head())"
   ]
  },
  {
   "cell_type": "code",
   "execution_count": 102,
   "id": "550f4086",
   "metadata": {},
   "outputs": [
    {
     "data": {
      "image/png": "[encoded data removed]",
      "text/plain": [
       "<Figure size 1008x576 with 1 Axes>"
      ]
     },
     "metadata": {
      "needs_background": "light"
     },
     "output_type": "display_data"
    }
   ],
   "source": [
    "plt.figure(figsize=(14,8))\n",
    "sns.countplot(x='Debt_to_Income_Ratio_Ranges', hue='Loan_Status', data=df);\n",
    "plt.title('Count Plot of Loan Status by Debt_to_Income_Ratio_Ranges');"
   ]
  },
  {
   "cell_type": "code",
   "execution_count": 103,
   "id": "f02dabda",
   "metadata": {},
   "outputs": [
    {
     "name": "stdout",
     "output_type": "stream",
     "text": [
      "Credit_History vs LoanStatus is not significant (p-value: 0.7136829904827335)\n"
     ]
    }
   ],
   "source": [
    "chi2('Debt_to_Income_Ratio_Ranges',0.05)"
   ]
  },
  {
   "cell_type": "markdown",
   "id": "4ab5b23f",
   "metadata": {},
   "source": [
    "## Observation\n",
    "\n",
    "- Not impacting"
   ]
  },
  {
   "cell_type": "code",
   "execution_count": 104,
   "id": "137815d6",
   "metadata": {},
   "outputs": [],
   "source": [
    "df = df.drop('Debt_to_Income_Ratio_Ranges',axis=1)\n",
    "df = df.drop('Debt_to_Income_Ratio',axis=1)"
   ]
  },
  {
   "cell_type": "code",
   "execution_count": 105,
   "id": "f81464ea",
   "metadata": {},
   "outputs": [],
   "source": [
    "#Loan Amount per term feature"
   ]
  },
  {
   "cell_type": "code",
   "execution_count": 106,
   "id": "6962b2f7",
   "metadata": {},
   "outputs": [],
   "source": [
    "df['LoanAmountPerTerm'] = df['LoanAmount'] / df['Loan_Amount_Term']"
   ]
  },
  {
   "cell_type": "code",
   "execution_count": 107,
   "id": "6dd3a11e",
   "metadata": {},
   "outputs": [
    {
     "data": {
      "text/plain": [
       "Text(0.5, 1.0, 'LoanAmountPerTerm Histogram with respect to Loan Status')"
      ]
     },
     "execution_count": 107,
     "metadata": {},
     "output_type": "execute_result"
    },
    {
     "data": {
      "image/png": "[encoded data removed]",
      "text/plain": [
       "<Figure size 600x600 with 1 Axes>"
      ]
     },
     "metadata": {
      "needs_background": "light"
     },
     "output_type": "display_data"
    }
   ],
   "source": [
    "plt.figure(figsize=(6,6),dpi=100)\n",
    "sns.histplot(data=df, x='LoanAmountPerTerm', hue='Loan_Status', element='step', kde=True)\n",
    "plt.title('LoanAmountPerTerm Histogram with respect to Loan Status')"
   ]
  },
  {
   "cell_type": "code",
   "execution_count": 108,
   "id": "246c41bc",
   "metadata": {},
   "outputs": [
    {
     "name": "stdout",
     "output_type": "stream",
     "text": [
      "Mean: 901.6870594932766\n",
      "Median: 713.8888888888889\n",
      "Mode: 0    666.666667\n",
      "dtype: float64\n"
     ]
    }
   ],
   "source": [
    "centralTendencies('LoanAmountPerTerm')"
   ]
  },
  {
   "cell_type": "code",
   "execution_count": 109,
   "id": "4a007ff7",
   "metadata": {},
   "outputs": [
    {
     "name": "stdout",
     "output_type": "stream",
     "text": [
      "   LoanAmountPerTerm LoanAmountPerTerm_Ranges\n",
      "0         694.444444       (545.833, 713.889]\n",
      "1         711.111111       (545.833, 713.889]\n",
      "2         366.666667        (-0.001, 545.833]\n",
      "3         666.666667       (545.833, 713.889]\n",
      "4         783.333333       (713.889, 986.111]\n"
     ]
    }
   ],
   "source": [
    "#buketing to get a better view\n",
    "#qunatile buketing\n",
    "df['LoanAmountPerTerm_Ranges'] = pd.qcut(df['LoanAmountPerTerm'], q=4)\n",
    "\n",
    "print(df[['LoanAmountPerTerm', 'LoanAmountPerTerm_Ranges']].head())"
   ]
  },
  {
   "cell_type": "code",
   "execution_count": 110,
   "id": "6dba37ad",
   "metadata": {},
   "outputs": [
    {
     "data": {
      "image/png": "[encoded data removed]",
      "text/plain": [
       "<Figure size 1008x576 with 1 Axes>"
      ]
     },
     "metadata": {
      "needs_background": "light"
     },
     "output_type": "display_data"
    }
   ],
   "source": [
    "plt.figure(figsize=(14,8))\n",
    "sns.countplot(x='LoanAmountPerTerm_Ranges', hue='Loan_Status', data=df);\n",
    "plt.title('Count Plot of Loan Status by LoanAmountPerTerm_Ranges');"
   ]
  },
  {
   "cell_type": "code",
   "execution_count": 111,
   "id": "e77bf6b8",
   "metadata": {},
   "outputs": [
    {
     "name": "stdout",
     "output_type": "stream",
     "text": [
      "Credit_History vs LoanStatus is not significant (p-value: 0.07821140584701472)\n"
     ]
    }
   ],
   "source": [
    "chi2('LoanAmountPerTerm_Ranges',0.05)"
   ]
  },
  {
   "cell_type": "markdown",
   "id": "daf3a96d",
   "metadata": {},
   "source": [
    "## Observation \n",
    "- variations in graph stays <= 3% implies not impacting \n",
    "- chi2 test seconds "
   ]
  },
  {
   "cell_type": "code",
   "execution_count": 112,
   "id": "fb392620",
   "metadata": {},
   "outputs": [],
   "source": [
    "df = df.drop('LoanAmountPerTerm_Ranges',axis=1)\n",
    "df = df.drop('LoanAmountPerTerm',axis=1)"
   ]
  },
  {
   "cell_type": "code",
   "execution_count": 113,
   "id": "a6c9752c",
   "metadata": {},
   "outputs": [
    {
     "data": {
      "text/html": [
       "<div>\n",
       "<style scoped>\n",
       "    .dataframe tbody tr th:only-of-type {\n",
       "        vertical-align: middle;\n",
       "    }\n",
       "\n",
       "    .dataframe tbody tr th {\n",
       "        vertical-align: top;\n",
       "    }\n",
       "\n",
       "    .dataframe thead th {\n",
       "        text-align: right;\n",
       "    }\n",
       "</style>\n",
       "<table border=\"1\" class=\"dataframe\">\n",
       "  <thead>\n",
       "    <tr style=\"text-align: right;\">\n",
       "      <th></th>\n",
       "      <th>Gender</th>\n",
       "      <th>Married</th>\n",
       "      <th>Dependents</th>\n",
       "      <th>Education</th>\n",
       "      <th>Self_Employed</th>\n",
       "      <th>ApplicantIncome</th>\n",
       "      <th>CoapplicantIncome</th>\n",
       "      <th>LoanAmount</th>\n",
       "      <th>Loan_Amount_Term</th>\n",
       "      <th>Credit_History</th>\n",
       "      <th>Property_Area</th>\n",
       "      <th>Loan_Status</th>\n",
       "      <th>LoanAmount_Ranges</th>\n",
       "      <th>Loan_Amount_Term_Range</th>\n",
       "      <th>ApplicantIncome_Range</th>\n",
       "      <th>CoapplicantIncome_Range</th>\n",
       "      <th>Dependents_Range</th>\n",
       "    </tr>\n",
       "  </thead>\n",
       "  <tbody>\n",
       "    <tr>\n",
       "      <th>0</th>\n",
       "      <td>Male</td>\n",
       "      <td>No</td>\n",
       "      <td>0</td>\n",
       "      <td>Graduate</td>\n",
       "      <td>No</td>\n",
       "      <td>1316025</td>\n",
       "      <td>0.0</td>\n",
       "      <td>250000</td>\n",
       "      <td>360.0</td>\n",
       "      <td>1.0</td>\n",
       "      <td>Urban</td>\n",
       "      <td>Y</td>\n",
       "      <td>(194500.0, 250000.0]</td>\n",
       "      <td>Short</td>\n",
       "      <td>(1284018.75, 18225000.0]</td>\n",
       "      <td>NaN</td>\n",
       "      <td>NaN</td>\n",
       "    </tr>\n",
       "    <tr>\n",
       "      <th>1</th>\n",
       "      <td>Male</td>\n",
       "      <td>Yes</td>\n",
       "      <td>1</td>\n",
       "      <td>Graduate</td>\n",
       "      <td>No</td>\n",
       "      <td>1031175</td>\n",
       "      <td>339300.0</td>\n",
       "      <td>256000</td>\n",
       "      <td>360.0</td>\n",
       "      <td>1.0</td>\n",
       "      <td>Rural</td>\n",
       "      <td>N</td>\n",
       "      <td>(250000.0, 320000.0]</td>\n",
       "      <td>Short</td>\n",
       "      <td>(856350.0, 1284018.75]</td>\n",
       "      <td>(0.0, 350000.0]</td>\n",
       "      <td>(0.0, 1.0]</td>\n",
       "    </tr>\n",
       "    <tr>\n",
       "      <th>2</th>\n",
       "      <td>Male</td>\n",
       "      <td>Yes</td>\n",
       "      <td>0</td>\n",
       "      <td>Graduate</td>\n",
       "      <td>Yes</td>\n",
       "      <td>675000</td>\n",
       "      <td>0.0</td>\n",
       "      <td>132000</td>\n",
       "      <td>360.0</td>\n",
       "      <td>1.0</td>\n",
       "      <td>Urban</td>\n",
       "      <td>Y</td>\n",
       "      <td>(-0.001, 194500.0]</td>\n",
       "      <td>Short</td>\n",
       "      <td>(624712.5, 856350.0]</td>\n",
       "      <td>NaN</td>\n",
       "      <td>NaN</td>\n",
       "    </tr>\n",
       "    <tr>\n",
       "      <th>3</th>\n",
       "      <td>Male</td>\n",
       "      <td>Yes</td>\n",
       "      <td>0</td>\n",
       "      <td>Not Graduate</td>\n",
       "      <td>No</td>\n",
       "      <td>581175</td>\n",
       "      <td>530550.0</td>\n",
       "      <td>240000</td>\n",
       "      <td>360.0</td>\n",
       "      <td>1.0</td>\n",
       "      <td>Urban</td>\n",
       "      <td>Y</td>\n",
       "      <td>(194500.0, 250000.0]</td>\n",
       "      <td>Short</td>\n",
       "      <td>(33749.999, 624712.5]</td>\n",
       "      <td>(500000.0, 1000000.0]</td>\n",
       "      <td>NaN</td>\n",
       "    </tr>\n",
       "    <tr>\n",
       "      <th>4</th>\n",
       "      <td>Male</td>\n",
       "      <td>No</td>\n",
       "      <td>0</td>\n",
       "      <td>Graduate</td>\n",
       "      <td>No</td>\n",
       "      <td>1350000</td>\n",
       "      <td>0.0</td>\n",
       "      <td>282000</td>\n",
       "      <td>360.0</td>\n",
       "      <td>1.0</td>\n",
       "      <td>Urban</td>\n",
       "      <td>Y</td>\n",
       "      <td>(250000.0, 320000.0]</td>\n",
       "      <td>Short</td>\n",
       "      <td>(1284018.75, 18225000.0]</td>\n",
       "      <td>NaN</td>\n",
       "      <td>NaN</td>\n",
       "    </tr>\n",
       "  </tbody>\n",
       "</table>\n",
       "</div>"
      ],
      "text/plain": [
       "  Gender Married  Dependents     Education Self_Employed  ApplicantIncome  \\\n",
       "0   Male      No           0      Graduate            No          1316025   \n",
       "1   Male     Yes           1      Graduate            No          1031175   \n",
       "2   Male     Yes           0      Graduate           Yes           675000   \n",
       "3   Male     Yes           0  Not Graduate            No           581175   \n",
       "4   Male      No           0      Graduate            No          1350000   \n",
       "\n",
       "   CoapplicantIncome  LoanAmount  Loan_Amount_Term  Credit_History  \\\n",
       "0                0.0      250000             360.0             1.0   \n",
       "1           339300.0      256000             360.0             1.0   \n",
       "2                0.0      132000             360.0             1.0   \n",
       "3           530550.0      240000             360.0             1.0   \n",
       "4                0.0      282000             360.0             1.0   \n",
       "\n",
       "  Property_Area Loan_Status     LoanAmount_Ranges Loan_Amount_Term_Range  \\\n",
       "0         Urban           Y  (194500.0, 250000.0]                  Short   \n",
       "1         Rural           N  (250000.0, 320000.0]                  Short   \n",
       "2         Urban           Y    (-0.001, 194500.0]                  Short   \n",
       "3         Urban           Y  (194500.0, 250000.0]                  Short   \n",
       "4         Urban           Y  (250000.0, 320000.0]                  Short   \n",
       "\n",
       "      ApplicantIncome_Range CoapplicantIncome_Range Dependents_Range  \n",
       "0  (1284018.75, 18225000.0]                     NaN              NaN  \n",
       "1    (856350.0, 1284018.75]         (0.0, 350000.0]       (0.0, 1.0]  \n",
       "2      (624712.5, 856350.0]                     NaN              NaN  \n",
       "3     (33749.999, 624712.5]   (500000.0, 1000000.0]              NaN  \n",
       "4  (1284018.75, 18225000.0]                     NaN              NaN  "
      ]
     },
     "execution_count": 113,
     "metadata": {},
     "output_type": "execute_result"
    }
   ],
   "source": [
    "df.head()"
   ]
  },
  {
   "cell_type": "code",
   "execution_count": 114,
   "id": "749b9e5f",
   "metadata": {},
   "outputs": [],
   "source": [
    "df=df.drop('CoapplicantIncome_Range',axis=1)\n",
    "df=df.drop('ApplicantIncome_Range',axis=1)\n",
    "df=df.drop('Loan_Amount_Term_Range',axis=1)\n"
   ]
  },
  {
   "cell_type": "code",
   "execution_count": 115,
   "id": "5a8306b8",
   "metadata": {},
   "outputs": [],
   "source": [
    "df['Dependents_Range'] = df['Dependents_Range'].cat.add_categories(['0'])\n"
   ]
  },
  {
   "cell_type": "code",
   "execution_count": 116,
   "id": "0472b0b3",
   "metadata": {},
   "outputs": [],
   "source": [
    "df['Dependents_Range'].fillna('0', inplace=True)"
   ]
  },
  {
   "cell_type": "code",
   "execution_count": 117,
   "id": "c8df234a",
   "metadata": {},
   "outputs": [],
   "source": [
    "df['FamilyFinancePlan'] = np.where((df['Dependents'] <= 2) & (df['ApplicantIncome'] + df['CoapplicantIncome'] >= df['LoanAmount']), 'Yes', 'No')\n"
   ]
  },
  {
   "cell_type": "code",
   "execution_count": 118,
   "id": "73dcfec0",
   "metadata": {},
   "outputs": [
    {
     "data": {
      "text/html": [
       "<div>\n",
       "<style scoped>\n",
       "    .dataframe tbody tr th:only-of-type {\n",
       "        vertical-align: middle;\n",
       "    }\n",
       "\n",
       "    .dataframe tbody tr th {\n",
       "        vertical-align: top;\n",
       "    }\n",
       "\n",
       "    .dataframe thead th {\n",
       "        text-align: right;\n",
       "    }\n",
       "</style>\n",
       "<table border=\"1\" class=\"dataframe\">\n",
       "  <thead>\n",
       "    <tr style=\"text-align: right;\">\n",
       "      <th></th>\n",
       "      <th>Gender</th>\n",
       "      <th>Married</th>\n",
       "      <th>Dependents</th>\n",
       "      <th>Education</th>\n",
       "      <th>Self_Employed</th>\n",
       "      <th>ApplicantIncome</th>\n",
       "      <th>CoapplicantIncome</th>\n",
       "      <th>LoanAmount</th>\n",
       "      <th>Loan_Amount_Term</th>\n",
       "      <th>Credit_History</th>\n",
       "      <th>Property_Area</th>\n",
       "      <th>Loan_Status</th>\n",
       "      <th>LoanAmount_Ranges</th>\n",
       "      <th>Dependents_Range</th>\n",
       "      <th>FamilyFinancePlan</th>\n",
       "    </tr>\n",
       "  </thead>\n",
       "  <tbody>\n",
       "    <tr>\n",
       "      <th>0</th>\n",
       "      <td>Male</td>\n",
       "      <td>No</td>\n",
       "      <td>0</td>\n",
       "      <td>Graduate</td>\n",
       "      <td>No</td>\n",
       "      <td>1316025</td>\n",
       "      <td>0.0</td>\n",
       "      <td>250000</td>\n",
       "      <td>360.0</td>\n",
       "      <td>1.0</td>\n",
       "      <td>Urban</td>\n",
       "      <td>Y</td>\n",
       "      <td>(194500.0, 250000.0]</td>\n",
       "      <td>0</td>\n",
       "      <td>Yes</td>\n",
       "    </tr>\n",
       "    <tr>\n",
       "      <th>1</th>\n",
       "      <td>Male</td>\n",
       "      <td>Yes</td>\n",
       "      <td>1</td>\n",
       "      <td>Graduate</td>\n",
       "      <td>No</td>\n",
       "      <td>1031175</td>\n",
       "      <td>339300.0</td>\n",
       "      <td>256000</td>\n",
       "      <td>360.0</td>\n",
       "      <td>1.0</td>\n",
       "      <td>Rural</td>\n",
       "      <td>N</td>\n",
       "      <td>(250000.0, 320000.0]</td>\n",
       "      <td>(0, 1]</td>\n",
       "      <td>Yes</td>\n",
       "    </tr>\n",
       "    <tr>\n",
       "      <th>2</th>\n",
       "      <td>Male</td>\n",
       "      <td>Yes</td>\n",
       "      <td>0</td>\n",
       "      <td>Graduate</td>\n",
       "      <td>Yes</td>\n",
       "      <td>675000</td>\n",
       "      <td>0.0</td>\n",
       "      <td>132000</td>\n",
       "      <td>360.0</td>\n",
       "      <td>1.0</td>\n",
       "      <td>Urban</td>\n",
       "      <td>Y</td>\n",
       "      <td>(-0.001, 194500.0]</td>\n",
       "      <td>0</td>\n",
       "      <td>Yes</td>\n",
       "    </tr>\n",
       "    <tr>\n",
       "      <th>3</th>\n",
       "      <td>Male</td>\n",
       "      <td>Yes</td>\n",
       "      <td>0</td>\n",
       "      <td>Not Graduate</td>\n",
       "      <td>No</td>\n",
       "      <td>581175</td>\n",
       "      <td>530550.0</td>\n",
       "      <td>240000</td>\n",
       "      <td>360.0</td>\n",
       "      <td>1.0</td>\n",
       "      <td>Urban</td>\n",
       "      <td>Y</td>\n",
       "      <td>(194500.0, 250000.0]</td>\n",
       "      <td>0</td>\n",
       "      <td>Yes</td>\n",
       "    </tr>\n",
       "    <tr>\n",
       "      <th>4</th>\n",
       "      <td>Male</td>\n",
       "      <td>No</td>\n",
       "      <td>0</td>\n",
       "      <td>Graduate</td>\n",
       "      <td>No</td>\n",
       "      <td>1350000</td>\n",
       "      <td>0.0</td>\n",
       "      <td>282000</td>\n",
       "      <td>360.0</td>\n",
       "      <td>1.0</td>\n",
       "      <td>Urban</td>\n",
       "      <td>Y</td>\n",
       "      <td>(250000.0, 320000.0]</td>\n",
       "      <td>0</td>\n",
       "      <td>Yes</td>\n",
       "    </tr>\n",
       "  </tbody>\n",
       "</table>\n",
       "</div>"
      ],
      "text/plain": [
       "  Gender Married  Dependents     Education Self_Employed  ApplicantIncome  \\\n",
       "0   Male      No           0      Graduate            No          1316025   \n",
       "1   Male     Yes           1      Graduate            No          1031175   \n",
       "2   Male     Yes           0      Graduate           Yes           675000   \n",
       "3   Male     Yes           0  Not Graduate            No           581175   \n",
       "4   Male      No           0      Graduate            No          1350000   \n",
       "\n",
       "   CoapplicantIncome  LoanAmount  Loan_Amount_Term  Credit_History  \\\n",
       "0                0.0      250000             360.0             1.0   \n",
       "1           339300.0      256000             360.0             1.0   \n",
       "2                0.0      132000             360.0             1.0   \n",
       "3           530550.0      240000             360.0             1.0   \n",
       "4                0.0      282000             360.0             1.0   \n",
       "\n",
       "  Property_Area Loan_Status     LoanAmount_Ranges Dependents_Range  \\\n",
       "0         Urban           Y  (194500.0, 250000.0]                0   \n",
       "1         Rural           N  (250000.0, 320000.0]           (0, 1]   \n",
       "2         Urban           Y    (-0.001, 194500.0]                0   \n",
       "3         Urban           Y  (194500.0, 250000.0]                0   \n",
       "4         Urban           Y  (250000.0, 320000.0]                0   \n",
       "\n",
       "  FamilyFinancePlan  \n",
       "0               Yes  \n",
       "1               Yes  \n",
       "2               Yes  \n",
       "3               Yes  \n",
       "4               Yes  "
      ]
     },
     "execution_count": 118,
     "metadata": {},
     "output_type": "execute_result"
    }
   ],
   "source": [
    "df.head()"
   ]
  },
  {
   "cell_type": "code",
   "execution_count": 119,
   "id": "73e748ee",
   "metadata": {},
   "outputs": [],
   "source": [
    "# df=df.drop('isEmployee',axis=1)"
   ]
  },
  {
   "cell_type": "code",
   "execution_count": 120,
   "id": "f7cd867e",
   "metadata": {},
   "outputs": [],
   "source": [
    "# create new feature RepaymentCapacity\n",
    "df['RepaymentCapacity'] = ((df['ApplicantIncome'] + df['CoapplicantIncome'])/df['LoanAmount'] >= 0.5) & (df['Credit_History'] == 1)\n",
    "\n",
    "# map boolean values to 'Yes' and 'No'\n",
    "df['RepaymentCapacity'] = df['RepaymentCapacity'].map({True: 'Yes', False: 'No'})\n"
   ]
  },
  {
   "cell_type": "code",
   "execution_count": 121,
   "id": "249f65f2",
   "metadata": {},
   "outputs": [
    {
     "data": {
      "image/png": "[encoded data removed]",
      "text/plain": [
       "<Figure size 1008x576 with 1 Axes>"
      ]
     },
     "metadata": {
      "needs_background": "light"
     },
     "output_type": "display_data"
    }
   ],
   "source": [
    "plt.figure(figsize=(14,8))\n",
    "sns.countplot(x='RepaymentCapacity', hue='Loan_Status', data=df);\n",
    "plt.title('Count Plot of Loan Status by RepaymentCapacity');"
   ]
  },
  {
   "cell_type": "code",
   "execution_count": 122,
   "id": "94cd9174",
   "metadata": {},
   "outputs": [
    {
     "name": "stdout",
     "output_type": "stream",
     "text": [
      "Credit_History vs LoanStatus is significant (p-value: 6.04575335290509e-32)\n"
     ]
    }
   ],
   "source": [
    "chi2('RepaymentCapacity',0.05)"
   ]
  },
  {
   "cell_type": "code",
   "execution_count": 123,
   "id": "d7d0308d",
   "metadata": {},
   "outputs": [],
   "source": [
    "df['PropertyValuingCustomer'] = np.where((df['Property_Area'].isin(['Urban', 'Semiurban'])) & (df['Credit_History']==1), 'Yes', 'No')\n"
   ]
  },
  {
   "cell_type": "code",
   "execution_count": 124,
   "id": "a81654b9",
   "metadata": {},
   "outputs": [
    {
     "name": "stdout",
     "output_type": "stream",
     "text": [
      "Credit_History vs LoanStatus is significant (p-value: 1.4933993284493844e-16)\n"
     ]
    }
   ],
   "source": [
    "chi2('PropertyValuingCustomer',0.05)"
   ]
  },
  {
   "cell_type": "code",
   "execution_count": 125,
   "id": "e216ee08",
   "metadata": {},
   "outputs": [
    {
     "data": {
      "image/png": "[encoded data removed]",
      "text/plain": [
       "<Figure size 1008x576 with 1 Axes>"
      ]
     },
     "metadata": {
      "needs_background": "light"
     },
     "output_type": "display_data"
    }
   ],
   "source": [
    "plt.figure(figsize=(14,8))\n",
    "sns.countplot(x='PropertyValuingCustomer', hue='Loan_Status', data=df);\n",
    "plt.title('Count Plot of Loan Status by PropertyValuingCustomer');"
   ]
  },
  {
   "cell_type": "code",
   "execution_count": 126,
   "id": "3f222905",
   "metadata": {},
   "outputs": [],
   "source": [
    "df['genderCredit'] = np.where((df['Gender'] == 'Male') & (df['Credit_History'] == 1), 'Yes', 'No')\n"
   ]
  },
  {
   "cell_type": "code",
   "execution_count": 127,
   "id": "5ac69393",
   "metadata": {},
   "outputs": [
    {
     "name": "stdout",
     "output_type": "stream",
     "text": [
      "Credit_History vs LoanStatus is significant (p-value: 2.7848666198204226e-15)\n"
     ]
    }
   ],
   "source": [
    "chi2('genderCredit',0.05)"
   ]
  },
  {
   "cell_type": "code",
   "execution_count": 128,
   "id": "2ddb7b59",
   "metadata": {},
   "outputs": [
    {
     "data": {
      "image/png": "[encoded data removed]",
      "text/plain": [
       "<Figure size 1008x576 with 1 Axes>"
      ]
     },
     "metadata": {
      "needs_background": "light"
     },
     "output_type": "display_data"
    }
   ],
   "source": [
    "plt.figure(figsize=(14,8))\n",
    "sns.countplot(x='genderCredit', hue='Loan_Status', data=df);\n",
    "plt.title('Count Plot of Loan Status by genderCredit');"
   ]
  },
  {
   "cell_type": "markdown",
   "id": "b174c9d1",
   "metadata": {},
   "source": [
    "## Newly created features\n",
    "- genderCredit (persons with males and having a credt history of 1)\n",
    "- PropertyValuingCustomer (customers with their property area in urban and having credit history +ve)\n",
    "- RepaymentCapacity (customers with income to total Debit ratio more than 50% and having credit history of 1)"
   ]
  },
  {
   "cell_type": "markdown",
   "id": "3ae46105",
   "metadata": {},
   "source": [
    "# One hot encoding"
   ]
  },
  {
   "cell_type": "code",
   "execution_count": 129,
   "id": "623770c9",
   "metadata": {},
   "outputs": [],
   "source": [
    "columns_to_encode = ['Gender', 'Married', 'Dependents', 'Education', 'Self_Employed', 'Property_Area', 'LoanAmount_Ranges', 'Dependents_Range', 'FamilyFinancePlan', 'RepaymentCapacity', 'PropertyValuingCustomer', 'genderCredit']\n",
    "\n",
    "# Perform one-hot encoding\n",
    "df2 = pd.get_dummies(df, columns=columns_to_encode,drop_first=True)\n"
   ]
  },
  {
   "cell_type": "code",
   "execution_count": 130,
   "id": "5fd9dc94",
   "metadata": {},
   "outputs": [
    {
     "data": {
      "text/html": [
       "<div>\n",
       "<style scoped>\n",
       "    .dataframe tbody tr th:only-of-type {\n",
       "        vertical-align: middle;\n",
       "    }\n",
       "\n",
       "    .dataframe tbody tr th {\n",
       "        vertical-align: top;\n",
       "    }\n",
       "\n",
       "    .dataframe thead th {\n",
       "        text-align: right;\n",
       "    }\n",
       "</style>\n",
       "<table border=\"1\" class=\"dataframe\">\n",
       "  <thead>\n",
       "    <tr style=\"text-align: right;\">\n",
       "      <th></th>\n",
       "      <th>ApplicantIncome</th>\n",
       "      <th>CoapplicantIncome</th>\n",
       "      <th>LoanAmount</th>\n",
       "      <th>Loan_Amount_Term</th>\n",
       "      <th>Credit_History</th>\n",
       "      <th>Loan_Status</th>\n",
       "      <th>Gender_Male</th>\n",
       "      <th>Married_Yes</th>\n",
       "      <th>Dependents_1</th>\n",
       "      <th>Dependents_2</th>\n",
       "      <th>...</th>\n",
       "      <th>LoanAmount_Ranges_(194500.0, 250000.0]</th>\n",
       "      <th>LoanAmount_Ranges_(250000.0, 320000.0]</th>\n",
       "      <th>LoanAmount_Ranges_(320000.0, 1300000.0]</th>\n",
       "      <th>Dependents_Range_(1, 2]</th>\n",
       "      <th>Dependents_Range_(2, 3]</th>\n",
       "      <th>Dependents_Range_0</th>\n",
       "      <th>FamilyFinancePlan_Yes</th>\n",
       "      <th>RepaymentCapacity_Yes</th>\n",
       "      <th>PropertyValuingCustomer_Yes</th>\n",
       "      <th>genderCredit_Yes</th>\n",
       "    </tr>\n",
       "  </thead>\n",
       "  <tbody>\n",
       "    <tr>\n",
       "      <th>0</th>\n",
       "      <td>1316025</td>\n",
       "      <td>0.0</td>\n",
       "      <td>250000</td>\n",
       "      <td>360.0</td>\n",
       "      <td>1.0</td>\n",
       "      <td>Y</td>\n",
       "      <td>1</td>\n",
       "      <td>0</td>\n",
       "      <td>0</td>\n",
       "      <td>0</td>\n",
       "      <td>...</td>\n",
       "      <td>1</td>\n",
       "      <td>0</td>\n",
       "      <td>0</td>\n",
       "      <td>0</td>\n",
       "      <td>0</td>\n",
       "      <td>1</td>\n",
       "      <td>1</td>\n",
       "      <td>1</td>\n",
       "      <td>1</td>\n",
       "      <td>1</td>\n",
       "    </tr>\n",
       "    <tr>\n",
       "      <th>1</th>\n",
       "      <td>1031175</td>\n",
       "      <td>339300.0</td>\n",
       "      <td>256000</td>\n",
       "      <td>360.0</td>\n",
       "      <td>1.0</td>\n",
       "      <td>N</td>\n",
       "      <td>1</td>\n",
       "      <td>1</td>\n",
       "      <td>1</td>\n",
       "      <td>0</td>\n",
       "      <td>...</td>\n",
       "      <td>0</td>\n",
       "      <td>1</td>\n",
       "      <td>0</td>\n",
       "      <td>0</td>\n",
       "      <td>0</td>\n",
       "      <td>0</td>\n",
       "      <td>1</td>\n",
       "      <td>1</td>\n",
       "      <td>0</td>\n",
       "      <td>1</td>\n",
       "    </tr>\n",
       "    <tr>\n",
       "      <th>2</th>\n",
       "      <td>675000</td>\n",
       "      <td>0.0</td>\n",
       "      <td>132000</td>\n",
       "      <td>360.0</td>\n",
       "      <td>1.0</td>\n",
       "      <td>Y</td>\n",
       "      <td>1</td>\n",
       "      <td>1</td>\n",
       "      <td>0</td>\n",
       "      <td>0</td>\n",
       "      <td>...</td>\n",
       "      <td>0</td>\n",
       "      <td>0</td>\n",
       "      <td>0</td>\n",
       "      <td>0</td>\n",
       "      <td>0</td>\n",
       "      <td>1</td>\n",
       "      <td>1</td>\n",
       "      <td>1</td>\n",
       "      <td>1</td>\n",
       "      <td>1</td>\n",
       "    </tr>\n",
       "    <tr>\n",
       "      <th>3</th>\n",
       "      <td>581175</td>\n",
       "      <td>530550.0</td>\n",
       "      <td>240000</td>\n",
       "      <td>360.0</td>\n",
       "      <td>1.0</td>\n",
       "      <td>Y</td>\n",
       "      <td>1</td>\n",
       "      <td>1</td>\n",
       "      <td>0</td>\n",
       "      <td>0</td>\n",
       "      <td>...</td>\n",
       "      <td>1</td>\n",
       "      <td>0</td>\n",
       "      <td>0</td>\n",
       "      <td>0</td>\n",
       "      <td>0</td>\n",
       "      <td>1</td>\n",
       "      <td>1</td>\n",
       "      <td>1</td>\n",
       "      <td>1</td>\n",
       "      <td>1</td>\n",
       "    </tr>\n",
       "    <tr>\n",
       "      <th>4</th>\n",
       "      <td>1350000</td>\n",
       "      <td>0.0</td>\n",
       "      <td>282000</td>\n",
       "      <td>360.0</td>\n",
       "      <td>1.0</td>\n",
       "      <td>Y</td>\n",
       "      <td>1</td>\n",
       "      <td>0</td>\n",
       "      <td>0</td>\n",
       "      <td>0</td>\n",
       "      <td>...</td>\n",
       "      <td>0</td>\n",
       "      <td>1</td>\n",
       "      <td>0</td>\n",
       "      <td>0</td>\n",
       "      <td>0</td>\n",
       "      <td>1</td>\n",
       "      <td>1</td>\n",
       "      <td>1</td>\n",
       "      <td>1</td>\n",
       "      <td>1</td>\n",
       "    </tr>\n",
       "  </tbody>\n",
       "</table>\n",
       "<p>5 rows × 25 columns</p>\n",
       "</div>"
      ],
      "text/plain": [
       "   ApplicantIncome  CoapplicantIncome  LoanAmount  Loan_Amount_Term  \\\n",
       "0          1316025                0.0      250000             360.0   \n",
       "1          1031175           339300.0      256000             360.0   \n",
       "2           675000                0.0      132000             360.0   \n",
       "3           581175           530550.0      240000             360.0   \n",
       "4          1350000                0.0      282000             360.0   \n",
       "\n",
       "   Credit_History Loan_Status  Gender_Male  Married_Yes  Dependents_1  \\\n",
       "0             1.0           Y            1            0             0   \n",
       "1             1.0           N            1            1             1   \n",
       "2             1.0           Y            1            1             0   \n",
       "3             1.0           Y            1            1             0   \n",
       "4             1.0           Y            1            0             0   \n",
       "\n",
       "   Dependents_2  ...  LoanAmount_Ranges_(194500.0, 250000.0]  \\\n",
       "0             0  ...                                       1   \n",
       "1             0  ...                                       0   \n",
       "2             0  ...                                       0   \n",
       "3             0  ...                                       1   \n",
       "4             0  ...                                       0   \n",
       "\n",
       "   LoanAmount_Ranges_(250000.0, 320000.0]  \\\n",
       "0                                       0   \n",
       "1                                       1   \n",
       "2                                       0   \n",
       "3                                       0   \n",
       "4                                       1   \n",
       "\n",
       "   LoanAmount_Ranges_(320000.0, 1300000.0]  Dependents_Range_(1, 2]  \\\n",
       "0                                        0                        0   \n",
       "1                                        0                        0   \n",
       "2                                        0                        0   \n",
       "3                                        0                        0   \n",
       "4                                        0                        0   \n",
       "\n",
       "   Dependents_Range_(2, 3]  Dependents_Range_0  FamilyFinancePlan_Yes  \\\n",
       "0                        0                   1                      1   \n",
       "1                        0                   0                      1   \n",
       "2                        0                   1                      1   \n",
       "3                        0                   1                      1   \n",
       "4                        0                   1                      1   \n",
       "\n",
       "   RepaymentCapacity_Yes  PropertyValuingCustomer_Yes  genderCredit_Yes  \n",
       "0                      1                            1                 1  \n",
       "1                      1                            0                 1  \n",
       "2                      1                            1                 1  \n",
       "3                      1                            1                 1  \n",
       "4                      1                            1                 1  \n",
       "\n",
       "[5 rows x 25 columns]"
      ]
     },
     "execution_count": 130,
     "metadata": {},
     "output_type": "execute_result"
    }
   ],
   "source": [
    "df2.head()"
   ]
  },
  {
   "cell_type": "code",
   "execution_count": 131,
   "id": "09c52752",
   "metadata": {},
   "outputs": [
    {
     "data": {
      "text/plain": [
       "(474, 25)"
      ]
     },
     "execution_count": 131,
     "metadata": {},
     "output_type": "execute_result"
    }
   ],
   "source": [
    "df2.shape"
   ]
  },
  {
   "cell_type": "markdown",
   "id": "1c5e11dc",
   "metadata": {},
   "source": [
    "# Outlier treatment"
   ]
  },
  {
   "cell_type": "code",
   "execution_count": 132,
   "id": "9d5c6e1a",
   "metadata": {},
   "outputs": [],
   "source": [
    "# Q1 = df['Loan_Amount_Term'].quantile(0.25)\n",
    "# Q3 = df['Loan_Amount_Term'].quantile(0.75)\n",
    "# IQR = Q3 - Q1\n",
    "# lower_limit = Q1 - 1.5*IQR\n",
    "# upper_limit = Q3 + 1.5*IQR\n",
    "\n",
    "# df = df[(df['Loan_Amount_Term'] >= lower_limit) & (df['Loan_Amount_Term'] <= upper_limit)]\n"
   ]
  },
  {
   "cell_type": "code",
   "execution_count": 133,
   "id": "7a171874",
   "metadata": {},
   "outputs": [],
   "source": [
    "# Decided not to go for outlier treatment as just by doing IQR method removes a considerable ammount of rows "
   ]
  },
  {
   "cell_type": "markdown",
   "id": "a62f2010",
   "metadata": {},
   "source": [
    "## Scaling the data"
   ]
  },
  {
   "cell_type": "code",
   "execution_count": 134,
   "id": "f4ecadcc",
   "metadata": {},
   "outputs": [],
   "source": [
    "X =  df2.drop('Loan_Status',axis=1)"
   ]
  },
  {
   "cell_type": "code",
   "execution_count": 135,
   "id": "48042d21",
   "metadata": {},
   "outputs": [],
   "source": [
    "y = df2['Loan_Status']"
   ]
  },
  {
   "cell_type": "code",
   "execution_count": 136,
   "id": "81a111af",
   "metadata": {},
   "outputs": [],
   "source": [
    "#train_test split\n",
    "from sklearn.model_selection import train_test_split"
   ]
  },
  {
   "cell_type": "code",
   "execution_count": 137,
   "id": "31d9eda8",
   "metadata": {},
   "outputs": [],
   "source": [
    "X_train, X_test, y_train, y_test = train_test_split(X, y, test_size=0.1, random_state=101)"
   ]
  },
  {
   "cell_type": "code",
   "execution_count": 138,
   "id": "7908944d",
   "metadata": {},
   "outputs": [],
   "source": [
    "from sklearn.preprocessing import StandardScaler\n",
    "\n",
    "# Create a scaler object\n",
    "scaler = StandardScaler()\n",
    "\n",
    "# # Select the continuous features to scale\n",
    "# continuous_features = ['ApplicantIncome', 'CoapplicantIncome', 'LoanAmount', 'Loan_Amount_Term']\n",
    "\n",
    "# # Scale the continuous features\n",
    "# df2[continuous_features] = scaler.fit_transform(df2[continuous_features])"
   ]
  },
  {
   "cell_type": "code",
   "execution_count": 139,
   "id": "ecb77e7f",
   "metadata": {},
   "outputs": [],
   "source": [
    "X_train_scaled = scaler.fit_transform(X_train)\n",
    "X_test_scaled = scaler.transform(X_test)"
   ]
  },
  {
   "cell_type": "markdown",
   "id": "1fe02c2a",
   "metadata": {},
   "source": [
    "## Log Model"
   ]
  },
  {
   "cell_type": "code",
   "execution_count": 140,
   "id": "f16e1047",
   "metadata": {},
   "outputs": [],
   "source": [
    "from sklearn.linear_model import LogisticRegressionCV "
   ]
  },
  {
   "cell_type": "code",
   "execution_count": 141,
   "id": "e1fb8076",
   "metadata": {},
   "outputs": [],
   "source": [
    "logModel=LogisticRegressionCV()"
   ]
  },
  {
   "cell_type": "code",
   "execution_count": 142,
   "id": "725cbbdf",
   "metadata": {},
   "outputs": [
    {
     "data": {
      "text/plain": [
       "LogisticRegressionCV()"
      ]
     },
     "execution_count": 142,
     "metadata": {},
     "output_type": "execute_result"
    }
   ],
   "source": [
    "logModel.fit(X_train_scaled,y_train)"
   ]
  },
  {
   "cell_type": "code",
   "execution_count": 143,
   "id": "2b87bbc0",
   "metadata": {},
   "outputs": [
    {
     "data": {
      "text/plain": [
       "array([1.00000000e-04, 7.74263683e-04, 5.99484250e-03, 4.64158883e-02,\n",
       "       3.59381366e-01, 2.78255940e+00, 2.15443469e+01, 1.66810054e+02,\n",
       "       1.29154967e+03, 1.00000000e+04])"
      ]
     },
     "execution_count": 143,
     "metadata": {},
     "output_type": "execute_result"
    }
   ],
   "source": [
    "logModel.Cs_"
   ]
  },
  {
   "cell_type": "code",
   "execution_count": 144,
   "id": "97522848",
   "metadata": {},
   "outputs": [
    {
     "data": {
      "text/plain": [
       "{'Cs': 10,\n",
       " 'class_weight': None,\n",
       " 'cv': None,\n",
       " 'dual': False,\n",
       " 'fit_intercept': True,\n",
       " 'intercept_scaling': 1.0,\n",
       " 'l1_ratios': None,\n",
       " 'max_iter': 100,\n",
       " 'multi_class': 'auto',\n",
       " 'n_jobs': None,\n",
       " 'penalty': 'l2',\n",
       " 'random_state': None,\n",
       " 'refit': True,\n",
       " 'scoring': None,\n",
       " 'solver': 'lbfgs',\n",
       " 'tol': 0.0001,\n",
       " 'verbose': 0}"
      ]
     },
     "execution_count": 144,
     "metadata": {},
     "output_type": "execute_result"
    }
   ],
   "source": [
    "logModel.get_params()"
   ]
  },
  {
   "cell_type": "code",
   "execution_count": 145,
   "id": "d169b714",
   "metadata": {},
   "outputs": [
    {
     "data": {
      "text/plain": [
       "array([[-0.0090343 , -0.00298624, -0.02668678, -0.0192567 ,  0.24383123,\n",
       "        -0.00130124,  0.05713372, -0.06391193,  0.05301422, -0.00294925,\n",
       "        -0.03281996,  0.0043747 ,  0.09658287, -0.05071544,  0.03920084,\n",
       "         0.0524367 , -0.06304917,  0.05301422, -0.00294925,  0.00782431,\n",
       "         0.00294925,  0.24383123,  0.1645773 ,  0.15359865]])"
      ]
     },
     "execution_count": 145,
     "metadata": {},
     "output_type": "execute_result"
    }
   ],
   "source": [
    "logModel.coef_"
   ]
  },
  {
   "cell_type": "code",
   "execution_count": 146,
   "id": "00a3cc55",
   "metadata": {},
   "outputs": [],
   "source": [
    "coefs = pd.Series(index=X.columns,data=logModel.coef_[0])"
   ]
  },
  {
   "cell_type": "code",
   "execution_count": 147,
   "id": "fc8067cf",
   "metadata": {},
   "outputs": [],
   "source": [
    "coefs = coefs.sort_values()"
   ]
  },
  {
   "cell_type": "code",
   "execution_count": 148,
   "id": "fc8155e3",
   "metadata": {},
   "outputs": [
    {
     "data": {
      "image/png": "[encoded data removed]",
      "text/plain": [
       "<Figure size 720x432 with 1 Axes>"
      ]
     },
     "metadata": {
      "needs_background": "light"
     },
     "output_type": "display_data"
    }
   ],
   "source": [
    "plt.figure(figsize=(10,6))\n",
    "sns.barplot(x=coefs.index,y=coefs.values);\n",
    "plt.title('Feature importances');\n",
    "plt.xticks(rotation=90);"
   ]
  },
  {
   "cell_type": "code",
   "execution_count": 149,
   "id": "64cd4dbf",
   "metadata": {},
   "outputs": [],
   "source": [
    "y_train_pred = logModel.predict(X_train_scaled) "
   ]
  },
  {
   "cell_type": "code",
   "execution_count": 150,
   "id": "867eef5d",
   "metadata": {},
   "outputs": [
    {
     "data": {
      "text/plain": [
       "0.812206572769953"
      ]
     },
     "execution_count": 150,
     "metadata": {},
     "output_type": "execute_result"
    }
   ],
   "source": [
    "from sklearn import metrics\n",
    "metrics.accuracy_score(y_train, y_train_pred) "
   ]
  },
  {
   "cell_type": "code",
   "execution_count": 151,
   "id": "b52dfb21",
   "metadata": {},
   "outputs": [],
   "source": [
    "from sklearn.metrics import confusion_matrix,classification_report,plot_confusion_matrix"
   ]
  },
  {
   "cell_type": "code",
   "execution_count": 152,
   "id": "0b17a803",
   "metadata": {},
   "outputs": [
    {
     "data": {
      "image/png": "[encoded data removed]",
      "text/plain": [
       "<Figure size 432x288 with 2 Axes>"
      ]
     },
     "metadata": {
      "needs_background": "light"
     },
     "output_type": "display_data"
    }
   ],
   "source": [
    "y_pred = logModel.predict(X_test_scaled)\n",
    "confusion_matrix(y_test,y_pred)\n",
    "plot_confusion_matrix(logModel,X_test_scaled,y_test);"
   ]
  },
  {
   "cell_type": "markdown",
   "id": "c12749f2",
   "metadata": {},
   "source": [
    "### Log model Report"
   ]
  },
  {
   "cell_type": "code",
   "execution_count": 153,
   "id": "5cb3fd24",
   "metadata": {},
   "outputs": [
    {
     "name": "stdout",
     "output_type": "stream",
     "text": [
      "              precision    recall  f1-score   support\n",
      "\n",
      "           N       0.93      0.43      0.59       133\n",
      "           Y       0.79      0.99      0.88       293\n",
      "\n",
      "    accuracy                           0.81       426\n",
      "   macro avg       0.86      0.71      0.73       426\n",
      "weighted avg       0.84      0.81      0.79       426\n",
      "\n"
     ]
    }
   ],
   "source": [
    "print(classification_report(y_train,y_train_pred)) ##Training Table"
   ]
  },
  {
   "cell_type": "code",
   "execution_count": 154,
   "id": "128d886a",
   "metadata": {},
   "outputs": [
    {
     "name": "stdout",
     "output_type": "stream",
     "text": [
      "              precision    recall  f1-score   support\n",
      "\n",
      "           N       0.75      0.55      0.63        11\n",
      "           Y       0.88      0.95      0.91        37\n",
      "\n",
      "    accuracy                           0.85        48\n",
      "   macro avg       0.81      0.75      0.77        48\n",
      "weighted avg       0.85      0.85      0.85        48\n",
      "\n"
     ]
    }
   ],
   "source": [
    "print(classification_report(y_test,y_pred))"
   ]
  },
  {
   "cell_type": "markdown",
   "id": "020f86df",
   "metadata": {},
   "source": [
    "## Training accuracy score 81% & Testing accuracy 85%"
   ]
  },
  {
   "cell_type": "code",
   "execution_count": 155,
   "id": "cf0048a8",
   "metadata": {},
   "outputs": [
    {
     "data": {
      "image/png": "[encoded data removed]",
      "text/plain": [
       "<Figure size 432x288 with 1 Axes>"
      ]
     },
     "metadata": {
      "needs_background": "light"
     },
     "output_type": "display_data"
    }
   ],
   "source": [
    "from sklearn.metrics import plot_precision_recall_curve,plot_roc_curve\n",
    "plot_precision_recall_curve(logModel,X_test_scaled,y_test);"
   ]
  },
  {
   "cell_type": "code",
   "execution_count": 156,
   "id": "5f62cbf3",
   "metadata": {},
   "outputs": [
    {
     "data": {
      "text/plain": [
       "<sklearn.metrics._plot.roc_curve.RocCurveDisplay at 0x7f06593673d0>"
      ]
     },
     "execution_count": 156,
     "metadata": {},
     "output_type": "execute_result"
    },
    {
     "data": {
      "image/png": "[encoded data removed]",
      "text/plain": [
       "<Figure size 432x288 with 1 Axes>"
      ]
     },
     "metadata": {
      "needs_background": "light"
     },
     "output_type": "display_data"
    }
   ],
   "source": [
    "plot_roc_curve(logModel,X_test_scaled,y_test)"
   ]
  },
  {
   "cell_type": "markdown",
   "id": "20603e35",
   "metadata": {},
   "source": [
    "- precsion and recall seems not good for No but better for Yes status"
   ]
  },
  {
   "cell_type": "markdown",
   "id": "5c436017",
   "metadata": {},
   "source": [
    "## SVM Classifier"
   ]
  },
  {
   "cell_type": "code",
   "execution_count": 157,
   "id": "419e228c",
   "metadata": {},
   "outputs": [],
   "source": [
    "from sklearn.svm import SVC"
   ]
  },
  {
   "cell_type": "code",
   "execution_count": 158,
   "id": "a549168c",
   "metadata": {},
   "outputs": [],
   "source": [
    "svc= SVC(class_weight='balanced')\n",
    "from sklearn.model_selection import GridSearchCV\n",
    "param_grid = {'C':[0.001,0.01,0.1,0.5,1],'gamma':['scale','auto']}\n",
    "grid = GridSearchCV(svc,param_grid)"
   ]
  },
  {
   "cell_type": "code",
   "execution_count": 159,
   "id": "04675d8f",
   "metadata": {},
   "outputs": [
    {
     "data": {
      "text/plain": [
       "GridSearchCV(estimator=SVC(class_weight='balanced'),\n",
       "             param_grid={'C': [0.001, 0.01, 0.1, 0.5, 1],\n",
       "                         'gamma': ['scale', 'auto']})"
      ]
     },
     "execution_count": 159,
     "metadata": {},
     "output_type": "execute_result"
    }
   ],
   "source": [
    "grid.fit(X_train_scaled,y_train)"
   ]
  },
  {
   "cell_type": "code",
   "execution_count": 160,
   "id": "58de7012",
   "metadata": {},
   "outputs": [
    {
     "data": {
      "text/plain": [
       "{'C': 0.5, 'gamma': 'scale'}"
      ]
     },
     "execution_count": 160,
     "metadata": {},
     "output_type": "execute_result"
    }
   ],
   "source": [
    "grid.best_params_"
   ]
  },
  {
   "cell_type": "code",
   "execution_count": 161,
   "id": "34f305bd",
   "metadata": {},
   "outputs": [],
   "source": [
    "y_train_pred = grid.predict(X_train_scaled) "
   ]
  },
  {
   "cell_type": "code",
   "execution_count": 162,
   "id": "8fb16e1e",
   "metadata": {},
   "outputs": [
    {
     "data": {
      "text/plain": [
       "0.8427230046948356"
      ]
     },
     "execution_count": 162,
     "metadata": {},
     "output_type": "execute_result"
    }
   ],
   "source": [
    "metrics.accuracy_score(y_train, y_train_pred) "
   ]
  },
  {
   "cell_type": "markdown",
   "id": "bb253ed4",
   "metadata": {},
   "source": [
    "### confusion Matrix"
   ]
  },
  {
   "cell_type": "code",
   "execution_count": 163,
   "id": "b19cefe8",
   "metadata": {},
   "outputs": [],
   "source": [
    "from sklearn.metrics import confusion_matrix, classification_report"
   ]
  },
  {
   "cell_type": "code",
   "execution_count": 164,
   "id": "b9b44e17",
   "metadata": {},
   "outputs": [],
   "source": [
    "grid_preds=grid.predict(X_test_scaled)"
   ]
  },
  {
   "cell_type": "code",
   "execution_count": 165,
   "id": "35c654cb",
   "metadata": {},
   "outputs": [
    {
     "data": {
      "text/plain": [
       "array([[ 8,  3],\n",
       "       [ 6, 31]])"
      ]
     },
     "execution_count": 165,
     "metadata": {},
     "output_type": "execute_result"
    }
   ],
   "source": [
    "confusion_matrix(y_test,grid_preds)"
   ]
  },
  {
   "cell_type": "code",
   "execution_count": 166,
   "id": "2c6f4c7c",
   "metadata": {},
   "outputs": [
    {
     "name": "stdout",
     "output_type": "stream",
     "text": [
      "              precision    recall  f1-score   support\n",
      "\n",
      "           N       0.86      0.59      0.70       133\n",
      "           Y       0.84      0.96      0.89       293\n",
      "\n",
      "    accuracy                           0.84       426\n",
      "   macro avg       0.85      0.77      0.80       426\n",
      "weighted avg       0.84      0.84      0.83       426\n",
      "\n"
     ]
    }
   ],
   "source": [
    "print(classification_report(y_train,y_train_pred)) ##Training Table"
   ]
  },
  {
   "cell_type": "code",
   "execution_count": 167,
   "id": "ba4efded",
   "metadata": {},
   "outputs": [
    {
     "name": "stdout",
     "output_type": "stream",
     "text": [
      "              precision    recall  f1-score   support\n",
      "\n",
      "           N       0.57      0.73      0.64        11\n",
      "           Y       0.91      0.84      0.87        37\n",
      "\n",
      "    accuracy                           0.81        48\n",
      "   macro avg       0.74      0.78      0.76        48\n",
      "weighted avg       0.83      0.81      0.82        48\n",
      "\n"
     ]
    }
   ],
   "source": [
    "print(classification_report(y_test,grid_preds)) ## testing result"
   ]
  },
  {
   "cell_type": "markdown",
   "id": "ce25a57e",
   "metadata": {},
   "source": [
    "## KNN"
   ]
  },
  {
   "cell_type": "code",
   "execution_count": 168,
   "id": "5ce415a4",
   "metadata": {},
   "outputs": [],
   "source": [
    "from sklearn.neighbors import KNeighborsClassifier"
   ]
  },
  {
   "cell_type": "code",
   "execution_count": 169,
   "id": "06611bec",
   "metadata": {},
   "outputs": [],
   "source": [
    "KNN=KNeighborsClassifier()"
   ]
  },
  {
   "cell_type": "code",
   "execution_count": 170,
   "id": "0b0b05b1",
   "metadata": {},
   "outputs": [],
   "source": [
    "flow=[('scaler',scaler),('KNN',KNN)]"
   ]
  },
  {
   "cell_type": "code",
   "execution_count": 171,
   "id": "e8f101b0",
   "metadata": {},
   "outputs": [],
   "source": [
    "from sklearn.pipeline import Pipeline"
   ]
  },
  {
   "cell_type": "code",
   "execution_count": 172,
   "id": "634442f7",
   "metadata": {},
   "outputs": [],
   "source": [
    "pipe=Pipeline(flow)"
   ]
  },
  {
   "cell_type": "markdown",
   "id": "16da1e80",
   "metadata": {},
   "source": [
    "This will scale the data and perfom KNN with with defaults but we still want to get the best k which minimizes both acccuracy and complexity. So im going for a grid search on this KNN model"
   ]
  },
  {
   "cell_type": "code",
   "execution_count": 173,
   "id": "a103156c",
   "metadata": {},
   "outputs": [],
   "source": [
    "kRanges=list(range(1,30))"
   ]
  },
  {
   "cell_type": "code",
   "execution_count": 174,
   "id": "d1a53848",
   "metadata": {},
   "outputs": [],
   "source": [
    "param_grid={'KNN__n_neighbors':kRanges}"
   ]
  },
  {
   "cell_type": "code",
   "execution_count": 175,
   "id": "d7a1a8c0",
   "metadata": {},
   "outputs": [],
   "source": [
    "classifier=GridSearchCV(pipe, param_grid,cv=5,scoring='accuracy')"
   ]
  },
  {
   "cell_type": "code",
   "execution_count": 176,
   "id": "a9015b94",
   "metadata": {},
   "outputs": [
    {
     "data": {
      "text/plain": [
       "GridSearchCV(cv=5,\n",
       "             estimator=Pipeline(steps=[('scaler', StandardScaler()),\n",
       "                                       ('KNN', KNeighborsClassifier())]),\n",
       "             param_grid={'KNN__n_neighbors': [1, 2, 3, 4, 5, 6, 7, 8, 9, 10, 11,\n",
       "                                              12, 13, 14, 15, 16, 17, 18, 19,\n",
       "                                              20, 21, 22, 23, 24, 25, 26, 27,\n",
       "                                              28, 29]},\n",
       "             scoring='accuracy')"
      ]
     },
     "execution_count": 176,
     "metadata": {},
     "output_type": "execute_result"
    }
   ],
   "source": [
    "classifier.fit(X_train,y_train)"
   ]
  },
  {
   "cell_type": "code",
   "execution_count": 177,
   "id": "04d85c14",
   "metadata": {},
   "outputs": [
    {
     "data": {
      "text/plain": [
       "{'memory': None,\n",
       " 'steps': [('scaler', StandardScaler()),\n",
       "  ('KNN', KNeighborsClassifier(n_neighbors=20))],\n",
       " 'verbose': False,\n",
       " 'scaler': StandardScaler(),\n",
       " 'KNN': KNeighborsClassifier(n_neighbors=20),\n",
       " 'scaler__copy': True,\n",
       " 'scaler__with_mean': True,\n",
       " 'scaler__with_std': True,\n",
       " 'KNN__algorithm': 'auto',\n",
       " 'KNN__leaf_size': 30,\n",
       " 'KNN__metric': 'minkowski',\n",
       " 'KNN__metric_params': None,\n",
       " 'KNN__n_jobs': None,\n",
       " 'KNN__n_neighbors': 20,\n",
       " 'KNN__p': 2,\n",
       " 'KNN__weights': 'uniform'}"
      ]
     },
     "execution_count": 177,
     "metadata": {},
     "output_type": "execute_result"
    }
   ],
   "source": [
    "classifier.best_estimator_.get_params()"
   ]
  },
  {
   "cell_type": "code",
   "execution_count": 178,
   "id": "919e1124",
   "metadata": {},
   "outputs": [],
   "source": [
    "y_train_pred = classifier.predict(X_train_scaled) "
   ]
  },
  {
   "cell_type": "code",
   "execution_count": 179,
   "id": "ac8e9be5",
   "metadata": {},
   "outputs": [
    {
     "data": {
      "text/plain": [
       "0.7629107981220657"
      ]
     },
     "execution_count": 179,
     "metadata": {},
     "output_type": "execute_result"
    }
   ],
   "source": [
    "metrics.accuracy_score(y_train, y_train_pred)"
   ]
  },
  {
   "cell_type": "code",
   "execution_count": 180,
   "id": "8d9b8805",
   "metadata": {},
   "outputs": [
    {
     "data": {
      "text/plain": [
       "<AxesSubplot:>"
      ]
     },
     "execution_count": 180,
     "metadata": {},
     "output_type": "execute_result"
    },
    {
     "data": {
      "image/png": "[encoded data removed]",
      "text/plain": [
       "<Figure size 432x288 with 1 Axes>"
      ]
     },
     "metadata": {
      "needs_background": "light"
     },
     "output_type": "display_data"
    }
   ],
   "source": [
    "pd.DataFrame(classifier.cv_results_)['mean_test_score'].plot()"
   ]
  },
  {
   "cell_type": "markdown",
   "id": "3493b4d6",
   "metadata": {},
   "source": [
    "### Reports KNN"
   ]
  },
  {
   "cell_type": "code",
   "execution_count": 181,
   "id": "d20b1e6e",
   "metadata": {},
   "outputs": [],
   "source": [
    "y_pred=classifier.predict(X_test_scaled)"
   ]
  },
  {
   "cell_type": "code",
   "execution_count": 182,
   "id": "8e2674c1",
   "metadata": {},
   "outputs": [
    {
     "data": {
      "text/plain": [
       "array([[ 5,  6],\n",
       "       [ 8, 29]])"
      ]
     },
     "execution_count": 182,
     "metadata": {},
     "output_type": "execute_result"
    }
   ],
   "source": [
    "confusion_matrix(y_test,y_pred)"
   ]
  },
  {
   "cell_type": "code",
   "execution_count": 183,
   "id": "7d39a605",
   "metadata": {},
   "outputs": [
    {
     "name": "stdout",
     "output_type": "stream",
     "text": [
      "              precision    recall  f1-score   support\n",
      "\n",
      "           N       0.66      0.50      0.57       133\n",
      "           Y       0.79      0.88      0.84       293\n",
      "\n",
      "    accuracy                           0.76       426\n",
      "   macro avg       0.73      0.69      0.70       426\n",
      "weighted avg       0.75      0.76      0.75       426\n",
      "\n"
     ]
    }
   ],
   "source": [
    "print(classification_report(y_train,y_train_pred)) ##Training Table"
   ]
  },
  {
   "cell_type": "code",
   "execution_count": 184,
   "id": "5bb19d98",
   "metadata": {},
   "outputs": [
    {
     "name": "stdout",
     "output_type": "stream",
     "text": [
      "              precision    recall  f1-score   support\n",
      "\n",
      "           N       0.38      0.45      0.42        11\n",
      "           Y       0.83      0.78      0.81        37\n",
      "\n",
      "    accuracy                           0.71        48\n",
      "   macro avg       0.61      0.62      0.61        48\n",
      "weighted avg       0.73      0.71      0.72        48\n",
      "\n"
     ]
    }
   ],
   "source": [
    "print(classification_report(y_test,y_pred))"
   ]
  },
  {
   "cell_type": "code",
   "execution_count": 185,
   "id": "78233637",
   "metadata": {},
   "outputs": [
    {
     "data": {
      "text/plain": [
       "<sklearn.metrics._plot.roc_curve.RocCurveDisplay at 0x7f06581756d0>"
      ]
     },
     "execution_count": 185,
     "metadata": {},
     "output_type": "execute_result"
    },
    {
     "data": {
      "image/png": "[encoded data removed]",
      "text/plain": [
       "<Figure size 432x288 with 1 Axes>"
      ]
     },
     "metadata": {
      "needs_background": "light"
     },
     "output_type": "display_data"
    }
   ],
   "source": [
    "plot_roc_curve(classifier,X_test,y_test)"
   ]
  },
  {
   "cell_type": "markdown",
   "id": "69c5fd84",
   "metadata": {},
   "source": [
    "## Random Forest Classifier"
   ]
  },
  {
   "cell_type": "code",
   "execution_count": 186,
   "id": "87cee784",
   "metadata": {},
   "outputs": [],
   "source": [
    "from sklearn.ensemble import RandomForestClassifier"
   ]
  },
  {
   "cell_type": "code",
   "execution_count": 187,
   "id": "de4fa273",
   "metadata": {},
   "outputs": [],
   "source": [
    "n_estimators=[64,100,120,200]"
   ]
  },
  {
   "cell_type": "code",
   "execution_count": 188,
   "id": "d468232a",
   "metadata": {},
   "outputs": [],
   "source": [
    "max_features=[2,3,4]"
   ]
  },
  {
   "cell_type": "code",
   "execution_count": 189,
   "id": "f6012e36",
   "metadata": {},
   "outputs": [],
   "source": [
    "bootstrap=[True,False]"
   ]
  },
  {
   "cell_type": "code",
   "execution_count": 190,
   "id": "3c8baa7a",
   "metadata": {},
   "outputs": [],
   "source": [
    "oob_score= [True,False]"
   ]
  },
  {
   "cell_type": "code",
   "execution_count": 191,
   "id": "58f6e9c6",
   "metadata": {},
   "outputs": [],
   "source": [
    "param_grid={'n_estimators':n_estimators, \n",
    "            'max_features':max_features,\n",
    "            'bootstrap':bootstrap,\n",
    "            'oob_score':oob_score\n",
    "           }"
   ]
  },
  {
   "cell_type": "code",
   "execution_count": 192,
   "id": "8a1f7989",
   "metadata": {},
   "outputs": [],
   "source": [
    "rfc=RandomForestClassifier()\n",
    "grid= GridSearchCV(rfc,param_grid)"
   ]
  },
  {
   "cell_type": "code",
   "execution_count": 193,
   "id": "8f948de1",
   "metadata": {},
   "outputs": [
    {
     "name": "stderr",
     "output_type": "stream",
     "text": [
      "/home/akhil/anaconda3/lib/python3.9/site-packages/sklearn/model_selection/_validation.py:615: FitFailedWarning: Estimator fit failed. The score on this train-test partition for these parameters will be set to nan. Details: \n",
      "Traceback (most recent call last):\n",
      "  File \"/home/akhil/anaconda3/lib/python3.9/site-packages/sklearn/model_selection/_validation.py\", line 598, in _fit_and_score\n",
      "    estimator.fit(X_train, y_train, **fit_params)\n",
      "  File \"/home/akhil/anaconda3/lib/python3.9/site-packages/sklearn/ensemble/_forest.py\", line 352, in fit\n",
      "    raise ValueError(\"Out of bag estimation only available\"\n",
      "ValueError: Out of bag estimation only available if bootstrap=True\n",
      "\n",
      "  warnings.warn(\"Estimator fit failed. The score on this train-test\"\n",
      "/home/akhil/anaconda3/lib/python3.9/site-packages/sklearn/model_selection/_validation.py:615: FitFailedWarning: Estimator fit failed. The score on this train-test partition for these parameters will be set to nan. Details: \n",
      "Traceback (most recent call last):\n",
      "  File \"/home/akhil/anaconda3/lib/python3.9/site-packages/sklearn/model_selection/_validation.py\", line 598, in _fit_and_score\n",
      "    estimator.fit(X_train, y_train, **fit_params)\n",
      "  File \"/home/akhil/anaconda3/lib/python3.9/site-packages/sklearn/ensemble/_forest.py\", line 352, in fit\n",
      "    raise ValueError(\"Out of bag estimation only available\"\n",
      "ValueError: Out of bag estimation only available if bootstrap=True\n",
      "\n",
      "  warnings.warn(\"Estimator fit failed. The score on this train-test\"\n",
      "/home/akhil/anaconda3/lib/python3.9/site-packages/sklearn/model_selection/_validation.py:615: FitFailedWarning: Estimator fit failed. The score on this train-test partition for these parameters will be set to nan. Details: \n",
      "Traceback (most recent call last):\n",
      "  File \"/home/akhil/anaconda3/lib/python3.9/site-packages/sklearn/model_selection/_validation.py\", line 598, in _fit_and_score\n",
      "    estimator.fit(X_train, y_train, **fit_params)\n",
      "  File \"/home/akhil/anaconda3/lib/python3.9/site-packages/sklearn/ensemble/_forest.py\", line 352, in fit\n",
      "    raise ValueError(\"Out of bag estimation only available\"\n",
      "ValueError: Out of bag estimation only available if bootstrap=True\n",
      "\n",
      "  warnings.warn(\"Estimator fit failed. The score on this train-test\"\n",
      "/home/akhil/anaconda3/lib/python3.9/site-packages/sklearn/model_selection/_validation.py:615: FitFailedWarning: Estimator fit failed. The score on this train-test partition for these parameters will be set to nan. Details: \n",
      "Traceback (most recent call last):\n",
      "  File \"/home/akhil/anaconda3/lib/python3.9/site-packages/sklearn/model_selection/_validation.py\", line 598, in _fit_and_score\n",
      "    estimator.fit(X_train, y_train, **fit_params)\n",
      "  File \"/home/akhil/anaconda3/lib/python3.9/site-packages/sklearn/ensemble/_forest.py\", line 352, in fit\n",
      "    raise ValueError(\"Out of bag estimation only available\"\n",
      "ValueError: Out of bag estimation only available if bootstrap=True\n",
      "\n",
      "  warnings.warn(\"Estimator fit failed. The score on this train-test\"\n",
      "/home/akhil/anaconda3/lib/python3.9/site-packages/sklearn/model_selection/_validation.py:615: FitFailedWarning: Estimator fit failed. The score on this train-test partition for these parameters will be set to nan. Details: \n",
      "Traceback (most recent call last):\n",
      "  File \"/home/akhil/anaconda3/lib/python3.9/site-packages/sklearn/model_selection/_validation.py\", line 598, in _fit_and_score\n",
      "    estimator.fit(X_train, y_train, **fit_params)\n",
      "  File \"/home/akhil/anaconda3/lib/python3.9/site-packages/sklearn/ensemble/_forest.py\", line 352, in fit\n",
      "    raise ValueError(\"Out of bag estimation only available\"\n",
      "ValueError: Out of bag estimation only available if bootstrap=True\n",
      "\n",
      "  warnings.warn(\"Estimator fit failed. The score on this train-test\"\n",
      "/home/akhil/anaconda3/lib/python3.9/site-packages/sklearn/model_selection/_validation.py:615: FitFailedWarning: Estimator fit failed. The score on this train-test partition for these parameters will be set to nan. Details: \n",
      "Traceback (most recent call last):\n",
      "  File \"/home/akhil/anaconda3/lib/python3.9/site-packages/sklearn/model_selection/_validation.py\", line 598, in _fit_and_score\n",
      "    estimator.fit(X_train, y_train, **fit_params)\n",
      "  File \"/home/akhil/anaconda3/lib/python3.9/site-packages/sklearn/ensemble/_forest.py\", line 352, in fit\n",
      "    raise ValueError(\"Out of bag estimation only available\"\n",
      "ValueError: Out of bag estimation only available if bootstrap=True\n",
      "\n",
      "  warnings.warn(\"Estimator fit failed. The score on this train-test\"\n",
      "/home/akhil/anaconda3/lib/python3.9/site-packages/sklearn/model_selection/_validation.py:615: FitFailedWarning: Estimator fit failed. The score on this train-test partition for these parameters will be set to nan. Details: \n",
      "Traceback (most recent call last):\n",
      "  File \"/home/akhil/anaconda3/lib/python3.9/site-packages/sklearn/model_selection/_validation.py\", line 598, in _fit_and_score\n",
      "    estimator.fit(X_train, y_train, **fit_params)\n",
      "  File \"/home/akhil/anaconda3/lib/python3.9/site-packages/sklearn/ensemble/_forest.py\", line 352, in fit\n",
      "    raise ValueError(\"Out of bag estimation only available\"\n",
      "ValueError: Out of bag estimation only available if bootstrap=True\n",
      "\n",
      "  warnings.warn(\"Estimator fit failed. The score on this train-test\"\n",
      "/home/akhil/anaconda3/lib/python3.9/site-packages/sklearn/model_selection/_validation.py:615: FitFailedWarning: Estimator fit failed. The score on this train-test partition for these parameters will be set to nan. Details: \n",
      "Traceback (most recent call last):\n",
      "  File \"/home/akhil/anaconda3/lib/python3.9/site-packages/sklearn/model_selection/_validation.py\", line 598, in _fit_and_score\n",
      "    estimator.fit(X_train, y_train, **fit_params)\n",
      "  File \"/home/akhil/anaconda3/lib/python3.9/site-packages/sklearn/ensemble/_forest.py\", line 352, in fit\n",
      "    raise ValueError(\"Out of bag estimation only available\"\n",
      "ValueError: Out of bag estimation only available if bootstrap=True\n",
      "\n",
      "  warnings.warn(\"Estimator fit failed. The score on this train-test\"\n",
      "/home/akhil/anaconda3/lib/python3.9/site-packages/sklearn/model_selection/_validation.py:615: FitFailedWarning: Estimator fit failed. The score on this train-test partition for these parameters will be set to nan. Details: \n",
      "Traceback (most recent call last):\n",
      "  File \"/home/akhil/anaconda3/lib/python3.9/site-packages/sklearn/model_selection/_validation.py\", line 598, in _fit_and_score\n",
      "    estimator.fit(X_train, y_train, **fit_params)\n",
      "  File \"/home/akhil/anaconda3/lib/python3.9/site-packages/sklearn/ensemble/_forest.py\", line 352, in fit\n",
      "    raise ValueError(\"Out of bag estimation only available\"\n",
      "ValueError: Out of bag estimation only available if bootstrap=True\n",
      "\n",
      "  warnings.warn(\"Estimator fit failed. The score on this train-test\"\n",
      "/home/akhil/anaconda3/lib/python3.9/site-packages/sklearn/model_selection/_validation.py:615: FitFailedWarning: Estimator fit failed. The score on this train-test partition for these parameters will be set to nan. Details: \n",
      "Traceback (most recent call last):\n",
      "  File \"/home/akhil/anaconda3/lib/python3.9/site-packages/sklearn/model_selection/_validation.py\", line 598, in _fit_and_score\n",
      "    estimator.fit(X_train, y_train, **fit_params)\n",
      "  File \"/home/akhil/anaconda3/lib/python3.9/site-packages/sklearn/ensemble/_forest.py\", line 352, in fit\n",
      "    raise ValueError(\"Out of bag estimation only available\"\n",
      "ValueError: Out of bag estimation only available if bootstrap=True\n",
      "\n",
      "  warnings.warn(\"Estimator fit failed. The score on this train-test\"\n",
      "/home/akhil/anaconda3/lib/python3.9/site-packages/sklearn/model_selection/_validation.py:615: FitFailedWarning: Estimator fit failed. The score on this train-test partition for these parameters will be set to nan. Details: \n",
      "Traceback (most recent call last):\n",
      "  File \"/home/akhil/anaconda3/lib/python3.9/site-packages/sklearn/model_selection/_validation.py\", line 598, in _fit_and_score\n",
      "    estimator.fit(X_train, y_train, **fit_params)\n",
      "  File \"/home/akhil/anaconda3/lib/python3.9/site-packages/sklearn/ensemble/_forest.py\", line 352, in fit\n",
      "    raise ValueError(\"Out of bag estimation only available\"\n",
      "ValueError: Out of bag estimation only available if bootstrap=True\n",
      "\n",
      "  warnings.warn(\"Estimator fit failed. The score on this train-test\"\n",
      "/home/akhil/anaconda3/lib/python3.9/site-packages/sklearn/model_selection/_validation.py:615: FitFailedWarning: Estimator fit failed. The score on this train-test partition for these parameters will be set to nan. Details: \n",
      "Traceback (most recent call last):\n",
      "  File \"/home/akhil/anaconda3/lib/python3.9/site-packages/sklearn/model_selection/_validation.py\", line 598, in _fit_and_score\n",
      "    estimator.fit(X_train, y_train, **fit_params)\n",
      "  File \"/home/akhil/anaconda3/lib/python3.9/site-packages/sklearn/ensemble/_forest.py\", line 352, in fit\n",
      "    raise ValueError(\"Out of bag estimation only available\"\n",
      "ValueError: Out of bag estimation only available if bootstrap=True\n",
      "\n",
      "  warnings.warn(\"Estimator fit failed. The score on this train-test\"\n",
      "/home/akhil/anaconda3/lib/python3.9/site-packages/sklearn/model_selection/_validation.py:615: FitFailedWarning: Estimator fit failed. The score on this train-test partition for these parameters will be set to nan. Details: \n",
      "Traceback (most recent call last):\n",
      "  File \"/home/akhil/anaconda3/lib/python3.9/site-packages/sklearn/model_selection/_validation.py\", line 598, in _fit_and_score\n",
      "    estimator.fit(X_train, y_train, **fit_params)\n",
      "  File \"/home/akhil/anaconda3/lib/python3.9/site-packages/sklearn/ensemble/_forest.py\", line 352, in fit\n",
      "    raise ValueError(\"Out of bag estimation only available\"\n",
      "ValueError: Out of bag estimation only available if bootstrap=True\n",
      "\n",
      "  warnings.warn(\"Estimator fit failed. The score on this train-test\"\n",
      "/home/akhil/anaconda3/lib/python3.9/site-packages/sklearn/model_selection/_validation.py:615: FitFailedWarning: Estimator fit failed. The score on this train-test partition for these parameters will be set to nan. Details: \n",
      "Traceback (most recent call last):\n",
      "  File \"/home/akhil/anaconda3/lib/python3.9/site-packages/sklearn/model_selection/_validation.py\", line 598, in _fit_and_score\n",
      "    estimator.fit(X_train, y_train, **fit_params)\n",
      "  File \"/home/akhil/anaconda3/lib/python3.9/site-packages/sklearn/ensemble/_forest.py\", line 352, in fit\n",
      "    raise ValueError(\"Out of bag estimation only available\"\n",
      "ValueError: Out of bag estimation only available if bootstrap=True\n",
      "\n",
      "  warnings.warn(\"Estimator fit failed. The score on this train-test\"\n",
      "/home/akhil/anaconda3/lib/python3.9/site-packages/sklearn/model_selection/_validation.py:615: FitFailedWarning: Estimator fit failed. The score on this train-test partition for these parameters will be set to nan. Details: \n",
      "Traceback (most recent call last):\n",
      "  File \"/home/akhil/anaconda3/lib/python3.9/site-packages/sklearn/model_selection/_validation.py\", line 598, in _fit_and_score\n",
      "    estimator.fit(X_train, y_train, **fit_params)\n",
      "  File \"/home/akhil/anaconda3/lib/python3.9/site-packages/sklearn/ensemble/_forest.py\", line 352, in fit\n",
      "    raise ValueError(\"Out of bag estimation only available\"\n",
      "ValueError: Out of bag estimation only available if bootstrap=True\n",
      "\n",
      "  warnings.warn(\"Estimator fit failed. The score on this train-test\"\n"
     ]
    },
    {
     "name": "stderr",
     "output_type": "stream",
     "text": [
      "/home/akhil/anaconda3/lib/python3.9/site-packages/sklearn/model_selection/_validation.py:615: FitFailedWarning: Estimator fit failed. The score on this train-test partition for these parameters will be set to nan. Details: \n",
      "Traceback (most recent call last):\n",
      "  File \"/home/akhil/anaconda3/lib/python3.9/site-packages/sklearn/model_selection/_validation.py\", line 598, in _fit_and_score\n",
      "    estimator.fit(X_train, y_train, **fit_params)\n",
      "  File \"/home/akhil/anaconda3/lib/python3.9/site-packages/sklearn/ensemble/_forest.py\", line 352, in fit\n",
      "    raise ValueError(\"Out of bag estimation only available\"\n",
      "ValueError: Out of bag estimation only available if bootstrap=True\n",
      "\n",
      "  warnings.warn(\"Estimator fit failed. The score on this train-test\"\n",
      "/home/akhil/anaconda3/lib/python3.9/site-packages/sklearn/model_selection/_validation.py:615: FitFailedWarning: Estimator fit failed. The score on this train-test partition for these parameters will be set to nan. Details: \n",
      "Traceback (most recent call last):\n",
      "  File \"/home/akhil/anaconda3/lib/python3.9/site-packages/sklearn/model_selection/_validation.py\", line 598, in _fit_and_score\n",
      "    estimator.fit(X_train, y_train, **fit_params)\n",
      "  File \"/home/akhil/anaconda3/lib/python3.9/site-packages/sklearn/ensemble/_forest.py\", line 352, in fit\n",
      "    raise ValueError(\"Out of bag estimation only available\"\n",
      "ValueError: Out of bag estimation only available if bootstrap=True\n",
      "\n",
      "  warnings.warn(\"Estimator fit failed. The score on this train-test\"\n",
      "/home/akhil/anaconda3/lib/python3.9/site-packages/sklearn/model_selection/_validation.py:615: FitFailedWarning: Estimator fit failed. The score on this train-test partition for these parameters will be set to nan. Details: \n",
      "Traceback (most recent call last):\n",
      "  File \"/home/akhil/anaconda3/lib/python3.9/site-packages/sklearn/model_selection/_validation.py\", line 598, in _fit_and_score\n",
      "    estimator.fit(X_train, y_train, **fit_params)\n",
      "  File \"/home/akhil/anaconda3/lib/python3.9/site-packages/sklearn/ensemble/_forest.py\", line 352, in fit\n",
      "    raise ValueError(\"Out of bag estimation only available\"\n",
      "ValueError: Out of bag estimation only available if bootstrap=True\n",
      "\n",
      "  warnings.warn(\"Estimator fit failed. The score on this train-test\"\n",
      "/home/akhil/anaconda3/lib/python3.9/site-packages/sklearn/model_selection/_validation.py:615: FitFailedWarning: Estimator fit failed. The score on this train-test partition for these parameters will be set to nan. Details: \n",
      "Traceback (most recent call last):\n",
      "  File \"/home/akhil/anaconda3/lib/python3.9/site-packages/sklearn/model_selection/_validation.py\", line 598, in _fit_and_score\n",
      "    estimator.fit(X_train, y_train, **fit_params)\n",
      "  File \"/home/akhil/anaconda3/lib/python3.9/site-packages/sklearn/ensemble/_forest.py\", line 352, in fit\n",
      "    raise ValueError(\"Out of bag estimation only available\"\n",
      "ValueError: Out of bag estimation only available if bootstrap=True\n",
      "\n",
      "  warnings.warn(\"Estimator fit failed. The score on this train-test\"\n",
      "/home/akhil/anaconda3/lib/python3.9/site-packages/sklearn/model_selection/_validation.py:615: FitFailedWarning: Estimator fit failed. The score on this train-test partition for these parameters will be set to nan. Details: \n",
      "Traceback (most recent call last):\n",
      "  File \"/home/akhil/anaconda3/lib/python3.9/site-packages/sklearn/model_selection/_validation.py\", line 598, in _fit_and_score\n",
      "    estimator.fit(X_train, y_train, **fit_params)\n",
      "  File \"/home/akhil/anaconda3/lib/python3.9/site-packages/sklearn/ensemble/_forest.py\", line 352, in fit\n",
      "    raise ValueError(\"Out of bag estimation only available\"\n",
      "ValueError: Out of bag estimation only available if bootstrap=True\n",
      "\n",
      "  warnings.warn(\"Estimator fit failed. The score on this train-test\"\n",
      "/home/akhil/anaconda3/lib/python3.9/site-packages/sklearn/model_selection/_validation.py:615: FitFailedWarning: Estimator fit failed. The score on this train-test partition for these parameters will be set to nan. Details: \n",
      "Traceback (most recent call last):\n",
      "  File \"/home/akhil/anaconda3/lib/python3.9/site-packages/sklearn/model_selection/_validation.py\", line 598, in _fit_and_score\n",
      "    estimator.fit(X_train, y_train, **fit_params)\n",
      "  File \"/home/akhil/anaconda3/lib/python3.9/site-packages/sklearn/ensemble/_forest.py\", line 352, in fit\n",
      "    raise ValueError(\"Out of bag estimation only available\"\n",
      "ValueError: Out of bag estimation only available if bootstrap=True\n",
      "\n",
      "  warnings.warn(\"Estimator fit failed. The score on this train-test\"\n",
      "/home/akhil/anaconda3/lib/python3.9/site-packages/sklearn/model_selection/_validation.py:615: FitFailedWarning: Estimator fit failed. The score on this train-test partition for these parameters will be set to nan. Details: \n",
      "Traceback (most recent call last):\n",
      "  File \"/home/akhil/anaconda3/lib/python3.9/site-packages/sklearn/model_selection/_validation.py\", line 598, in _fit_and_score\n",
      "    estimator.fit(X_train, y_train, **fit_params)\n",
      "  File \"/home/akhil/anaconda3/lib/python3.9/site-packages/sklearn/ensemble/_forest.py\", line 352, in fit\n",
      "    raise ValueError(\"Out of bag estimation only available\"\n",
      "ValueError: Out of bag estimation only available if bootstrap=True\n",
      "\n",
      "  warnings.warn(\"Estimator fit failed. The score on this train-test\"\n",
      "/home/akhil/anaconda3/lib/python3.9/site-packages/sklearn/model_selection/_validation.py:615: FitFailedWarning: Estimator fit failed. The score on this train-test partition for these parameters will be set to nan. Details: \n",
      "Traceback (most recent call last):\n",
      "  File \"/home/akhil/anaconda3/lib/python3.9/site-packages/sklearn/model_selection/_validation.py\", line 598, in _fit_and_score\n",
      "    estimator.fit(X_train, y_train, **fit_params)\n",
      "  File \"/home/akhil/anaconda3/lib/python3.9/site-packages/sklearn/ensemble/_forest.py\", line 352, in fit\n",
      "    raise ValueError(\"Out of bag estimation only available\"\n",
      "ValueError: Out of bag estimation only available if bootstrap=True\n",
      "\n",
      "  warnings.warn(\"Estimator fit failed. The score on this train-test\"\n",
      "/home/akhil/anaconda3/lib/python3.9/site-packages/sklearn/model_selection/_validation.py:615: FitFailedWarning: Estimator fit failed. The score on this train-test partition for these parameters will be set to nan. Details: \n",
      "Traceback (most recent call last):\n",
      "  File \"/home/akhil/anaconda3/lib/python3.9/site-packages/sklearn/model_selection/_validation.py\", line 598, in _fit_and_score\n",
      "    estimator.fit(X_train, y_train, **fit_params)\n",
      "  File \"/home/akhil/anaconda3/lib/python3.9/site-packages/sklearn/ensemble/_forest.py\", line 352, in fit\n",
      "    raise ValueError(\"Out of bag estimation only available\"\n",
      "ValueError: Out of bag estimation only available if bootstrap=True\n",
      "\n",
      "  warnings.warn(\"Estimator fit failed. The score on this train-test\"\n",
      "/home/akhil/anaconda3/lib/python3.9/site-packages/sklearn/model_selection/_validation.py:615: FitFailedWarning: Estimator fit failed. The score on this train-test partition for these parameters will be set to nan. Details: \n",
      "Traceback (most recent call last):\n",
      "  File \"/home/akhil/anaconda3/lib/python3.9/site-packages/sklearn/model_selection/_validation.py\", line 598, in _fit_and_score\n",
      "    estimator.fit(X_train, y_train, **fit_params)\n",
      "  File \"/home/akhil/anaconda3/lib/python3.9/site-packages/sklearn/ensemble/_forest.py\", line 352, in fit\n",
      "    raise ValueError(\"Out of bag estimation only available\"\n",
      "ValueError: Out of bag estimation only available if bootstrap=True\n",
      "\n",
      "  warnings.warn(\"Estimator fit failed. The score on this train-test\"\n",
      "/home/akhil/anaconda3/lib/python3.9/site-packages/sklearn/model_selection/_validation.py:615: FitFailedWarning: Estimator fit failed. The score on this train-test partition for these parameters will be set to nan. Details: \n",
      "Traceback (most recent call last):\n",
      "  File \"/home/akhil/anaconda3/lib/python3.9/site-packages/sklearn/model_selection/_validation.py\", line 598, in _fit_and_score\n",
      "    estimator.fit(X_train, y_train, **fit_params)\n",
      "  File \"/home/akhil/anaconda3/lib/python3.9/site-packages/sklearn/ensemble/_forest.py\", line 352, in fit\n",
      "    raise ValueError(\"Out of bag estimation only available\"\n",
      "ValueError: Out of bag estimation only available if bootstrap=True\n",
      "\n",
      "  warnings.warn(\"Estimator fit failed. The score on this train-test\"\n",
      "/home/akhil/anaconda3/lib/python3.9/site-packages/sklearn/model_selection/_validation.py:615: FitFailedWarning: Estimator fit failed. The score on this train-test partition for these parameters will be set to nan. Details: \n",
      "Traceback (most recent call last):\n",
      "  File \"/home/akhil/anaconda3/lib/python3.9/site-packages/sklearn/model_selection/_validation.py\", line 598, in _fit_and_score\n",
      "    estimator.fit(X_train, y_train, **fit_params)\n",
      "  File \"/home/akhil/anaconda3/lib/python3.9/site-packages/sklearn/ensemble/_forest.py\", line 352, in fit\n",
      "    raise ValueError(\"Out of bag estimation only available\"\n",
      "ValueError: Out of bag estimation only available if bootstrap=True\n",
      "\n",
      "  warnings.warn(\"Estimator fit failed. The score on this train-test\"\n",
      "/home/akhil/anaconda3/lib/python3.9/site-packages/sklearn/model_selection/_validation.py:615: FitFailedWarning: Estimator fit failed. The score on this train-test partition for these parameters will be set to nan. Details: \n",
      "Traceback (most recent call last):\n",
      "  File \"/home/akhil/anaconda3/lib/python3.9/site-packages/sklearn/model_selection/_validation.py\", line 598, in _fit_and_score\n",
      "    estimator.fit(X_train, y_train, **fit_params)\n",
      "  File \"/home/akhil/anaconda3/lib/python3.9/site-packages/sklearn/ensemble/_forest.py\", line 352, in fit\n",
      "    raise ValueError(\"Out of bag estimation only available\"\n",
      "ValueError: Out of bag estimation only available if bootstrap=True\n",
      "\n",
      "  warnings.warn(\"Estimator fit failed. The score on this train-test\"\n",
      "/home/akhil/anaconda3/lib/python3.9/site-packages/sklearn/model_selection/_validation.py:615: FitFailedWarning: Estimator fit failed. The score on this train-test partition for these parameters will be set to nan. Details: \n",
      "Traceback (most recent call last):\n",
      "  File \"/home/akhil/anaconda3/lib/python3.9/site-packages/sklearn/model_selection/_validation.py\", line 598, in _fit_and_score\n",
      "    estimator.fit(X_train, y_train, **fit_params)\n",
      "  File \"/home/akhil/anaconda3/lib/python3.9/site-packages/sklearn/ensemble/_forest.py\", line 352, in fit\n",
      "    raise ValueError(\"Out of bag estimation only available\"\n",
      "ValueError: Out of bag estimation only available if bootstrap=True\n",
      "\n",
      "  warnings.warn(\"Estimator fit failed. The score on this train-test\"\n",
      "/home/akhil/anaconda3/lib/python3.9/site-packages/sklearn/model_selection/_validation.py:615: FitFailedWarning: Estimator fit failed. The score on this train-test partition for these parameters will be set to nan. Details: \n",
      "Traceback (most recent call last):\n",
      "  File \"/home/akhil/anaconda3/lib/python3.9/site-packages/sklearn/model_selection/_validation.py\", line 598, in _fit_and_score\n",
      "    estimator.fit(X_train, y_train, **fit_params)\n",
      "  File \"/home/akhil/anaconda3/lib/python3.9/site-packages/sklearn/ensemble/_forest.py\", line 352, in fit\n",
      "    raise ValueError(\"Out of bag estimation only available\"\n",
      "ValueError: Out of bag estimation only available if bootstrap=True\n",
      "\n",
      "  warnings.warn(\"Estimator fit failed. The score on this train-test\"\n"
     ]
    },
    {
     "name": "stderr",
     "output_type": "stream",
     "text": [
      "/home/akhil/anaconda3/lib/python3.9/site-packages/sklearn/model_selection/_validation.py:615: FitFailedWarning: Estimator fit failed. The score on this train-test partition for these parameters will be set to nan. Details: \n",
      "Traceback (most recent call last):\n",
      "  File \"/home/akhil/anaconda3/lib/python3.9/site-packages/sklearn/model_selection/_validation.py\", line 598, in _fit_and_score\n",
      "    estimator.fit(X_train, y_train, **fit_params)\n",
      "  File \"/home/akhil/anaconda3/lib/python3.9/site-packages/sklearn/ensemble/_forest.py\", line 352, in fit\n",
      "    raise ValueError(\"Out of bag estimation only available\"\n",
      "ValueError: Out of bag estimation only available if bootstrap=True\n",
      "\n",
      "  warnings.warn(\"Estimator fit failed. The score on this train-test\"\n",
      "/home/akhil/anaconda3/lib/python3.9/site-packages/sklearn/model_selection/_validation.py:615: FitFailedWarning: Estimator fit failed. The score on this train-test partition for these parameters will be set to nan. Details: \n",
      "Traceback (most recent call last):\n",
      "  File \"/home/akhil/anaconda3/lib/python3.9/site-packages/sklearn/model_selection/_validation.py\", line 598, in _fit_and_score\n",
      "    estimator.fit(X_train, y_train, **fit_params)\n",
      "  File \"/home/akhil/anaconda3/lib/python3.9/site-packages/sklearn/ensemble/_forest.py\", line 352, in fit\n",
      "    raise ValueError(\"Out of bag estimation only available\"\n",
      "ValueError: Out of bag estimation only available if bootstrap=True\n",
      "\n",
      "  warnings.warn(\"Estimator fit failed. The score on this train-test\"\n",
      "/home/akhil/anaconda3/lib/python3.9/site-packages/sklearn/model_selection/_validation.py:615: FitFailedWarning: Estimator fit failed. The score on this train-test partition for these parameters will be set to nan. Details: \n",
      "Traceback (most recent call last):\n",
      "  File \"/home/akhil/anaconda3/lib/python3.9/site-packages/sklearn/model_selection/_validation.py\", line 598, in _fit_and_score\n",
      "    estimator.fit(X_train, y_train, **fit_params)\n",
      "  File \"/home/akhil/anaconda3/lib/python3.9/site-packages/sklearn/ensemble/_forest.py\", line 352, in fit\n",
      "    raise ValueError(\"Out of bag estimation only available\"\n",
      "ValueError: Out of bag estimation only available if bootstrap=True\n",
      "\n",
      "  warnings.warn(\"Estimator fit failed. The score on this train-test\"\n",
      "/home/akhil/anaconda3/lib/python3.9/site-packages/sklearn/model_selection/_validation.py:615: FitFailedWarning: Estimator fit failed. The score on this train-test partition for these parameters will be set to nan. Details: \n",
      "Traceback (most recent call last):\n",
      "  File \"/home/akhil/anaconda3/lib/python3.9/site-packages/sklearn/model_selection/_validation.py\", line 598, in _fit_and_score\n",
      "    estimator.fit(X_train, y_train, **fit_params)\n",
      "  File \"/home/akhil/anaconda3/lib/python3.9/site-packages/sklearn/ensemble/_forest.py\", line 352, in fit\n",
      "    raise ValueError(\"Out of bag estimation only available\"\n",
      "ValueError: Out of bag estimation only available if bootstrap=True\n",
      "\n",
      "  warnings.warn(\"Estimator fit failed. The score on this train-test\"\n",
      "/home/akhil/anaconda3/lib/python3.9/site-packages/sklearn/model_selection/_validation.py:615: FitFailedWarning: Estimator fit failed. The score on this train-test partition for these parameters will be set to nan. Details: \n",
      "Traceback (most recent call last):\n",
      "  File \"/home/akhil/anaconda3/lib/python3.9/site-packages/sklearn/model_selection/_validation.py\", line 598, in _fit_and_score\n",
      "    estimator.fit(X_train, y_train, **fit_params)\n",
      "  File \"/home/akhil/anaconda3/lib/python3.9/site-packages/sklearn/ensemble/_forest.py\", line 352, in fit\n",
      "    raise ValueError(\"Out of bag estimation only available\"\n",
      "ValueError: Out of bag estimation only available if bootstrap=True\n",
      "\n",
      "  warnings.warn(\"Estimator fit failed. The score on this train-test\"\n",
      "/home/akhil/anaconda3/lib/python3.9/site-packages/sklearn/model_selection/_validation.py:615: FitFailedWarning: Estimator fit failed. The score on this train-test partition for these parameters will be set to nan. Details: \n",
      "Traceback (most recent call last):\n",
      "  File \"/home/akhil/anaconda3/lib/python3.9/site-packages/sklearn/model_selection/_validation.py\", line 598, in _fit_and_score\n",
      "    estimator.fit(X_train, y_train, **fit_params)\n",
      "  File \"/home/akhil/anaconda3/lib/python3.9/site-packages/sklearn/ensemble/_forest.py\", line 352, in fit\n",
      "    raise ValueError(\"Out of bag estimation only available\"\n",
      "ValueError: Out of bag estimation only available if bootstrap=True\n",
      "\n",
      "  warnings.warn(\"Estimator fit failed. The score on this train-test\"\n",
      "/home/akhil/anaconda3/lib/python3.9/site-packages/sklearn/model_selection/_validation.py:615: FitFailedWarning: Estimator fit failed. The score on this train-test partition for these parameters will be set to nan. Details: \n",
      "Traceback (most recent call last):\n",
      "  File \"/home/akhil/anaconda3/lib/python3.9/site-packages/sklearn/model_selection/_validation.py\", line 598, in _fit_and_score\n",
      "    estimator.fit(X_train, y_train, **fit_params)\n",
      "  File \"/home/akhil/anaconda3/lib/python3.9/site-packages/sklearn/ensemble/_forest.py\", line 352, in fit\n",
      "    raise ValueError(\"Out of bag estimation only available\"\n",
      "ValueError: Out of bag estimation only available if bootstrap=True\n",
      "\n",
      "  warnings.warn(\"Estimator fit failed. The score on this train-test\"\n",
      "/home/akhil/anaconda3/lib/python3.9/site-packages/sklearn/model_selection/_validation.py:615: FitFailedWarning: Estimator fit failed. The score on this train-test partition for these parameters will be set to nan. Details: \n",
      "Traceback (most recent call last):\n",
      "  File \"/home/akhil/anaconda3/lib/python3.9/site-packages/sklearn/model_selection/_validation.py\", line 598, in _fit_and_score\n",
      "    estimator.fit(X_train, y_train, **fit_params)\n",
      "  File \"/home/akhil/anaconda3/lib/python3.9/site-packages/sklearn/ensemble/_forest.py\", line 352, in fit\n",
      "    raise ValueError(\"Out of bag estimation only available\"\n",
      "ValueError: Out of bag estimation only available if bootstrap=True\n",
      "\n",
      "  warnings.warn(\"Estimator fit failed. The score on this train-test\"\n",
      "/home/akhil/anaconda3/lib/python3.9/site-packages/sklearn/model_selection/_validation.py:615: FitFailedWarning: Estimator fit failed. The score on this train-test partition for these parameters will be set to nan. Details: \n",
      "Traceback (most recent call last):\n",
      "  File \"/home/akhil/anaconda3/lib/python3.9/site-packages/sklearn/model_selection/_validation.py\", line 598, in _fit_and_score\n",
      "    estimator.fit(X_train, y_train, **fit_params)\n",
      "  File \"/home/akhil/anaconda3/lib/python3.9/site-packages/sklearn/ensemble/_forest.py\", line 352, in fit\n",
      "    raise ValueError(\"Out of bag estimation only available\"\n",
      "ValueError: Out of bag estimation only available if bootstrap=True\n",
      "\n",
      "  warnings.warn(\"Estimator fit failed. The score on this train-test\"\n",
      "/home/akhil/anaconda3/lib/python3.9/site-packages/sklearn/model_selection/_validation.py:615: FitFailedWarning: Estimator fit failed. The score on this train-test partition for these parameters will be set to nan. Details: \n",
      "Traceback (most recent call last):\n",
      "  File \"/home/akhil/anaconda3/lib/python3.9/site-packages/sklearn/model_selection/_validation.py\", line 598, in _fit_and_score\n",
      "    estimator.fit(X_train, y_train, **fit_params)\n",
      "  File \"/home/akhil/anaconda3/lib/python3.9/site-packages/sklearn/ensemble/_forest.py\", line 352, in fit\n",
      "    raise ValueError(\"Out of bag estimation only available\"\n",
      "ValueError: Out of bag estimation only available if bootstrap=True\n",
      "\n",
      "  warnings.warn(\"Estimator fit failed. The score on this train-test\"\n",
      "/home/akhil/anaconda3/lib/python3.9/site-packages/sklearn/model_selection/_validation.py:615: FitFailedWarning: Estimator fit failed. The score on this train-test partition for these parameters will be set to nan. Details: \n",
      "Traceback (most recent call last):\n",
      "  File \"/home/akhil/anaconda3/lib/python3.9/site-packages/sklearn/model_selection/_validation.py\", line 598, in _fit_and_score\n",
      "    estimator.fit(X_train, y_train, **fit_params)\n",
      "  File \"/home/akhil/anaconda3/lib/python3.9/site-packages/sklearn/ensemble/_forest.py\", line 352, in fit\n",
      "    raise ValueError(\"Out of bag estimation only available\"\n",
      "ValueError: Out of bag estimation only available if bootstrap=True\n",
      "\n",
      "  warnings.warn(\"Estimator fit failed. The score on this train-test\"\n",
      "/home/akhil/anaconda3/lib/python3.9/site-packages/sklearn/model_selection/_validation.py:615: FitFailedWarning: Estimator fit failed. The score on this train-test partition for these parameters will be set to nan. Details: \n",
      "Traceback (most recent call last):\n",
      "  File \"/home/akhil/anaconda3/lib/python3.9/site-packages/sklearn/model_selection/_validation.py\", line 598, in _fit_and_score\n",
      "    estimator.fit(X_train, y_train, **fit_params)\n",
      "  File \"/home/akhil/anaconda3/lib/python3.9/site-packages/sklearn/ensemble/_forest.py\", line 352, in fit\n",
      "    raise ValueError(\"Out of bag estimation only available\"\n",
      "ValueError: Out of bag estimation only available if bootstrap=True\n",
      "\n",
      "  warnings.warn(\"Estimator fit failed. The score on this train-test\"\n",
      "/home/akhil/anaconda3/lib/python3.9/site-packages/sklearn/model_selection/_validation.py:615: FitFailedWarning: Estimator fit failed. The score on this train-test partition for these parameters will be set to nan. Details: \n",
      "Traceback (most recent call last):\n",
      "  File \"/home/akhil/anaconda3/lib/python3.9/site-packages/sklearn/model_selection/_validation.py\", line 598, in _fit_and_score\n",
      "    estimator.fit(X_train, y_train, **fit_params)\n",
      "  File \"/home/akhil/anaconda3/lib/python3.9/site-packages/sklearn/ensemble/_forest.py\", line 352, in fit\n",
      "    raise ValueError(\"Out of bag estimation only available\"\n",
      "ValueError: Out of bag estimation only available if bootstrap=True\n",
      "\n",
      "  warnings.warn(\"Estimator fit failed. The score on this train-test\"\n",
      "/home/akhil/anaconda3/lib/python3.9/site-packages/sklearn/model_selection/_validation.py:615: FitFailedWarning: Estimator fit failed. The score on this train-test partition for these parameters will be set to nan. Details: \n",
      "Traceback (most recent call last):\n",
      "  File \"/home/akhil/anaconda3/lib/python3.9/site-packages/sklearn/model_selection/_validation.py\", line 598, in _fit_and_score\n",
      "    estimator.fit(X_train, y_train, **fit_params)\n",
      "  File \"/home/akhil/anaconda3/lib/python3.9/site-packages/sklearn/ensemble/_forest.py\", line 352, in fit\n",
      "    raise ValueError(\"Out of bag estimation only available\"\n",
      "ValueError: Out of bag estimation only available if bootstrap=True\n",
      "\n",
      "  warnings.warn(\"Estimator fit failed. The score on this train-test\"\n",
      "/home/akhil/anaconda3/lib/python3.9/site-packages/sklearn/model_selection/_validation.py:615: FitFailedWarning: Estimator fit failed. The score on this train-test partition for these parameters will be set to nan. Details: \n",
      "Traceback (most recent call last):\n",
      "  File \"/home/akhil/anaconda3/lib/python3.9/site-packages/sklearn/model_selection/_validation.py\", line 598, in _fit_and_score\n",
      "    estimator.fit(X_train, y_train, **fit_params)\n",
      "  File \"/home/akhil/anaconda3/lib/python3.9/site-packages/sklearn/ensemble/_forest.py\", line 352, in fit\n",
      "    raise ValueError(\"Out of bag estimation only available\"\n",
      "ValueError: Out of bag estimation only available if bootstrap=True\n",
      "\n",
      "  warnings.warn(\"Estimator fit failed. The score on this train-test\"\n"
     ]
    },
    {
     "name": "stderr",
     "output_type": "stream",
     "text": [
      "/home/akhil/anaconda3/lib/python3.9/site-packages/sklearn/model_selection/_validation.py:615: FitFailedWarning: Estimator fit failed. The score on this train-test partition for these parameters will be set to nan. Details: \n",
      "Traceback (most recent call last):\n",
      "  File \"/home/akhil/anaconda3/lib/python3.9/site-packages/sklearn/model_selection/_validation.py\", line 598, in _fit_and_score\n",
      "    estimator.fit(X_train, y_train, **fit_params)\n",
      "  File \"/home/akhil/anaconda3/lib/python3.9/site-packages/sklearn/ensemble/_forest.py\", line 352, in fit\n",
      "    raise ValueError(\"Out of bag estimation only available\"\n",
      "ValueError: Out of bag estimation only available if bootstrap=True\n",
      "\n",
      "  warnings.warn(\"Estimator fit failed. The score on this train-test\"\n",
      "/home/akhil/anaconda3/lib/python3.9/site-packages/sklearn/model_selection/_validation.py:615: FitFailedWarning: Estimator fit failed. The score on this train-test partition for these parameters will be set to nan. Details: \n",
      "Traceback (most recent call last):\n",
      "  File \"/home/akhil/anaconda3/lib/python3.9/site-packages/sklearn/model_selection/_validation.py\", line 598, in _fit_and_score\n",
      "    estimator.fit(X_train, y_train, **fit_params)\n",
      "  File \"/home/akhil/anaconda3/lib/python3.9/site-packages/sklearn/ensemble/_forest.py\", line 352, in fit\n",
      "    raise ValueError(\"Out of bag estimation only available\"\n",
      "ValueError: Out of bag estimation only available if bootstrap=True\n",
      "\n",
      "  warnings.warn(\"Estimator fit failed. The score on this train-test\"\n",
      "/home/akhil/anaconda3/lib/python3.9/site-packages/sklearn/model_selection/_validation.py:615: FitFailedWarning: Estimator fit failed. The score on this train-test partition for these parameters will be set to nan. Details: \n",
      "Traceback (most recent call last):\n",
      "  File \"/home/akhil/anaconda3/lib/python3.9/site-packages/sklearn/model_selection/_validation.py\", line 598, in _fit_and_score\n",
      "    estimator.fit(X_train, y_train, **fit_params)\n",
      "  File \"/home/akhil/anaconda3/lib/python3.9/site-packages/sklearn/ensemble/_forest.py\", line 352, in fit\n",
      "    raise ValueError(\"Out of bag estimation only available\"\n",
      "ValueError: Out of bag estimation only available if bootstrap=True\n",
      "\n",
      "  warnings.warn(\"Estimator fit failed. The score on this train-test\"\n",
      "/home/akhil/anaconda3/lib/python3.9/site-packages/sklearn/model_selection/_validation.py:615: FitFailedWarning: Estimator fit failed. The score on this train-test partition for these parameters will be set to nan. Details: \n",
      "Traceback (most recent call last):\n",
      "  File \"/home/akhil/anaconda3/lib/python3.9/site-packages/sklearn/model_selection/_validation.py\", line 598, in _fit_and_score\n",
      "    estimator.fit(X_train, y_train, **fit_params)\n",
      "  File \"/home/akhil/anaconda3/lib/python3.9/site-packages/sklearn/ensemble/_forest.py\", line 352, in fit\n",
      "    raise ValueError(\"Out of bag estimation only available\"\n",
      "ValueError: Out of bag estimation only available if bootstrap=True\n",
      "\n",
      "  warnings.warn(\"Estimator fit failed. The score on this train-test\"\n",
      "/home/akhil/anaconda3/lib/python3.9/site-packages/sklearn/model_selection/_validation.py:615: FitFailedWarning: Estimator fit failed. The score on this train-test partition for these parameters will be set to nan. Details: \n",
      "Traceback (most recent call last):\n",
      "  File \"/home/akhil/anaconda3/lib/python3.9/site-packages/sklearn/model_selection/_validation.py\", line 598, in _fit_and_score\n",
      "    estimator.fit(X_train, y_train, **fit_params)\n",
      "  File \"/home/akhil/anaconda3/lib/python3.9/site-packages/sklearn/ensemble/_forest.py\", line 352, in fit\n",
      "    raise ValueError(\"Out of bag estimation only available\"\n",
      "ValueError: Out of bag estimation only available if bootstrap=True\n",
      "\n",
      "  warnings.warn(\"Estimator fit failed. The score on this train-test\"\n",
      "/home/akhil/anaconda3/lib/python3.9/site-packages/sklearn/model_selection/_validation.py:615: FitFailedWarning: Estimator fit failed. The score on this train-test partition for these parameters will be set to nan. Details: \n",
      "Traceback (most recent call last):\n",
      "  File \"/home/akhil/anaconda3/lib/python3.9/site-packages/sklearn/model_selection/_validation.py\", line 598, in _fit_and_score\n",
      "    estimator.fit(X_train, y_train, **fit_params)\n",
      "  File \"/home/akhil/anaconda3/lib/python3.9/site-packages/sklearn/ensemble/_forest.py\", line 352, in fit\n",
      "    raise ValueError(\"Out of bag estimation only available\"\n",
      "ValueError: Out of bag estimation only available if bootstrap=True\n",
      "\n",
      "  warnings.warn(\"Estimator fit failed. The score on this train-test\"\n",
      "/home/akhil/anaconda3/lib/python3.9/site-packages/sklearn/model_selection/_validation.py:615: FitFailedWarning: Estimator fit failed. The score on this train-test partition for these parameters will be set to nan. Details: \n",
      "Traceback (most recent call last):\n",
      "  File \"/home/akhil/anaconda3/lib/python3.9/site-packages/sklearn/model_selection/_validation.py\", line 598, in _fit_and_score\n",
      "    estimator.fit(X_train, y_train, **fit_params)\n",
      "  File \"/home/akhil/anaconda3/lib/python3.9/site-packages/sklearn/ensemble/_forest.py\", line 352, in fit\n",
      "    raise ValueError(\"Out of bag estimation only available\"\n",
      "ValueError: Out of bag estimation only available if bootstrap=True\n",
      "\n",
      "  warnings.warn(\"Estimator fit failed. The score on this train-test\"\n",
      "/home/akhil/anaconda3/lib/python3.9/site-packages/sklearn/model_selection/_validation.py:615: FitFailedWarning: Estimator fit failed. The score on this train-test partition for these parameters will be set to nan. Details: \n",
      "Traceback (most recent call last):\n",
      "  File \"/home/akhil/anaconda3/lib/python3.9/site-packages/sklearn/model_selection/_validation.py\", line 598, in _fit_and_score\n",
      "    estimator.fit(X_train, y_train, **fit_params)\n",
      "  File \"/home/akhil/anaconda3/lib/python3.9/site-packages/sklearn/ensemble/_forest.py\", line 352, in fit\n",
      "    raise ValueError(\"Out of bag estimation only available\"\n",
      "ValueError: Out of bag estimation only available if bootstrap=True\n",
      "\n",
      "  warnings.warn(\"Estimator fit failed. The score on this train-test\"\n",
      "/home/akhil/anaconda3/lib/python3.9/site-packages/sklearn/model_selection/_validation.py:615: FitFailedWarning: Estimator fit failed. The score on this train-test partition for these parameters will be set to nan. Details: \n",
      "Traceback (most recent call last):\n",
      "  File \"/home/akhil/anaconda3/lib/python3.9/site-packages/sklearn/model_selection/_validation.py\", line 598, in _fit_and_score\n",
      "    estimator.fit(X_train, y_train, **fit_params)\n",
      "  File \"/home/akhil/anaconda3/lib/python3.9/site-packages/sklearn/ensemble/_forest.py\", line 352, in fit\n",
      "    raise ValueError(\"Out of bag estimation only available\"\n",
      "ValueError: Out of bag estimation only available if bootstrap=True\n",
      "\n",
      "  warnings.warn(\"Estimator fit failed. The score on this train-test\"\n",
      "/home/akhil/anaconda3/lib/python3.9/site-packages/sklearn/model_selection/_validation.py:615: FitFailedWarning: Estimator fit failed. The score on this train-test partition for these parameters will be set to nan. Details: \n",
      "Traceback (most recent call last):\n",
      "  File \"/home/akhil/anaconda3/lib/python3.9/site-packages/sklearn/model_selection/_validation.py\", line 598, in _fit_and_score\n",
      "    estimator.fit(X_train, y_train, **fit_params)\n",
      "  File \"/home/akhil/anaconda3/lib/python3.9/site-packages/sklearn/ensemble/_forest.py\", line 352, in fit\n",
      "    raise ValueError(\"Out of bag estimation only available\"\n",
      "ValueError: Out of bag estimation only available if bootstrap=True\n",
      "\n",
      "  warnings.warn(\"Estimator fit failed. The score on this train-test\"\n",
      "/home/akhil/anaconda3/lib/python3.9/site-packages/sklearn/model_selection/_validation.py:615: FitFailedWarning: Estimator fit failed. The score on this train-test partition for these parameters will be set to nan. Details: \n",
      "Traceback (most recent call last):\n",
      "  File \"/home/akhil/anaconda3/lib/python3.9/site-packages/sklearn/model_selection/_validation.py\", line 598, in _fit_and_score\n",
      "    estimator.fit(X_train, y_train, **fit_params)\n",
      "  File \"/home/akhil/anaconda3/lib/python3.9/site-packages/sklearn/ensemble/_forest.py\", line 352, in fit\n",
      "    raise ValueError(\"Out of bag estimation only available\"\n",
      "ValueError: Out of bag estimation only available if bootstrap=True\n",
      "\n",
      "  warnings.warn(\"Estimator fit failed. The score on this train-test\"\n",
      "/home/akhil/anaconda3/lib/python3.9/site-packages/sklearn/model_selection/_validation.py:615: FitFailedWarning: Estimator fit failed. The score on this train-test partition for these parameters will be set to nan. Details: \n",
      "Traceback (most recent call last):\n",
      "  File \"/home/akhil/anaconda3/lib/python3.9/site-packages/sklearn/model_selection/_validation.py\", line 598, in _fit_and_score\n",
      "    estimator.fit(X_train, y_train, **fit_params)\n",
      "  File \"/home/akhil/anaconda3/lib/python3.9/site-packages/sklearn/ensemble/_forest.py\", line 352, in fit\n",
      "    raise ValueError(\"Out of bag estimation only available\"\n",
      "ValueError: Out of bag estimation only available if bootstrap=True\n",
      "\n",
      "  warnings.warn(\"Estimator fit failed. The score on this train-test\"\n",
      "/home/akhil/anaconda3/lib/python3.9/site-packages/sklearn/model_selection/_validation.py:615: FitFailedWarning: Estimator fit failed. The score on this train-test partition for these parameters will be set to nan. Details: \n",
      "Traceback (most recent call last):\n",
      "  File \"/home/akhil/anaconda3/lib/python3.9/site-packages/sklearn/model_selection/_validation.py\", line 598, in _fit_and_score\n",
      "    estimator.fit(X_train, y_train, **fit_params)\n",
      "  File \"/home/akhil/anaconda3/lib/python3.9/site-packages/sklearn/ensemble/_forest.py\", line 352, in fit\n",
      "    raise ValueError(\"Out of bag estimation only available\"\n",
      "ValueError: Out of bag estimation only available if bootstrap=True\n",
      "\n",
      "  warnings.warn(\"Estimator fit failed. The score on this train-test\"\n",
      "/home/akhil/anaconda3/lib/python3.9/site-packages/sklearn/model_selection/_validation.py:615: FitFailedWarning: Estimator fit failed. The score on this train-test partition for these parameters will be set to nan. Details: \n",
      "Traceback (most recent call last):\n",
      "  File \"/home/akhil/anaconda3/lib/python3.9/site-packages/sklearn/model_selection/_validation.py\", line 598, in _fit_and_score\n",
      "    estimator.fit(X_train, y_train, **fit_params)\n",
      "  File \"/home/akhil/anaconda3/lib/python3.9/site-packages/sklearn/ensemble/_forest.py\", line 352, in fit\n",
      "    raise ValueError(\"Out of bag estimation only available\"\n",
      "ValueError: Out of bag estimation only available if bootstrap=True\n",
      "\n",
      "  warnings.warn(\"Estimator fit failed. The score on this train-test\"\n",
      "/home/akhil/anaconda3/lib/python3.9/site-packages/sklearn/model_selection/_validation.py:615: FitFailedWarning: Estimator fit failed. The score on this train-test partition for these parameters will be set to nan. Details: \n",
      "Traceback (most recent call last):\n",
      "  File \"/home/akhil/anaconda3/lib/python3.9/site-packages/sklearn/model_selection/_validation.py\", line 598, in _fit_and_score\n",
      "    estimator.fit(X_train, y_train, **fit_params)\n",
      "  File \"/home/akhil/anaconda3/lib/python3.9/site-packages/sklearn/ensemble/_forest.py\", line 352, in fit\n",
      "    raise ValueError(\"Out of bag estimation only available\"\n",
      "ValueError: Out of bag estimation only available if bootstrap=True\n",
      "\n",
      "  warnings.warn(\"Estimator fit failed. The score on this train-test\"\n"
     ]
    },
    {
     "name": "stderr",
     "output_type": "stream",
     "text": [
      "/home/akhil/anaconda3/lib/python3.9/site-packages/sklearn/model_selection/_search.py:922: UserWarning: One or more of the test scores are non-finite: [0.79578659 0.79343365 0.78872777 0.78870041 0.78402189 0.80046512\n",
      " 0.78872777 0.79343365 0.77934337 0.78875513 0.79346101 0.78870041\n",
      " 0.79340629 0.805171   0.79108071 0.78640219 0.78402189 0.78870041\n",
      " 0.79105335 0.80284542 0.78637483 0.79578659 0.77934337 0.78875513\n",
      "        nan 0.77696306        nan 0.78872777        nan 0.79578659\n",
      "        nan 0.78870041        nan 0.79346101        nan 0.79578659\n",
      "        nan 0.79343365        nan 0.79575923        nan 0.79105335\n",
      "        nan 0.79110807        nan 0.78870041        nan 0.77934337]\n",
      "  warnings.warn(\n"
     ]
    },
    {
     "data": {
      "text/plain": [
       "GridSearchCV(estimator=RandomForestClassifier(),\n",
       "             param_grid={'bootstrap': [True, False], 'max_features': [2, 3, 4],\n",
       "                         'n_estimators': [64, 100, 120, 200],\n",
       "                         'oob_score': [True, False]})"
      ]
     },
     "execution_count": 193,
     "metadata": {},
     "output_type": "execute_result"
    }
   ],
   "source": [
    "grid.fit(X_train_scaled,y_train)"
   ]
  },
  {
   "cell_type": "code",
   "execution_count": 194,
   "id": "8b521c81",
   "metadata": {},
   "outputs": [
    {
     "data": {
      "text/plain": [
       "{'bootstrap': True, 'max_features': 3, 'n_estimators': 120, 'oob_score': False}"
      ]
     },
     "execution_count": 194,
     "metadata": {},
     "output_type": "execute_result"
    }
   ],
   "source": [
    "grid.best_params_"
   ]
  },
  {
   "cell_type": "code",
   "execution_count": 195,
   "id": "de871d6c",
   "metadata": {},
   "outputs": [],
   "source": [
    "\n",
    "rfc=RandomForestClassifier(max_features=4,n_estimators=100,oob_score=True)"
   ]
  },
  {
   "cell_type": "code",
   "execution_count": 196,
   "id": "1f4309ee",
   "metadata": {},
   "outputs": [
    {
     "data": {
      "text/plain": [
       "RandomForestClassifier(max_features=4, oob_score=True)"
      ]
     },
     "execution_count": 196,
     "metadata": {},
     "output_type": "execute_result"
    }
   ],
   "source": [
    "rfc.fit(X_train_scaled,y_train)"
   ]
  },
  {
   "cell_type": "code",
   "execution_count": 197,
   "id": "13f6966c",
   "metadata": {},
   "outputs": [],
   "source": [
    "y_train_pred = rfc.predict(X_train_scaled) "
   ]
  },
  {
   "cell_type": "code",
   "execution_count": 198,
   "id": "56b6722b",
   "metadata": {},
   "outputs": [
    {
     "data": {
      "text/plain": [
       "1.0"
      ]
     },
     "execution_count": 198,
     "metadata": {},
     "output_type": "execute_result"
    }
   ],
   "source": [
    "metrics.accuracy_score(y_train, y_train_pred) "
   ]
  },
  {
   "cell_type": "code",
   "execution_count": 199,
   "id": "0d4e1c3d",
   "metadata": {},
   "outputs": [
    {
     "data": {
      "text/plain": [
       "0.7793427230046949"
      ]
     },
     "execution_count": 199,
     "metadata": {},
     "output_type": "execute_result"
    }
   ],
   "source": [
    "rfc.oob_score_"
   ]
  },
  {
   "cell_type": "code",
   "execution_count": 200,
   "id": "5f0190fe",
   "metadata": {},
   "outputs": [],
   "source": [
    "prediction= rfc.predict(X_test_scaled)"
   ]
  },
  {
   "cell_type": "code",
   "execution_count": 201,
   "id": "00e0ef69",
   "metadata": {},
   "outputs": [
    {
     "name": "stdout",
     "output_type": "stream",
     "text": [
      "              precision    recall  f1-score   support\n",
      "\n",
      "           N       1.00      1.00      1.00       133\n",
      "           Y       1.00      1.00      1.00       293\n",
      "\n",
      "    accuracy                           1.00       426\n",
      "   macro avg       1.00      1.00      1.00       426\n",
      "weighted avg       1.00      1.00      1.00       426\n",
      "\n"
     ]
    }
   ],
   "source": [
    "print(classification_report(y_train,y_train_pred)) ##Training Table"
   ]
  },
  {
   "cell_type": "code",
   "execution_count": 202,
   "id": "bfa3e643",
   "metadata": {},
   "outputs": [
    {
     "name": "stdout",
     "output_type": "stream",
     "text": [
      "              precision    recall  f1-score   support\n",
      "\n",
      "           N       0.64      0.64      0.64        11\n",
      "           Y       0.89      0.89      0.89        37\n",
      "\n",
      "    accuracy                           0.83        48\n",
      "   macro avg       0.76      0.76      0.76        48\n",
      "weighted avg       0.83      0.83      0.83        48\n",
      "\n"
     ]
    }
   ],
   "source": [
    "print(classification_report(y_test,prediction))"
   ]
  },
  {
   "cell_type": "code",
   "execution_count": 203,
   "id": "1ddb849a",
   "metadata": {},
   "outputs": [
    {
     "data": {
      "text/plain": [
       "<sklearn.metrics._plot.confusion_matrix.ConfusionMatrixDisplay at 0x7f06584b76a0>"
      ]
     },
     "execution_count": 203,
     "metadata": {},
     "output_type": "execute_result"
    },
    {
     "data": {
      "image/png": "[encoded data removed]",
      "text/plain": [
       "<Figure size 432x288 with 2 Axes>"
      ]
     },
     "metadata": {
      "needs_background": "light"
     },
     "output_type": "display_data"
    }
   ],
   "source": [
    "plot_confusion_matrix(rfc,X_test_scaled,y_test)"
   ]
  },
  {
   "cell_type": "markdown",
   "id": "4707e211",
   "metadata": {},
   "source": [
    "- Getting Overfitted"
   ]
  },
  {
   "cell_type": "markdown",
   "id": "fbb0231e",
   "metadata": {},
   "source": [
    "##  Boosted Random Forest"
   ]
  },
  {
   "cell_type": "code",
   "execution_count": 204,
   "id": "2b8fc168",
   "metadata": {},
   "outputs": [],
   "source": [
    "from sklearn.ensemble import GradientBoostingClassifier,AdaBoostClassifier"
   ]
  },
  {
   "cell_type": "code",
   "execution_count": 205,
   "id": "761942f6",
   "metadata": {},
   "outputs": [],
   "source": [
    "ada_model = AdaBoostClassifier()"
   ]
  },
  {
   "cell_type": "code",
   "execution_count": 206,
   "id": "15d5353c",
   "metadata": {},
   "outputs": [],
   "source": [
    "gb_model= GradientBoostingClassifier()"
   ]
  },
  {
   "cell_type": "code",
   "execution_count": 207,
   "id": "ba4cd13f",
   "metadata": {},
   "outputs": [
    {
     "data": {
      "text/plain": [
       "AdaBoostClassifier()"
      ]
     },
     "execution_count": 207,
     "metadata": {},
     "output_type": "execute_result"
    }
   ],
   "source": [
    "ada_model.fit(X_train_scaled,y_train)"
   ]
  },
  {
   "cell_type": "code",
   "execution_count": 208,
   "id": "65075dee",
   "metadata": {},
   "outputs": [],
   "source": [
    "y_train_pred = ada_model.predict(X_train_scaled) "
   ]
  },
  {
   "cell_type": "code",
   "execution_count": 209,
   "id": "fa5acfd0",
   "metadata": {},
   "outputs": [
    {
     "data": {
      "text/plain": [
       "0.8568075117370892"
      ]
     },
     "execution_count": 209,
     "metadata": {},
     "output_type": "execute_result"
    }
   ],
   "source": [
    "metrics.accuracy_score(y_train, y_train_pred) "
   ]
  },
  {
   "cell_type": "code",
   "execution_count": 210,
   "id": "d9fb08bf",
   "metadata": {},
   "outputs": [
    {
     "data": {
      "text/plain": [
       "GradientBoostingClassifier()"
      ]
     },
     "execution_count": 210,
     "metadata": {},
     "output_type": "execute_result"
    }
   ],
   "source": [
    "gb_model.fit(X_train_scaled,y_train)"
   ]
  },
  {
   "cell_type": "code",
   "execution_count": 211,
   "id": "38497460",
   "metadata": {},
   "outputs": [],
   "source": [
    "y_train_pred_gb= gb_model.predict(X_train_scaled) "
   ]
  },
  {
   "cell_type": "code",
   "execution_count": 212,
   "id": "fa50a37c",
   "metadata": {},
   "outputs": [
    {
     "data": {
      "text/plain": [
       "0.9131455399061033"
      ]
     },
     "execution_count": 212,
     "metadata": {},
     "output_type": "execute_result"
    }
   ],
   "source": [
    "metrics.accuracy_score(y_train, y_train_pred_gb) "
   ]
  },
  {
   "cell_type": "code",
   "execution_count": 213,
   "id": "9f0af4c2",
   "metadata": {},
   "outputs": [],
   "source": [
    "ada_preds = ada_model.predict(X_test_scaled)"
   ]
  },
  {
   "cell_type": "code",
   "execution_count": 214,
   "id": "4a08c008",
   "metadata": {},
   "outputs": [],
   "source": [
    "gb_pred = gb_model.predict(X_test_scaled)"
   ]
  },
  {
   "cell_type": "markdown",
   "id": "b37ccb1c",
   "metadata": {},
   "source": [
    "**Ada boost results**"
   ]
  },
  {
   "cell_type": "code",
   "execution_count": 215,
   "id": "f49f1fcd",
   "metadata": {},
   "outputs": [
    {
     "name": "stdout",
     "output_type": "stream",
     "text": [
      "              precision    recall  f1-score   support\n",
      "\n",
      "           N       0.89      0.62      0.73       133\n",
      "           Y       0.85      0.97      0.90       293\n",
      "\n",
      "    accuracy                           0.86       426\n",
      "   macro avg       0.87      0.79      0.82       426\n",
      "weighted avg       0.86      0.86      0.85       426\n",
      "\n"
     ]
    }
   ],
   "source": [
    "print(classification_report(y_train,y_train_pred)) ##Training Table"
   ]
  },
  {
   "cell_type": "code",
   "execution_count": 216,
   "id": "33e1bec6",
   "metadata": {},
   "outputs": [
    {
     "name": "stdout",
     "output_type": "stream",
     "text": [
      "              precision    recall  f1-score   support\n",
      "\n",
      "           N       0.46      0.55      0.50        11\n",
      "           Y       0.86      0.81      0.83        37\n",
      "\n",
      "    accuracy                           0.75        48\n",
      "   macro avg       0.66      0.68      0.67        48\n",
      "weighted avg       0.77      0.75      0.76        48\n",
      "\n"
     ]
    }
   ],
   "source": [
    "print(classification_report(y_test,ada_preds))"
   ]
  },
  {
   "cell_type": "code",
   "execution_count": 217,
   "id": "fe7f281b",
   "metadata": {},
   "outputs": [
    {
     "data": {
      "text/plain": [
       "<sklearn.metrics._plot.confusion_matrix.ConfusionMatrixDisplay at 0x7f065861b3a0>"
      ]
     },
     "execution_count": 217,
     "metadata": {},
     "output_type": "execute_result"
    },
    {
     "data": {
      "image/png": "[encoded data removed]",
      "text/plain": [
       "<Figure size 432x288 with 2 Axes>"
      ]
     },
     "metadata": {
      "needs_background": "light"
     },
     "output_type": "display_data"
    }
   ],
   "source": [
    "plot_confusion_matrix(ada_model,X_test_scaled,y_test)"
   ]
  },
  {
   "cell_type": "markdown",
   "id": "df9b9329",
   "metadata": {},
   "source": [
    "**Gradient boost results**"
   ]
  },
  {
   "cell_type": "code",
   "execution_count": 218,
   "id": "bd0b5f53",
   "metadata": {},
   "outputs": [
    {
     "name": "stdout",
     "output_type": "stream",
     "text": [
      "              precision    recall  f1-score   support\n",
      "\n",
      "           N       1.00      0.72      0.84       133\n",
      "           Y       0.89      1.00      0.94       293\n",
      "\n",
      "    accuracy                           0.91       426\n",
      "   macro avg       0.94      0.86      0.89       426\n",
      "weighted avg       0.92      0.91      0.91       426\n",
      "\n"
     ]
    }
   ],
   "source": [
    "print(classification_report(y_train,y_train_pred_gb)) ##Training Table"
   ]
  },
  {
   "cell_type": "code",
   "execution_count": 219,
   "id": "2130f483",
   "metadata": {},
   "outputs": [
    {
     "name": "stdout",
     "output_type": "stream",
     "text": [
      "              precision    recall  f1-score   support\n",
      "\n",
      "           N       0.58      0.64      0.61        11\n",
      "           Y       0.89      0.86      0.88        37\n",
      "\n",
      "    accuracy                           0.81        48\n",
      "   macro avg       0.74      0.75      0.74        48\n",
      "weighted avg       0.82      0.81      0.82        48\n",
      "\n"
     ]
    }
   ],
   "source": [
    "print(classification_report(y_test,gb_pred))"
   ]
  },
  {
   "cell_type": "code",
   "execution_count": 220,
   "id": "b8ac1519",
   "metadata": {},
   "outputs": [
    {
     "data": {
      "text/plain": [
       "<sklearn.metrics._plot.confusion_matrix.ConfusionMatrixDisplay at 0x7f065861b220>"
      ]
     },
     "execution_count": 220,
     "metadata": {},
     "output_type": "execute_result"
    },
    {
     "data": {
      "image/png": "[encoded data removed]",
      "text/plain": [
       "<Figure size 432x288 with 2 Axes>"
      ]
     },
     "metadata": {
      "needs_background": "light"
     },
     "output_type": "display_data"
    }
   ],
   "source": [
    "plot_confusion_matrix(gb_model,X_test_scaled,y_test)"
   ]
  },
  {
   "cell_type": "markdown",
   "id": "6a7f7a43",
   "metadata": {},
   "source": [
    "- Gradient model seems performing better"
   ]
  },
  {
   "cell_type": "code",
   "execution_count": null,
   "id": "645d5975",
   "metadata": {},
   "outputs": [],
   "source": []
  }
 ],
 "metadata": {
  "kernelspec": {
   "display_name": "Python 3 (ipykernel)",
   "language": "python",
   "name": "python3"
  },
  "language_info": {
   "codemirror_mode": {
    "name": "ipython",
    "version": 3
   },
   "file_extension": ".py",
   "mimetype": "text/x-python",
   "name": "python",
   "nbconvert_exporter": "python",
   "pygments_lexer": "ipython3",
   "version": "3.9.7"
  }
 },
 "nbformat": 4,
 "nbformat_minor": 5
}
